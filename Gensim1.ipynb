{
  "nbformat": 4,
  "nbformat_minor": 0,
  "metadata": {
    "colab": {
      "name": "Untitled0.ipynb",
      "version": "0.3.2",
      "provenance": [],
      "include_colab_link": true
    },
    "kernelspec": {
      "name": "python3",
      "display_name": "Python 3"
    }
  },
  "cells": [
    {
      "cell_type": "markdown",
      "metadata": {
        "id": "view-in-github",
        "colab_type": "text"
      },
      "source": [
        "<a href=\"https://colab.research.google.com/github/kidane12/-furry-octo-potato/blob/master/Gensim1.ipynb\" target=\"_parent\"><img src=\"https://colab.research.google.com/assets/colab-badge.svg\" alt=\"Open In Colab\"/></a>"
      ]
    },
    {
      "metadata": {
        "id": "Vd-6Q_fzXFhv",
        "colab_type": "code",
        "colab": {
          "base_uri": "https://localhost:8080/",
          "height": 35
        },
        "outputId": "8e391675-f17a-492a-a17d-372456b7930d"
      },
      "cell_type": "code",
      "source": [
        "import numpy as np\n",
        "from sklearn.metrics import jaccard_similarity_score\n",
        "y_pred = [0, 2, 1, 3]\n",
        "y_true = [0, 1, 2, 3]\n",
        "jaccard_similarity_score(y_true, y_pred)\n",
        "jaccard_similarity_score(y_true, y_pred, normalize=False)"
      ],
      "execution_count": 208,
      "outputs": [
        {
          "output_type": "execute_result",
          "data": {
            "text/plain": [
              "2"
            ]
          },
          "metadata": {
            "tags": []
          },
          "execution_count": 208
        }
      ]
    },
    {
      "metadata": {
        "id": "5BTJblGtfDXC",
        "colab_type": "code",
        "colab": {
          "base_uri": "https://localhost:8080/",
          "height": 361
        },
        "outputId": "c1b9d75a-eb2d-4a85-e48d-24c60d41a98b"
      },
      "cell_type": "code",
      "source": [
        "!pip install -U gensim"
      ],
      "execution_count": 209,
      "outputs": [
        {
          "output_type": "stream",
          "text": [
            "Requirement already up-to-date: gensim in /usr/local/lib/python3.6/dist-packages (3.6.0)\n",
            "Requirement already satisfied, skipping upgrade: smart-open>=1.2.1 in /usr/local/lib/python3.6/dist-packages (from gensim) (1.7.1)\n",
            "Requirement already satisfied, skipping upgrade: six>=1.5.0 in /usr/local/lib/python3.6/dist-packages (from gensim) (1.11.0)\n",
            "Requirement already satisfied, skipping upgrade: numpy>=1.11.3 in /usr/local/lib/python3.6/dist-packages (from gensim) (1.14.6)\n",
            "Requirement already satisfied, skipping upgrade: scipy>=0.18.1 in /usr/local/lib/python3.6/dist-packages (from gensim) (1.1.0)\n",
            "Requirement already satisfied, skipping upgrade: bz2file in /usr/local/lib/python3.6/dist-packages (from smart-open>=1.2.1->gensim) (0.98)\n",
            "Requirement already satisfied, skipping upgrade: requests in /usr/local/lib/python3.6/dist-packages (from smart-open>=1.2.1->gensim) (2.18.4)\n",
            "Requirement already satisfied, skipping upgrade: boto>=2.32 in /usr/local/lib/python3.6/dist-packages (from smart-open>=1.2.1->gensim) (2.49.0)\n",
            "Requirement already satisfied, skipping upgrade: boto3 in /usr/local/lib/python3.6/dist-packages (from smart-open>=1.2.1->gensim) (1.9.42)\n",
            "Requirement already satisfied, skipping upgrade: idna<2.7,>=2.5 in /usr/local/lib/python3.6/dist-packages (from requests->smart-open>=1.2.1->gensim) (2.6)\n",
            "Requirement already satisfied, skipping upgrade: chardet<3.1.0,>=3.0.2 in /usr/local/lib/python3.6/dist-packages (from requests->smart-open>=1.2.1->gensim) (3.0.4)\n",
            "Requirement already satisfied, skipping upgrade: urllib3<1.23,>=1.21.1 in /usr/local/lib/python3.6/dist-packages (from requests->smart-open>=1.2.1->gensim) (1.22)\n",
            "Requirement already satisfied, skipping upgrade: certifi>=2017.4.17 in /usr/local/lib/python3.6/dist-packages (from requests->smart-open>=1.2.1->gensim) (2018.10.15)\n",
            "Requirement already satisfied, skipping upgrade: botocore<1.13.0,>=1.12.42 in /usr/local/lib/python3.6/dist-packages (from boto3->smart-open>=1.2.1->gensim) (1.12.42)\n",
            "Requirement already satisfied, skipping upgrade: jmespath<1.0.0,>=0.7.1 in /usr/local/lib/python3.6/dist-packages (from boto3->smart-open>=1.2.1->gensim) (0.9.3)\n",
            "Requirement already satisfied, skipping upgrade: s3transfer<0.2.0,>=0.1.10 in /usr/local/lib/python3.6/dist-packages (from boto3->smart-open>=1.2.1->gensim) (0.1.13)\n",
            "Requirement already satisfied, skipping upgrade: docutils>=0.10 in /usr/local/lib/python3.6/dist-packages (from botocore<1.13.0,>=1.12.42->boto3->smart-open>=1.2.1->gensim) (0.14)\n",
            "Requirement already satisfied, skipping upgrade: python-dateutil<3.0.0,>=2.1; python_version >= \"2.7\" in /usr/local/lib/python3.6/dist-packages (from botocore<1.13.0,>=1.12.42->boto3->smart-open>=1.2.1->gensim) (2.5.3)\n"
          ],
          "name": "stdout"
        }
      ]
    },
    {
      "metadata": {
        "id": "5TxZsmvjfsDE",
        "colab_type": "code",
        "colab": {
          "base_uri": "https://localhost:8080/",
          "height": 55
        },
        "outputId": "4c89de2c-47b5-4a4a-af28-6a76f87f60a9"
      },
      "cell_type": "code",
      "source": [
        "import gensim\n",
        "print(dir(gensim))"
      ],
      "execution_count": 210,
      "outputs": [
        {
          "output_type": "stream",
          "text": [
            "['NullHandler', '__builtins__', '__cached__', '__doc__', '__file__', '__loader__', '__name__', '__package__', '__path__', '__spec__', '__version__', '_matutils', 'corpora', 'interfaces', 'logger', 'logging', 'matutils', 'models', 'parsing', 'scripts', 'similarities', 'summarization', 'topic_coherence', 'utils']\n"
          ],
          "name": "stdout"
        }
      ]
    },
    {
      "metadata": {
        "id": "5lVJChWlf6MV",
        "colab_type": "code",
        "colab": {
          "base_uri": "https://localhost:8080/",
          "height": 35
        },
        "outputId": "877c3749-826d-4a51-afe5-9b1286182700"
      },
      "cell_type": "code",
      "source": [
        "raw_documents = [\"I'm taking the show on the road.\",\n",
        "                 \"My socks are a force multiplier.\",\n",
        "             \"I am the barber who cuts everyone's hair who doesn't cut their own.\",\n",
        "             \"Legend has it that the mind is a mad monkey.\",\n",
        "            \"I make my own fun.\"]\n",
        "print(\"Number of documents:\",len(raw_documents))"
      ],
      "execution_count": 211,
      "outputs": [
        {
          "output_type": "stream",
          "text": [
            "Number of documents: 5\n"
          ],
          "name": "stdout"
        }
      ]
    },
    {
      "metadata": {
        "id": "7RetTl4ZgJ0i",
        "colab_type": "code",
        "colab": {
          "base_uri": "https://localhost:8080/",
          "height": 55
        },
        "outputId": "ea9eccaa-e72d-4e93-e2b9-2317310a15d2"
      },
      "cell_type": "code",
      "source": [
        "from nltk.tokenize import word_tokenize\n",
        "gen_docs = [[w.lower() for w in word_tokenize(text)] \n",
        "            for text in raw_documents]\n",
        "print(gen_docs)"
      ],
      "execution_count": 212,
      "outputs": [
        {
          "output_type": "stream",
          "text": [
            "[['i', \"'m\", 'taking', 'the', 'show', 'on', 'the', 'road', '.'], ['my', 'socks', 'are', 'a', 'force', 'multiplier', '.'], ['i', 'am', 'the', 'barber', 'who', 'cuts', 'everyone', \"'s\", 'hair', 'who', 'does', \"n't\", 'cut', 'their', 'own', '.'], ['legend', 'has', 'it', 'that', 'the', 'mind', 'is', 'a', 'mad', 'monkey', '.'], ['i', 'make', 'my', 'own', 'fun', '.']]\n"
          ],
          "name": "stdout"
        }
      ]
    },
    {
      "metadata": {
        "id": "IkaW-io4gdr8",
        "colab_type": "code",
        "colab": {
          "base_uri": "https://localhost:8080/",
          "height": 775
        },
        "outputId": "74818270-70b1-41f1-f248-951541ef4fb4"
      },
      "cell_type": "code",
      "source": [
        "dictionary = gensim.corpora.Dictionary(gen_docs)\n",
        "print(dictionary[5])\n",
        "print(dictionary.token2id['road'])\n",
        "print(\"Number of words in dictionary:\",len(dictionary))\n",
        "for i in range(len(dictionary)):\n",
        "    print(i, dictionary[i])"
      ],
      "execution_count": 213,
      "outputs": [
        {
          "output_type": "stream",
          "text": [
            "2018-11-11 21:55:58,469 : INFO : adding document #0 to Dictionary(0 unique tokens: [])\n",
            "2018-11-11 21:55:58,471 : INFO : built Dictionary(36 unique tokens: [\"'m\", '.', 'i', 'on', 'road']...) from 5 documents (total 49 corpus positions)\n"
          ],
          "name": "stderr"
        },
        {
          "output_type": "stream",
          "text": [
            "show\n",
            "4\n",
            "Number of words in dictionary: 36\n",
            "0 'm\n",
            "1 .\n",
            "2 i\n",
            "3 on\n",
            "4 road\n",
            "5 show\n",
            "6 taking\n",
            "7 the\n",
            "8 a\n",
            "9 are\n",
            "10 force\n",
            "11 multiplier\n",
            "12 my\n",
            "13 socks\n",
            "14 's\n",
            "15 am\n",
            "16 barber\n",
            "17 cut\n",
            "18 cuts\n",
            "19 does\n",
            "20 everyone\n",
            "21 hair\n",
            "22 n't\n",
            "23 own\n",
            "24 their\n",
            "25 who\n",
            "26 has\n",
            "27 is\n",
            "28 it\n",
            "29 legend\n",
            "30 mad\n",
            "31 mind\n",
            "32 monkey\n",
            "33 that\n",
            "34 fun\n",
            "35 make\n"
          ],
          "name": "stdout"
        }
      ]
    },
    {
      "metadata": {
        "id": "nTEoK6l2g0gX",
        "colab_type": "code",
        "colab": {
          "base_uri": "https://localhost:8080/",
          "height": 55
        },
        "outputId": "e18da78d-c186-4d4d-a296-22eb8a3361d9"
      },
      "cell_type": "code",
      "source": [
        "corpus = [dictionary.doc2bow(gen_doc) for gen_doc in gen_docs]\n",
        "print(corpus)"
      ],
      "execution_count": 214,
      "outputs": [
        {
          "output_type": "stream",
          "text": [
            "[[(0, 1), (1, 1), (2, 1), (3, 1), (4, 1), (5, 1), (6, 1), (7, 2)], [(1, 1), (8, 1), (9, 1), (10, 1), (11, 1), (12, 1), (13, 1)], [(1, 1), (2, 1), (7, 1), (14, 1), (15, 1), (16, 1), (17, 1), (18, 1), (19, 1), (20, 1), (21, 1), (22, 1), (23, 1), (24, 1), (25, 2)], [(1, 1), (7, 1), (8, 1), (26, 1), (27, 1), (28, 1), (29, 1), (30, 1), (31, 1), (32, 1), (33, 1)], [(1, 1), (2, 1), (12, 1), (23, 1), (34, 1), (35, 1)]]\n"
          ],
          "name": "stdout"
        }
      ]
    },
    {
      "metadata": {
        "id": "7mbdrJZ2nLwO",
        "colab_type": "code",
        "colab": {
          "base_uri": "https://localhost:8080/",
          "height": 55
        },
        "outputId": "f659ef5a-925a-4b27-ea1c-223f46a35ecc"
      },
      "cell_type": "code",
      "source": [
        "sent1 = set(\"It might help to re-install Python if possible.\")\n",
        "print(sent1)"
      ],
      "execution_count": 215,
      "outputs": [
        {
          "output_type": "stream",
          "text": [
            "{'b', ' ', 'i', 'f', 'r', '-', 'h', 'o', 's', 'e', 'g', 't', 'I', 'a', 'l', 'n', '.', 'p', 'y', 'P', 'm'}\n"
          ],
          "name": "stdout"
        }
      ]
    },
    {
      "metadata": {
        "id": "mztK0QpgtuDa",
        "colab_type": "code",
        "colab": {}
      },
      "cell_type": "code",
      "source": [
        "import nltk"
      ],
      "execution_count": 0,
      "outputs": []
    },
    {
      "metadata": {
        "id": "6Yj2va4btzPM",
        "colab_type": "code",
        "colab": {
          "base_uri": "https://localhost:8080/",
          "height": 1727
        },
        "outputId": "8d5fc006-37e9-468e-ab71-423495b9150a"
      },
      "cell_type": "code",
      "source": [
        "nltk.download('book')"
      ],
      "execution_count": 217,
      "outputs": [
        {
          "output_type": "stream",
          "text": [
            "[nltk_data] Downloading collection 'book'\n",
            "[nltk_data]    | \n",
            "[nltk_data]    | Downloading package abc to /root/nltk_data...\n",
            "[nltk_data]    |   Package abc is already up-to-date!\n",
            "[nltk_data]    | Downloading package brown to /root/nltk_data...\n",
            "[nltk_data]    |   Package brown is already up-to-date!\n",
            "[nltk_data]    | Downloading package chat80 to /root/nltk_data...\n",
            "[nltk_data]    |   Package chat80 is already up-to-date!\n",
            "[nltk_data]    | Downloading package cmudict to /root/nltk_data...\n",
            "[nltk_data]    |   Package cmudict is already up-to-date!\n",
            "[nltk_data]    | Downloading package conll2000 to /root/nltk_data...\n",
            "[nltk_data]    |   Package conll2000 is already up-to-date!\n",
            "[nltk_data]    | Downloading package conll2002 to /root/nltk_data...\n",
            "[nltk_data]    |   Package conll2002 is already up-to-date!\n",
            "[nltk_data]    | Downloading package dependency_treebank to\n",
            "[nltk_data]    |     /root/nltk_data...\n",
            "[nltk_data]    |   Package dependency_treebank is already up-to-date!\n",
            "[nltk_data]    | Downloading package genesis to /root/nltk_data...\n",
            "[nltk_data]    |   Package genesis is already up-to-date!\n",
            "[nltk_data]    | Downloading package gutenberg to /root/nltk_data...\n",
            "[nltk_data]    |   Package gutenberg is already up-to-date!\n",
            "[nltk_data]    | Downloading package ieer to /root/nltk_data...\n",
            "[nltk_data]    |   Package ieer is already up-to-date!\n",
            "[nltk_data]    | Downloading package inaugural to /root/nltk_data...\n",
            "[nltk_data]    |   Package inaugural is already up-to-date!\n",
            "[nltk_data]    | Downloading package movie_reviews to\n",
            "[nltk_data]    |     /root/nltk_data...\n",
            "[nltk_data]    |   Package movie_reviews is already up-to-date!\n",
            "[nltk_data]    | Downloading package nps_chat to /root/nltk_data...\n",
            "[nltk_data]    |   Package nps_chat is already up-to-date!\n",
            "[nltk_data]    | Downloading package names to /root/nltk_data...\n",
            "[nltk_data]    |   Package names is already up-to-date!\n",
            "[nltk_data]    | Downloading package ppattach to /root/nltk_data...\n",
            "[nltk_data]    |   Package ppattach is already up-to-date!\n",
            "[nltk_data]    | Downloading package reuters to /root/nltk_data...\n",
            "[nltk_data]    |   Package reuters is already up-to-date!\n",
            "[nltk_data]    | Downloading package senseval to /root/nltk_data...\n",
            "[nltk_data]    |   Package senseval is already up-to-date!\n",
            "[nltk_data]    | Downloading package state_union to /root/nltk_data...\n",
            "[nltk_data]    |   Package state_union is already up-to-date!\n",
            "[nltk_data]    | Downloading package stopwords to /root/nltk_data...\n",
            "[nltk_data]    |   Package stopwords is already up-to-date!\n",
            "[nltk_data]    | Downloading package swadesh to /root/nltk_data...\n",
            "[nltk_data]    |   Package swadesh is already up-to-date!\n",
            "[nltk_data]    | Downloading package timit to /root/nltk_data...\n",
            "[nltk_data]    |   Package timit is already up-to-date!\n",
            "[nltk_data]    | Downloading package treebank to /root/nltk_data...\n",
            "[nltk_data]    |   Package treebank is already up-to-date!\n",
            "[nltk_data]    | Downloading package toolbox to /root/nltk_data...\n",
            "[nltk_data]    |   Package toolbox is already up-to-date!\n",
            "[nltk_data]    | Downloading package udhr to /root/nltk_data...\n",
            "[nltk_data]    |   Package udhr is already up-to-date!\n",
            "[nltk_data]    | Downloading package udhr2 to /root/nltk_data...\n",
            "[nltk_data]    |   Package udhr2 is already up-to-date!\n",
            "[nltk_data]    | Downloading package unicode_samples to\n",
            "[nltk_data]    |     /root/nltk_data...\n",
            "[nltk_data]    |   Package unicode_samples is already up-to-date!\n",
            "[nltk_data]    | Downloading package webtext to /root/nltk_data...\n",
            "[nltk_data]    |   Package webtext is already up-to-date!\n",
            "[nltk_data]    | Downloading package wordnet to /root/nltk_data...\n",
            "[nltk_data]    |   Package wordnet is already up-to-date!\n",
            "[nltk_data]    | Downloading package wordnet_ic to /root/nltk_data...\n",
            "[nltk_data]    |   Package wordnet_ic is already up-to-date!\n",
            "[nltk_data]    | Downloading package words to /root/nltk_data...\n",
            "[nltk_data]    |   Package words is already up-to-date!\n",
            "[nltk_data]    | Downloading package maxent_treebank_pos_tagger to\n",
            "[nltk_data]    |     /root/nltk_data...\n",
            "[nltk_data]    |   Package maxent_treebank_pos_tagger is already up-\n",
            "[nltk_data]    |       to-date!\n",
            "[nltk_data]    | Downloading package maxent_ne_chunker to\n",
            "[nltk_data]    |     /root/nltk_data...\n",
            "[nltk_data]    |   Package maxent_ne_chunker is already up-to-date!\n",
            "[nltk_data]    | Downloading package universal_tagset to\n",
            "[nltk_data]    |     /root/nltk_data...\n",
            "[nltk_data]    |   Package universal_tagset is already up-to-date!\n",
            "[nltk_data]    | Downloading package punkt to /root/nltk_data...\n",
            "[nltk_data]    |   Package punkt is already up-to-date!\n",
            "[nltk_data]    | Downloading package book_grammars to\n",
            "[nltk_data]    |     /root/nltk_data...\n",
            "[nltk_data]    |   Package book_grammars is already up-to-date!\n",
            "[nltk_data]    | Downloading package city_database to\n",
            "[nltk_data]    |     /root/nltk_data...\n",
            "[nltk_data]    |   Package city_database is already up-to-date!\n",
            "[nltk_data]    | Downloading package tagsets to /root/nltk_data...\n",
            "[nltk_data]    |   Package tagsets is already up-to-date!\n",
            "[nltk_data]    | Downloading package panlex_swadesh to\n",
            "[nltk_data]    |     /root/nltk_data...\n",
            "[nltk_data]    |   Package panlex_swadesh is already up-to-date!\n",
            "[nltk_data]    | Downloading package averaged_perceptron_tagger to\n",
            "[nltk_data]    |     /root/nltk_data...\n",
            "[nltk_data]    |   Package averaged_perceptron_tagger is already up-\n",
            "[nltk_data]    |       to-date!\n",
            "[nltk_data]    | \n",
            "[nltk_data]  Done downloading collection book\n"
          ],
          "name": "stdout"
        },
        {
          "output_type": "execute_result",
          "data": {
            "text/plain": [
              "True"
            ]
          },
          "metadata": {
            "tags": []
          },
          "execution_count": 217
        }
      ]
    },
    {
      "metadata": {
        "id": "sU9joo3-uw0h",
        "colab_type": "code",
        "colab": {}
      },
      "cell_type": "code",
      "source": [
        "from nltk.book import*"
      ],
      "execution_count": 0,
      "outputs": []
    },
    {
      "metadata": {
        "id": "vjpoQvxqvaiv",
        "colab_type": "code",
        "colab": {
          "base_uri": "https://localhost:8080/",
          "height": 505
        },
        "outputId": "8dedf9d8-5ecd-43b5-a14f-fd9ff24baf68"
      },
      "cell_type": "code",
      "source": [
        "text1.concordance(\"sea\")"
      ],
      "execution_count": 219,
      "outputs": [
        {
          "output_type": "stream",
          "text": [
            "Displaying 25 of 455 matches:\n",
            " shall slay the dragon that is in the sea .\" -- ISAIAH \" And what thing soever \n",
            " S PLUTARCH ' S MORALS . \" The Indian Sea breedeth the most and the biggest fis\n",
            "cely had we proceeded two days on the sea , when about sunrise a great many Wha\n",
            "many Whales and other monsters of the sea , appeared . Among the former , one w\n",
            " waves on all sides , and beating the sea before him into a foam .\" -- TOOKE ' \n",
            "mediately lost and swallowed up , the sea - gudgeon retires into it in great se\n",
            "e .\" -- PILGRIM ' S PROGRESS . \" That sea beast Leviathan , which God of all hi\n",
            "s in , and at his breath spouts out a sea .\" -- IBID . \" The mighty whales whic\n",
            ". \" The mighty whales which swim in a sea of water , and have a sea of oil swim\n",
            "h swim in a sea of water , and have a sea of oil swimming in them .\" -- FULLLER\n",
            "RANS . A . D . 1668 . \" Whales in the sea God ' s voice obey .\" -- N . E . PRIM\n",
            "ad of some of them , that when out at sea they are afraid to mention even their\n",
            " take any till the first of May , the sea being then covered with them .\" -- CO\n",
            "h than he , Flounders round the Polar Sea .\" -- CHARLES LAMB ' S TRIUMPH OF THE\n",
            "e observed : there -- pointing to the sea -- is a green pasture where our child\n",
            "f the whale , As it floundered in the sea .\" -- ELIZABETH OAKES SMITH . \" The q\n",
            "e thousand persons living here in the sea , adding largely every year to the Na\n",
            " is right , And King of the boundless sea .\" -- WHALE SONG . CHAPTER 1 Loomings\n",
            "en , I account it high time to get to sea as soon as I can . This is my substit\n",
            " at some time or other crazy to go to sea ? Why upon your first voyage as a pas\n",
            "d ? Why did the old Persians hold the sea holy ? Why did the Greeks give it a s\n",
            "ay that I am in the habit of going to sea whenever I begin to grow hazy about t\n",
            "to have it inferred that I ever go to sea as a passenger . For to go as a passe\n",
            "hing in it . Besides , passengers get sea - sick -- grow quarrelsome -- don ' t\n",
            "something of a salt , do I ever go to sea as a Commodore , or a Captain , or a \n"
          ],
          "name": "stdout"
        }
      ]
    },
    {
      "metadata": {
        "id": "SJdGarYKu5k7",
        "colab_type": "code",
        "colab": {
          "base_uri": "https://localhost:8080/",
          "height": 53
        },
        "outputId": "4e719a4b-ea3b-4f68-bb9b-38cd0164a0bf"
      },
      "cell_type": "code",
      "source": [
        "text1.similar(\"sea\")"
      ],
      "execution_count": 220,
      "outputs": [
        {
          "output_type": "stream",
          "text": [
            "whale ship world deck other pequod captain boat air time water way\n",
            "line whales head wind crew last thing matter\n"
          ],
          "name": "stdout"
        }
      ]
    },
    {
      "metadata": {
        "id": "HLyO_SVywXFm",
        "colab_type": "code",
        "colab": {}
      },
      "cell_type": "code",
      "source": [
        "fdist=FreqDist(text1)"
      ],
      "execution_count": 0,
      "outputs": []
    },
    {
      "metadata": {
        "id": "RYj6PaaUwhg3",
        "colab_type": "code",
        "colab": {
          "base_uri": "https://localhost:8080/",
          "height": 2214
        },
        "outputId": "6f46ac8c-209a-45ea-f1dc-c2beb21c2606"
      },
      "cell_type": "code",
      "source": [
        "import matplotlib.pyplot as plt\n",
        "%matplotlib inline\n",
        "\n",
        "plt.figure(figsize=(20,10))\n",
        "fdist.plot(75, title=\"Freq \\n\", cummulative=True)"
      ],
      "execution_count": 222,
      "outputs": [
        {
          "output_type": "error",
          "ename": "AttributeError",
          "evalue": "ignored",
          "traceback": [
            "\u001b[0;31m---------------------------------------------------------------------------\u001b[0m",
            "\u001b[0;31mAttributeError\u001b[0m                            Traceback (most recent call last)",
            "\u001b[0;32m<ipython-input-222-e6f597de4bb3>\u001b[0m in \u001b[0;36m<module>\u001b[0;34m()\u001b[0m\n\u001b[1;32m      3\u001b[0m \u001b[0;34m\u001b[0m\u001b[0m\n\u001b[1;32m      4\u001b[0m \u001b[0mplt\u001b[0m\u001b[0;34m.\u001b[0m\u001b[0mfigure\u001b[0m\u001b[0;34m(\u001b[0m\u001b[0mfigsize\u001b[0m\u001b[0;34m=\u001b[0m\u001b[0;34m(\u001b[0m\u001b[0;36m20\u001b[0m\u001b[0;34m,\u001b[0m\u001b[0;36m10\u001b[0m\u001b[0;34m)\u001b[0m\u001b[0;34m)\u001b[0m\u001b[0;34m\u001b[0m\u001b[0m\n\u001b[0;32m----> 5\u001b[0;31m \u001b[0mfdist\u001b[0m\u001b[0;34m.\u001b[0m\u001b[0mplot\u001b[0m\u001b[0;34m(\u001b[0m\u001b[0;36m75\u001b[0m\u001b[0;34m,\u001b[0m \u001b[0mtitle\u001b[0m\u001b[0;34m=\u001b[0m\u001b[0;34m\"Freq \\n\"\u001b[0m\u001b[0;34m,\u001b[0m \u001b[0mcummulative\u001b[0m\u001b[0;34m=\u001b[0m\u001b[0;32mTrue\u001b[0m\u001b[0;34m)\u001b[0m\u001b[0;34m\u001b[0m\u001b[0m\n\u001b[0m",
            "\u001b[0;32m/usr/local/lib/python3.6/dist-packages/nltk/probability.py\u001b[0m in \u001b[0;36mplot\u001b[0;34m(self, *args, **kwargs)\u001b[0m\n\u001b[1;32m    288\u001b[0m             \u001b[0mpylab\u001b[0m\u001b[0;34m.\u001b[0m\u001b[0mtitle\u001b[0m\u001b[0;34m(\u001b[0m\u001b[0mkwargs\u001b[0m\u001b[0;34m[\u001b[0m\u001b[0;34m\"title\"\u001b[0m\u001b[0;34m]\u001b[0m\u001b[0;34m)\u001b[0m\u001b[0;34m\u001b[0m\u001b[0m\n\u001b[1;32m    289\u001b[0m             \u001b[0;32mdel\u001b[0m \u001b[0mkwargs\u001b[0m\u001b[0;34m[\u001b[0m\u001b[0;34m\"title\"\u001b[0m\u001b[0;34m]\u001b[0m\u001b[0;34m\u001b[0m\u001b[0m\n\u001b[0;32m--> 290\u001b[0;31m         \u001b[0mpylab\u001b[0m\u001b[0;34m.\u001b[0m\u001b[0mplot\u001b[0m\u001b[0;34m(\u001b[0m\u001b[0mfreqs\u001b[0m\u001b[0;34m,\u001b[0m \u001b[0;34m**\u001b[0m\u001b[0mkwargs\u001b[0m\u001b[0;34m)\u001b[0m\u001b[0;34m\u001b[0m\u001b[0m\n\u001b[0m\u001b[1;32m    291\u001b[0m         \u001b[0mpylab\u001b[0m\u001b[0;34m.\u001b[0m\u001b[0mxticks\u001b[0m\u001b[0;34m(\u001b[0m\u001b[0mrange\u001b[0m\u001b[0;34m(\u001b[0m\u001b[0mlen\u001b[0m\u001b[0;34m(\u001b[0m\u001b[0msamples\u001b[0m\u001b[0;34m)\u001b[0m\u001b[0;34m)\u001b[0m\u001b[0;34m,\u001b[0m \u001b[0;34m[\u001b[0m\u001b[0mtext_type\u001b[0m\u001b[0;34m(\u001b[0m\u001b[0ms\u001b[0m\u001b[0;34m)\u001b[0m \u001b[0;32mfor\u001b[0m \u001b[0ms\u001b[0m \u001b[0;32min\u001b[0m \u001b[0msamples\u001b[0m\u001b[0;34m]\u001b[0m\u001b[0;34m,\u001b[0m \u001b[0mrotation\u001b[0m\u001b[0;34m=\u001b[0m\u001b[0;36m90\u001b[0m\u001b[0;34m)\u001b[0m\u001b[0;34m\u001b[0m\u001b[0m\n\u001b[1;32m    292\u001b[0m         \u001b[0mpylab\u001b[0m\u001b[0;34m.\u001b[0m\u001b[0mxlabel\u001b[0m\u001b[0;34m(\u001b[0m\u001b[0;34m\"Samples\"\u001b[0m\u001b[0;34m)\u001b[0m\u001b[0;34m\u001b[0m\u001b[0m\n",
            "\u001b[0;32m/usr/local/lib/python3.6/dist-packages/matplotlib/pyplot.py\u001b[0m in \u001b[0;36mplot\u001b[0;34m(*args, **kwargs)\u001b[0m\n\u001b[1;32m   3259\u001b[0m                       mplDeprecation)\n\u001b[1;32m   3260\u001b[0m     \u001b[0;32mtry\u001b[0m\u001b[0;34m:\u001b[0m\u001b[0;34m\u001b[0m\u001b[0m\n\u001b[0;32m-> 3261\u001b[0;31m         \u001b[0mret\u001b[0m \u001b[0;34m=\u001b[0m \u001b[0max\u001b[0m\u001b[0;34m.\u001b[0m\u001b[0mplot\u001b[0m\u001b[0;34m(\u001b[0m\u001b[0;34m*\u001b[0m\u001b[0margs\u001b[0m\u001b[0;34m,\u001b[0m \u001b[0;34m**\u001b[0m\u001b[0mkwargs\u001b[0m\u001b[0;34m)\u001b[0m\u001b[0;34m\u001b[0m\u001b[0m\n\u001b[0m\u001b[1;32m   3262\u001b[0m     \u001b[0;32mfinally\u001b[0m\u001b[0;34m:\u001b[0m\u001b[0;34m\u001b[0m\u001b[0m\n\u001b[1;32m   3263\u001b[0m         \u001b[0max\u001b[0m\u001b[0;34m.\u001b[0m\u001b[0m_hold\u001b[0m \u001b[0;34m=\u001b[0m \u001b[0mwashold\u001b[0m\u001b[0;34m\u001b[0m\u001b[0m\n",
            "\u001b[0;32m/usr/local/lib/python3.6/dist-packages/matplotlib/__init__.py\u001b[0m in \u001b[0;36minner\u001b[0;34m(ax, *args, **kwargs)\u001b[0m\n\u001b[1;32m   1715\u001b[0m                     warnings.warn(msg % (label_namer, func.__name__),\n\u001b[1;32m   1716\u001b[0m                                   RuntimeWarning, stacklevel=2)\n\u001b[0;32m-> 1717\u001b[0;31m             \u001b[0;32mreturn\u001b[0m \u001b[0mfunc\u001b[0m\u001b[0;34m(\u001b[0m\u001b[0max\u001b[0m\u001b[0;34m,\u001b[0m \u001b[0;34m*\u001b[0m\u001b[0margs\u001b[0m\u001b[0;34m,\u001b[0m \u001b[0;34m**\u001b[0m\u001b[0mkwargs\u001b[0m\u001b[0;34m)\u001b[0m\u001b[0;34m\u001b[0m\u001b[0m\n\u001b[0m\u001b[1;32m   1718\u001b[0m         \u001b[0mpre_doc\u001b[0m \u001b[0;34m=\u001b[0m \u001b[0minner\u001b[0m\u001b[0;34m.\u001b[0m\u001b[0m__doc__\u001b[0m\u001b[0;34m\u001b[0m\u001b[0m\n\u001b[1;32m   1719\u001b[0m         \u001b[0;32mif\u001b[0m \u001b[0mpre_doc\u001b[0m \u001b[0;32mis\u001b[0m \u001b[0;32mNone\u001b[0m\u001b[0;34m:\u001b[0m\u001b[0;34m\u001b[0m\u001b[0m\n",
            "\u001b[0;32m/usr/local/lib/python3.6/dist-packages/matplotlib/axes/_axes.py\u001b[0m in \u001b[0;36mplot\u001b[0;34m(self, *args, **kwargs)\u001b[0m\n\u001b[1;32m   1370\u001b[0m         \u001b[0mkwargs\u001b[0m \u001b[0;34m=\u001b[0m \u001b[0mcbook\u001b[0m\u001b[0;34m.\u001b[0m\u001b[0mnormalize_kwargs\u001b[0m\u001b[0;34m(\u001b[0m\u001b[0mkwargs\u001b[0m\u001b[0;34m,\u001b[0m \u001b[0m_alias_map\u001b[0m\u001b[0;34m)\u001b[0m\u001b[0;34m\u001b[0m\u001b[0m\n\u001b[1;32m   1371\u001b[0m \u001b[0;34m\u001b[0m\u001b[0m\n\u001b[0;32m-> 1372\u001b[0;31m         \u001b[0;32mfor\u001b[0m \u001b[0mline\u001b[0m \u001b[0;32min\u001b[0m \u001b[0mself\u001b[0m\u001b[0;34m.\u001b[0m\u001b[0m_get_lines\u001b[0m\u001b[0;34m(\u001b[0m\u001b[0;34m*\u001b[0m\u001b[0margs\u001b[0m\u001b[0;34m,\u001b[0m \u001b[0;34m**\u001b[0m\u001b[0mkwargs\u001b[0m\u001b[0;34m)\u001b[0m\u001b[0;34m:\u001b[0m\u001b[0;34m\u001b[0m\u001b[0m\n\u001b[0m\u001b[1;32m   1373\u001b[0m             \u001b[0mself\u001b[0m\u001b[0;34m.\u001b[0m\u001b[0madd_line\u001b[0m\u001b[0;34m(\u001b[0m\u001b[0mline\u001b[0m\u001b[0;34m)\u001b[0m\u001b[0;34m\u001b[0m\u001b[0m\n\u001b[1;32m   1374\u001b[0m             \u001b[0mlines\u001b[0m\u001b[0;34m.\u001b[0m\u001b[0mappend\u001b[0m\u001b[0;34m(\u001b[0m\u001b[0mline\u001b[0m\u001b[0;34m)\u001b[0m\u001b[0;34m\u001b[0m\u001b[0m\n",
            "\u001b[0;32m/usr/local/lib/python3.6/dist-packages/matplotlib/axes/_base.py\u001b[0m in \u001b[0;36m_grab_next_args\u001b[0;34m(self, *args, **kwargs)\u001b[0m\n\u001b[1;32m    402\u001b[0m                 \u001b[0mthis\u001b[0m \u001b[0;34m+=\u001b[0m \u001b[0margs\u001b[0m\u001b[0;34m[\u001b[0m\u001b[0;36m0\u001b[0m\u001b[0;34m]\u001b[0m\u001b[0;34m,\u001b[0m\u001b[0;34m\u001b[0m\u001b[0m\n\u001b[1;32m    403\u001b[0m                 \u001b[0margs\u001b[0m \u001b[0;34m=\u001b[0m \u001b[0margs\u001b[0m\u001b[0;34m[\u001b[0m\u001b[0;36m1\u001b[0m\u001b[0;34m:\u001b[0m\u001b[0;34m]\u001b[0m\u001b[0;34m\u001b[0m\u001b[0m\n\u001b[0;32m--> 404\u001b[0;31m             \u001b[0;32mfor\u001b[0m \u001b[0mseg\u001b[0m \u001b[0;32min\u001b[0m \u001b[0mself\u001b[0m\u001b[0;34m.\u001b[0m\u001b[0m_plot_args\u001b[0m\u001b[0;34m(\u001b[0m\u001b[0mthis\u001b[0m\u001b[0;34m,\u001b[0m \u001b[0mkwargs\u001b[0m\u001b[0;34m)\u001b[0m\u001b[0;34m:\u001b[0m\u001b[0;34m\u001b[0m\u001b[0m\n\u001b[0m\u001b[1;32m    405\u001b[0m                 \u001b[0;32myield\u001b[0m \u001b[0mseg\u001b[0m\u001b[0;34m\u001b[0m\u001b[0m\n\u001b[1;32m    406\u001b[0m \u001b[0;34m\u001b[0m\u001b[0m\n",
            "\u001b[0;32m/usr/local/lib/python3.6/dist-packages/matplotlib/axes/_base.py\u001b[0m in \u001b[0;36m_plot_args\u001b[0;34m(self, tup, kwargs)\u001b[0m\n\u001b[1;32m    392\u001b[0m         \u001b[0mncx\u001b[0m\u001b[0;34m,\u001b[0m \u001b[0mncy\u001b[0m \u001b[0;34m=\u001b[0m \u001b[0mx\u001b[0m\u001b[0;34m.\u001b[0m\u001b[0mshape\u001b[0m\u001b[0;34m[\u001b[0m\u001b[0;36m1\u001b[0m\u001b[0;34m]\u001b[0m\u001b[0;34m,\u001b[0m \u001b[0my\u001b[0m\u001b[0;34m.\u001b[0m\u001b[0mshape\u001b[0m\u001b[0;34m[\u001b[0m\u001b[0;36m1\u001b[0m\u001b[0;34m]\u001b[0m\u001b[0;34m\u001b[0m\u001b[0m\n\u001b[1;32m    393\u001b[0m         \u001b[0;32mfor\u001b[0m \u001b[0mj\u001b[0m \u001b[0;32min\u001b[0m \u001b[0mxrange\u001b[0m\u001b[0;34m(\u001b[0m\u001b[0mmax\u001b[0m\u001b[0;34m(\u001b[0m\u001b[0mncx\u001b[0m\u001b[0;34m,\u001b[0m \u001b[0mncy\u001b[0m\u001b[0;34m)\u001b[0m\u001b[0;34m)\u001b[0m\u001b[0;34m:\u001b[0m\u001b[0;34m\u001b[0m\u001b[0m\n\u001b[0;32m--> 394\u001b[0;31m             \u001b[0mseg\u001b[0m \u001b[0;34m=\u001b[0m \u001b[0mfunc\u001b[0m\u001b[0;34m(\u001b[0m\u001b[0mx\u001b[0m\u001b[0;34m[\u001b[0m\u001b[0;34m:\u001b[0m\u001b[0;34m,\u001b[0m \u001b[0mj\u001b[0m \u001b[0;34m%\u001b[0m \u001b[0mncx\u001b[0m\u001b[0;34m]\u001b[0m\u001b[0;34m,\u001b[0m \u001b[0my\u001b[0m\u001b[0;34m[\u001b[0m\u001b[0;34m:\u001b[0m\u001b[0;34m,\u001b[0m \u001b[0mj\u001b[0m \u001b[0;34m%\u001b[0m \u001b[0mncy\u001b[0m\u001b[0;34m]\u001b[0m\u001b[0;34m,\u001b[0m \u001b[0mkw\u001b[0m\u001b[0;34m,\u001b[0m \u001b[0mkwargs\u001b[0m\u001b[0;34m)\u001b[0m\u001b[0;34m\u001b[0m\u001b[0m\n\u001b[0m\u001b[1;32m    395\u001b[0m             \u001b[0mret\u001b[0m\u001b[0;34m.\u001b[0m\u001b[0mappend\u001b[0m\u001b[0;34m(\u001b[0m\u001b[0mseg\u001b[0m\u001b[0;34m)\u001b[0m\u001b[0;34m\u001b[0m\u001b[0m\n\u001b[1;32m    396\u001b[0m         \u001b[0;32mreturn\u001b[0m \u001b[0mret\u001b[0m\u001b[0;34m\u001b[0m\u001b[0m\n",
            "\u001b[0;32m/usr/local/lib/python3.6/dist-packages/matplotlib/axes/_base.py\u001b[0m in \u001b[0;36m_makeline\u001b[0;34m(self, x, y, kw, kwargs)\u001b[0m\n\u001b[1;32m    299\u001b[0m         \u001b[0mdefault_dict\u001b[0m \u001b[0;34m=\u001b[0m \u001b[0mself\u001b[0m\u001b[0;34m.\u001b[0m\u001b[0m_getdefaults\u001b[0m\u001b[0;34m(\u001b[0m\u001b[0;32mNone\u001b[0m\u001b[0;34m,\u001b[0m \u001b[0mkw\u001b[0m\u001b[0;34m)\u001b[0m\u001b[0;34m\u001b[0m\u001b[0m\n\u001b[1;32m    300\u001b[0m         \u001b[0mself\u001b[0m\u001b[0;34m.\u001b[0m\u001b[0m_setdefaults\u001b[0m\u001b[0;34m(\u001b[0m\u001b[0mdefault_dict\u001b[0m\u001b[0;34m,\u001b[0m \u001b[0mkw\u001b[0m\u001b[0;34m)\u001b[0m\u001b[0;34m\u001b[0m\u001b[0m\n\u001b[0;32m--> 301\u001b[0;31m         \u001b[0mseg\u001b[0m \u001b[0;34m=\u001b[0m \u001b[0mmlines\u001b[0m\u001b[0;34m.\u001b[0m\u001b[0mLine2D\u001b[0m\u001b[0;34m(\u001b[0m\u001b[0mx\u001b[0m\u001b[0;34m,\u001b[0m \u001b[0my\u001b[0m\u001b[0;34m,\u001b[0m \u001b[0;34m**\u001b[0m\u001b[0mkw\u001b[0m\u001b[0;34m)\u001b[0m\u001b[0;34m\u001b[0m\u001b[0m\n\u001b[0m\u001b[1;32m    302\u001b[0m         \u001b[0;32mreturn\u001b[0m \u001b[0mseg\u001b[0m\u001b[0;34m\u001b[0m\u001b[0m\n\u001b[1;32m    303\u001b[0m \u001b[0;34m\u001b[0m\u001b[0m\n",
            "\u001b[0;32m/usr/local/lib/python3.6/dist-packages/matplotlib/lines.py\u001b[0m in \u001b[0;36m__init__\u001b[0;34m(self, xdata, ydata, linewidth, linestyle, color, marker, markersize, markeredgewidth, markeredgecolor, markerfacecolor, markerfacecoloralt, fillstyle, antialiased, dash_capstyle, solid_capstyle, dash_joinstyle, solid_joinstyle, pickradius, drawstyle, markevery, **kwargs)\u001b[0m\n\u001b[1;32m    424\u001b[0m         \u001b[0;31m# update kwargs before updating data to give the caller a\u001b[0m\u001b[0;34m\u001b[0m\u001b[0;34m\u001b[0m\u001b[0m\n\u001b[1;32m    425\u001b[0m         \u001b[0;31m# chance to init axes (and hence unit support)\u001b[0m\u001b[0;34m\u001b[0m\u001b[0;34m\u001b[0m\u001b[0m\n\u001b[0;32m--> 426\u001b[0;31m         \u001b[0mself\u001b[0m\u001b[0;34m.\u001b[0m\u001b[0mupdate\u001b[0m\u001b[0;34m(\u001b[0m\u001b[0mkwargs\u001b[0m\u001b[0;34m)\u001b[0m\u001b[0;34m\u001b[0m\u001b[0m\n\u001b[0m\u001b[1;32m    427\u001b[0m         \u001b[0mself\u001b[0m\u001b[0;34m.\u001b[0m\u001b[0mpickradius\u001b[0m \u001b[0;34m=\u001b[0m \u001b[0mpickradius\u001b[0m\u001b[0;34m\u001b[0m\u001b[0m\n\u001b[1;32m    428\u001b[0m         \u001b[0mself\u001b[0m\u001b[0;34m.\u001b[0m\u001b[0mind_offset\u001b[0m \u001b[0;34m=\u001b[0m \u001b[0;36m0\u001b[0m\u001b[0;34m\u001b[0m\u001b[0m\n",
            "\u001b[0;32m/usr/local/lib/python3.6/dist-packages/matplotlib/artist.py\u001b[0m in \u001b[0;36mupdate\u001b[0;34m(self, props)\u001b[0m\n\u001b[1;32m    900\u001b[0m         \u001b[0;32mtry\u001b[0m\u001b[0;34m:\u001b[0m\u001b[0;34m\u001b[0m\u001b[0m\n\u001b[1;32m    901\u001b[0m             ret = [_update_property(self, k, v)\n\u001b[0;32m--> 902\u001b[0;31m                    for k, v in props.items()]\n\u001b[0m\u001b[1;32m    903\u001b[0m         \u001b[0;32mfinally\u001b[0m\u001b[0;34m:\u001b[0m\u001b[0;34m\u001b[0m\u001b[0m\n\u001b[1;32m    904\u001b[0m             \u001b[0mself\u001b[0m\u001b[0;34m.\u001b[0m\u001b[0meventson\u001b[0m \u001b[0;34m=\u001b[0m \u001b[0mstore\u001b[0m\u001b[0;34m\u001b[0m\u001b[0m\n",
            "\u001b[0;32m/usr/local/lib/python3.6/dist-packages/matplotlib/artist.py\u001b[0m in \u001b[0;36m<listcomp>\u001b[0;34m(.0)\u001b[0m\n\u001b[1;32m    900\u001b[0m         \u001b[0;32mtry\u001b[0m\u001b[0;34m:\u001b[0m\u001b[0;34m\u001b[0m\u001b[0m\n\u001b[1;32m    901\u001b[0m             ret = [_update_property(self, k, v)\n\u001b[0;32m--> 902\u001b[0;31m                    for k, v in props.items()]\n\u001b[0m\u001b[1;32m    903\u001b[0m         \u001b[0;32mfinally\u001b[0m\u001b[0;34m:\u001b[0m\u001b[0;34m\u001b[0m\u001b[0m\n\u001b[1;32m    904\u001b[0m             \u001b[0mself\u001b[0m\u001b[0;34m.\u001b[0m\u001b[0meventson\u001b[0m \u001b[0;34m=\u001b[0m \u001b[0mstore\u001b[0m\u001b[0;34m\u001b[0m\u001b[0m\n",
            "\u001b[0;32m/usr/local/lib/python3.6/dist-packages/matplotlib/artist.py\u001b[0m in \u001b[0;36m_update_property\u001b[0;34m(self, k, v)\u001b[0m\n\u001b[1;32m    893\u001b[0m                 \u001b[0mfunc\u001b[0m \u001b[0;34m=\u001b[0m \u001b[0mgetattr\u001b[0m\u001b[0;34m(\u001b[0m\u001b[0mself\u001b[0m\u001b[0;34m,\u001b[0m \u001b[0;34m'set_'\u001b[0m \u001b[0;34m+\u001b[0m \u001b[0mk\u001b[0m\u001b[0;34m,\u001b[0m \u001b[0;32mNone\u001b[0m\u001b[0;34m)\u001b[0m\u001b[0;34m\u001b[0m\u001b[0m\n\u001b[1;32m    894\u001b[0m                 \u001b[0;32mif\u001b[0m \u001b[0;32mnot\u001b[0m \u001b[0mcallable\u001b[0m\u001b[0;34m(\u001b[0m\u001b[0mfunc\u001b[0m\u001b[0;34m)\u001b[0m\u001b[0;34m:\u001b[0m\u001b[0;34m\u001b[0m\u001b[0m\n\u001b[0;32m--> 895\u001b[0;31m                     \u001b[0;32mraise\u001b[0m \u001b[0mAttributeError\u001b[0m\u001b[0;34m(\u001b[0m\u001b[0;34m'Unknown property %s'\u001b[0m \u001b[0;34m%\u001b[0m \u001b[0mk\u001b[0m\u001b[0;34m)\u001b[0m\u001b[0;34m\u001b[0m\u001b[0m\n\u001b[0m\u001b[1;32m    896\u001b[0m                 \u001b[0;32mreturn\u001b[0m \u001b[0mfunc\u001b[0m\u001b[0;34m(\u001b[0m\u001b[0mv\u001b[0m\u001b[0;34m)\u001b[0m\u001b[0;34m\u001b[0m\u001b[0m\n\u001b[1;32m    897\u001b[0m \u001b[0;34m\u001b[0m\u001b[0m\n",
            "\u001b[0;31mAttributeError\u001b[0m: Unknown property cummulative"
          ]
        },
        {
          "output_type": "display_data",
          "data": {
            "image/png": "[encoded data removed]",
            "text/plain": [
              "<matplotlib.figure.Figure at 0x7f015b65ce80>"
            ]
          },
          "metadata": {
            "tags": []
          }
        }
      ]
    },
    {
      "metadata": {
        "id": "gfuiDChlxpcC",
        "colab_type": "code",
        "colab": {
          "base_uri": "https://localhost:8080/",
          "height": 35
        },
        "outputId": "b954667c-cfe9-4778-fa7a-64fb05b9694c"
      },
      "cell_type": "code",
      "source": [
        "word =\"data\"\n",
        "word.isdigit()"
      ],
      "execution_count": 18,
      "outputs": [
        {
          "output_type": "execute_result",
          "data": {
            "text/plain": [
              "False"
            ]
          },
          "metadata": {
            "tags": []
          },
          "execution_count": 18
        }
      ]
    },
    {
      "metadata": {
        "id": "qOjVLlPYx5bP",
        "colab_type": "code",
        "colab": {}
      },
      "cell_type": "code",
      "source": [
        "from nltk.corpus import state_union\n"
      ],
      "execution_count": 0,
      "outputs": []
    },
    {
      "metadata": {
        "id": "SCAcwzIEz-Bs",
        "colab_type": "code",
        "colab": {}
      },
      "cell_type": "code",
      "source": [
        "import os\n",
        "import nltk\n",
        "import nltk.corpus"
      ],
      "execution_count": 0,
      "outputs": []
    },
    {
      "metadata": {
        "id": "jLK3C9Oh0GtS",
        "colab_type": "code",
        "colab": {
          "base_uri": "https://localhost:8080/",
          "height": 55
        },
        "outputId": "81274c5f-8e2b-4c29-be04-3c676bfc4770"
      },
      "cell_type": "code",
      "source": [
        "print(os.listdir(nltk.data.find(\"corpora\")))"
      ],
      "execution_count": 30,
      "outputs": [
        {
          "output_type": "stream",
          "text": [
            "['conll2000', 'genesis.zip', 'udhr2.zip', 'timit.zip', 'wordnet', 'ppattach.zip', 'genesis', 'words', 'inaugural', 'unicode_samples.zip', 'city_database.zip', 'toolbox.zip', 'cmudict', 'inaugural.zip', 'nps_chat', 'brown', 'chat80.zip', 'names.zip', 'udhr.zip', 'treebank', 'swadesh', 'webtext', 'conll2000.zip', 'panlex_swadesh.zip', 'nps_chat.zip', 'movie_reviews', 'gutenberg', 'unicode_samples', 'wordnet_ic', 'state_union.zip', 'reuters.zip', 'toolbox', 'city_database', 'ieer', 'gutenberg.zip', 'conll2002', 'movie_reviews.zip', 'abc.zip', 'udhr2', 'cmudict.zip', 'chat80', 'treebank.zip', 'stopwords.zip', 'wordnet_ic.zip', 'senseval', 'words.zip', 'names', 'stopwords', 'timit', 'webtext.zip', 'abc', 'conll2002.zip', 'ieer.zip', 'swadesh.zip', 'senseval.zip', 'brown.zip', 'state_union', 'udhr', 'wordnet.zip', 'dependency_treebank', 'dependency_treebank.zip', 'ppattach']\n"
          ],
          "name": "stdout"
        }
      ]
    },
    {
      "metadata": {
        "id": "nrmCxoUW0wQ8",
        "colab_type": "code",
        "colab": {
          "base_uri": "https://localhost:8080/",
          "height": 341
        },
        "outputId": "a25dfe5c-148c-4551-c8c6-034865d9d8f7"
      },
      "cell_type": "code",
      "source": [
        "nltk.corpus.gutenberg.fileids()"
      ],
      "execution_count": 31,
      "outputs": [
        {
          "output_type": "execute_result",
          "data": {
            "text/plain": [
              "['austen-emma.txt',\n",
              " 'austen-persuasion.txt',\n",
              " 'austen-sense.txt',\n",
              " 'bible-kjv.txt',\n",
              " 'blake-poems.txt',\n",
              " 'bryant-stories.txt',\n",
              " 'burgess-busterbrown.txt',\n",
              " 'carroll-alice.txt',\n",
              " 'chesterton-ball.txt',\n",
              " 'chesterton-brown.txt',\n",
              " 'chesterton-thursday.txt',\n",
              " 'edgeworth-parents.txt',\n",
              " 'melville-moby_dick.txt',\n",
              " 'milton-paradise.txt',\n",
              " 'shakespeare-caesar.txt',\n",
              " 'shakespeare-hamlet.txt',\n",
              " 'shakespeare-macbeth.txt',\n",
              " 'whitman-leaves.txt']"
            ]
          },
          "metadata": {
            "tags": []
          },
          "execution_count": 31
        }
      ]
    },
    {
      "metadata": {
        "id": "I2N8ZXbg094D",
        "colab_type": "code",
        "colab": {
          "base_uri": "https://localhost:8080/",
          "height": 35
        },
        "outputId": "30ad6942-559b-4213-b39a-3118aa1632df"
      },
      "cell_type": "code",
      "source": [
        "hamlet = nltk.corpus.gutenberg.words('shakespeare-hamlet.txt')\n",
        "hamlet"
      ],
      "execution_count": 33,
      "outputs": [
        {
          "output_type": "execute_result",
          "data": {
            "text/plain": [
              "['[', 'The', 'Tragedie', 'of', 'Hamlet', 'by', ...]"
            ]
          },
          "metadata": {
            "tags": []
          },
          "execution_count": 33
        }
      ]
    },
    {
      "metadata": {
        "id": "mWUqJ78V1XJA",
        "colab_type": "code",
        "colab": {
          "base_uri": "https://localhost:8080/",
          "height": 55
        },
        "outputId": "c9202707-2987-4cfa-e8c3-3fb6b721d36f"
      },
      "cell_type": "code",
      "source": [
        "for word in hamlet[:500]:\n",
        "    print(word, sep=' ', end= ' ')"
      ],
      "execution_count": 35,
      "outputs": [
        {
          "output_type": "stream",
          "text": [
            "[ The Tragedie of Hamlet by William Shakespeare 1599 ] Actus Primus . Scoena Prima . Enter Barnardo and Francisco two Centinels . Barnardo . Who ' s there ? Fran . Nay answer me : Stand & vnfold your selfe Bar . Long liue the King Fran . Barnardo ? Bar . He Fran . You come most carefully vpon your houre Bar . ' Tis now strook twelue , get thee to bed Francisco Fran . For this releefe much thankes : ' Tis bitter cold , And I am sicke at heart Barn . Haue you had quiet Guard ? Fran . Not a Mouse stirring Barn . Well , goodnight . If you do meet Horatio and Marcellus , the Riuals of my Watch , bid them make hast . Enter Horatio and Marcellus . Fran . I thinke I heare them . Stand : who ' s there ? Hor . Friends to this ground Mar . And Leige - men to the Dane Fran . Giue you good night Mar . O farwel honest Soldier , who hath relieu ' d you ? Fra . Barnardo ha ' s my place : giue you goodnight . Exit Fran . Mar . Holla Barnardo Bar . Say , what is Horatio there ? Hor . A peece of him Bar . Welcome Horatio , welcome good Marcellus Mar . What , ha ' s this thing appear ' d againe to night Bar . I haue seene nothing Mar . Horatio saies , ' tis but our Fantasie , And will not let beleefe take hold of him Touching this dreaded sight , twice seene of vs , Therefore I haue intreated him along With vs , to watch the minutes of this Night , That if againe this Apparition come , He may approue our eyes , and speake to it Hor . Tush , tush , ' twill not appeare Bar . Sit downe a - while , And let vs once againe assaile your eares , That are so fortified against our Story , What we two Nights haue seene Hor . Well , sit we downe , And let vs heare Barnardo speake of this Barn . Last night of all , When yond same Starre that ' s Westward from the Pole Had made his course t ' illume that part of Heauen Where now it burnes , Marcellus and my selfe , The Bell then beating one Mar . Peace , breake thee of : Enter the Ghost . Looke where it comes againe Barn . In the same figure , like the King that ' s dead Mar . Thou art a Scholler ; speake to it Horatio Barn . Lookes it not like the King ? Marke it Horatio Hora . Most like : It harrowes me with fear & wonder Barn . It would be spoke too Mar . Question it Horatio Hor . What art "
          ],
          "name": "stdout"
        }
      ]
    },
    {
      "metadata": {
        "id": "JS_zxEvc1znu",
        "colab_type": "code",
        "colab": {}
      },
      "cell_type": "code",
      "source": [
        "word=\"together pages on similar subjects. They are implemented by a MediaWiki feature that adds any page with a text like [[Category:XYZ]] in its wikimarkup to the automated listing that is the category with name XYZ. Categories help readers to find, and navigate around, a subject area, to see pages sorted by title, and to thus find article relationships.Categories are normally found at the bottom of an article page. Clicking a category name brings up a category page listing the articles (or other pages) that have been added to that particular category. There may also be a section listing the subcategories of that category. The subcategorization feature makes it possible to organize categories into tree-like structures to aid navigation.\""
      ],
      "execution_count": 0,
      "outputs": []
    },
    {
      "metadata": {
        "id": "aNpqAxpx2EK5",
        "colab_type": "code",
        "colab": {}
      },
      "cell_type": "code",
      "source": [
        "from nltk.tokenize import word_tokenize"
      ],
      "execution_count": 0,
      "outputs": []
    },
    {
      "metadata": {
        "id": "saDU-uzI2WIi",
        "colab_type": "code",
        "colab": {
          "base_uri": "https://localhost:8080/",
          "height": 2465
        },
        "outputId": "47a9f557-2403-4bfa-a227-4167f78431dd"
      },
      "cell_type": "code",
      "source": [
        "wortok = word_tokenize(word)\n",
        "wortok"
      ],
      "execution_count": 41,
      "outputs": [
        {
          "output_type": "execute_result",
          "data": {
            "text/plain": [
              "['together',\n",
              " 'pages',\n",
              " 'on',\n",
              " 'similar',\n",
              " 'subjects',\n",
              " '.',\n",
              " 'They',\n",
              " 'are',\n",
              " 'implemented',\n",
              " 'by',\n",
              " 'a',\n",
              " 'MediaWiki',\n",
              " 'feature',\n",
              " 'that',\n",
              " 'adds',\n",
              " 'any',\n",
              " 'page',\n",
              " 'with',\n",
              " 'a',\n",
              " 'text',\n",
              " 'like',\n",
              " '[',\n",
              " '[',\n",
              " 'Category',\n",
              " ':',\n",
              " 'XYZ',\n",
              " ']',\n",
              " ']',\n",
              " 'in',\n",
              " 'its',\n",
              " 'wikimarkup',\n",
              " 'to',\n",
              " 'the',\n",
              " 'automated',\n",
              " 'listing',\n",
              " 'that',\n",
              " 'is',\n",
              " 'the',\n",
              " 'category',\n",
              " 'with',\n",
              " 'name',\n",
              " 'XYZ',\n",
              " '.',\n",
              " 'Categories',\n",
              " 'help',\n",
              " 'readers',\n",
              " 'to',\n",
              " 'find',\n",
              " ',',\n",
              " 'and',\n",
              " 'navigate',\n",
              " 'around',\n",
              " ',',\n",
              " 'a',\n",
              " 'subject',\n",
              " 'area',\n",
              " ',',\n",
              " 'to',\n",
              " 'see',\n",
              " 'pages',\n",
              " 'sorted',\n",
              " 'by',\n",
              " 'title',\n",
              " ',',\n",
              " 'and',\n",
              " 'to',\n",
              " 'thus',\n",
              " 'find',\n",
              " 'article',\n",
              " 'relationships.Categories',\n",
              " 'are',\n",
              " 'normally',\n",
              " 'found',\n",
              " 'at',\n",
              " 'the',\n",
              " 'bottom',\n",
              " 'of',\n",
              " 'an',\n",
              " 'article',\n",
              " 'page',\n",
              " '.',\n",
              " 'Clicking',\n",
              " 'a',\n",
              " 'category',\n",
              " 'name',\n",
              " 'brings',\n",
              " 'up',\n",
              " 'a',\n",
              " 'category',\n",
              " 'page',\n",
              " 'listing',\n",
              " 'the',\n",
              " 'articles',\n",
              " '(',\n",
              " 'or',\n",
              " 'other',\n",
              " 'pages',\n",
              " ')',\n",
              " 'that',\n",
              " 'have',\n",
              " 'been',\n",
              " 'added',\n",
              " 'to',\n",
              " 'that',\n",
              " 'particular',\n",
              " 'category',\n",
              " '.',\n",
              " 'There',\n",
              " 'may',\n",
              " 'also',\n",
              " 'be',\n",
              " 'a',\n",
              " 'section',\n",
              " 'listing',\n",
              " 'the',\n",
              " 'subcategories',\n",
              " 'of',\n",
              " 'that',\n",
              " 'category',\n",
              " '.',\n",
              " 'The',\n",
              " 'subcategorization',\n",
              " 'feature',\n",
              " 'makes',\n",
              " 'it',\n",
              " 'possible',\n",
              " 'to',\n",
              " 'organize',\n",
              " 'categories',\n",
              " 'into',\n",
              " 'tree-like',\n",
              " 'structures',\n",
              " 'to',\n",
              " 'aid',\n",
              " 'navigation',\n",
              " '.']"
            ]
          },
          "metadata": {
            "tags": []
          },
          "execution_count": 41
        }
      ]
    },
    {
      "metadata": {
        "id": "yJ1ywMih2nxp",
        "colab_type": "code",
        "colab": {
          "base_uri": "https://localhost:8080/",
          "height": 35
        },
        "outputId": "a62c462e-24a0-4fc0-9650-1816be028d7e"
      },
      "cell_type": "code",
      "source": [
        "len(wortok)"
      ],
      "execution_count": 42,
      "outputs": [
        {
          "output_type": "execute_result",
          "data": {
            "text/plain": [
              "136"
            ]
          },
          "metadata": {
            "tags": []
          },
          "execution_count": 42
        }
      ]
    },
    {
      "metadata": {
        "id": "Ppo1w4dU49i3",
        "colab_type": "code",
        "colab": {}
      },
      "cell_type": "code",
      "source": [
        ""
      ],
      "execution_count": 0,
      "outputs": []
    },
    {
      "metadata": {
        "id": "LUqkkyO0498L",
        "colab_type": "code",
        "colab": {}
      },
      "cell_type": "code",
      "source": [
        ""
      ],
      "execution_count": 0,
      "outputs": []
    },
    {
      "metadata": {
        "id": "iBMuVy2A2vox",
        "colab_type": "code",
        "colab": {
          "base_uri": "https://localhost:8080/",
          "height": 18035
        },
        "outputId": "2616b45f-2b90-4738-a419-97f81a6da59c"
      },
      "cell_type": "code",
      "source": [
        "for word in wortok:\n",
        "    fdist[word.lower()]+=1 \n",
        "fdist"
      ],
      "execution_count": 45,
      "outputs": [
        {
          "output_type": "execute_result",
          "data": {
            "text/plain": [
              "FreqDist({'[': 7,\n",
              "          'Moby': 84,\n",
              "          'Dick': 84,\n",
              "          'by': 1141,\n",
              "          'Herman': 1,\n",
              "          'Melville': 1,\n",
              "          '1851': 3,\n",
              "          ']': 5,\n",
              "          'ETYMOLOGY': 1,\n",
              "          '.': 6874,\n",
              "          '(': 212,\n",
              "          'Supplied': 2,\n",
              "          'a': 4581,\n",
              "          'Late': 1,\n",
              "          'Consumptive': 1,\n",
              "          'Usher': 2,\n",
              "          'to': 4556,\n",
              "          'Grammar': 2,\n",
              "          'School': 1,\n",
              "          ')': 80,\n",
              "          'The': 612,\n",
              "          'pale': 18,\n",
              "          '--': 1070,\n",
              "          'threadbare': 1,\n",
              "          'in': 3918,\n",
              "          'coat': 28,\n",
              "          ',': 18721,\n",
              "          'heart': 90,\n",
              "          'body': 110,\n",
              "          'and': 6028,\n",
              "          'brain': 37,\n",
              "          ';': 4072,\n",
              "          'I': 2124,\n",
              "          'see': 255,\n",
              "          'him': 1058,\n",
              "          'now': 646,\n",
              "          'He': 230,\n",
              "          'was': 1632,\n",
              "          'ever': 203,\n",
              "          'dusting': 2,\n",
              "          'his': 2459,\n",
              "          'old': 436,\n",
              "          'lexicons': 1,\n",
              "          'grammars': 2,\n",
              "          'with': 1663,\n",
              "          'queer': 44,\n",
              "          'handkerchief': 5,\n",
              "          'mockingly': 1,\n",
              "          'embellished': 3,\n",
              "          'all': 1462,\n",
              "          'the': 13733,\n",
              "          'gay': 13,\n",
              "          'flags': 1,\n",
              "          'of': 6540,\n",
              "          'known': 80,\n",
              "          'nations': 12,\n",
              "          'world': 173,\n",
              "          'loved': 3,\n",
              "          'dust': 10,\n",
              "          'it': 2211,\n",
              "          'somehow': 43,\n",
              "          'mildly': 10,\n",
              "          'reminded': 4,\n",
              "          'mortality': 1,\n",
              "          '\"': 1478,\n",
              "          'While': 30,\n",
              "          'you': 841,\n",
              "          'take': 118,\n",
              "          'hand': 205,\n",
              "          'school': 9,\n",
              "          'others': 37,\n",
              "          'teach': 5,\n",
              "          'them': 471,\n",
              "          'what': 442,\n",
              "          'name': 73,\n",
              "          'whale': 906,\n",
              "          '-': 2552,\n",
              "          'fish': 133,\n",
              "          'is': 1697,\n",
              "          'be': 1032,\n",
              "          'called': 116,\n",
              "          'our': 199,\n",
              "          'tongue': 11,\n",
              "          'leaving': 38,\n",
              "          'out': 529,\n",
              "          'through': 227,\n",
              "          'ignorance': 10,\n",
              "          'letter': 12,\n",
              "          'H': 2,\n",
              "          'which': 640,\n",
              "          'almost': 186,\n",
              "          'alone': 37,\n",
              "          'maketh': 5,\n",
              "          'signification': 1,\n",
              "          'word': 76,\n",
              "          'deliver': 3,\n",
              "          'that': 2992,\n",
              "          'not': 1103,\n",
              "          'true': 73,\n",
              "          '.\"': 489,\n",
              "          'HACKLUYT': 1,\n",
              "          'WHALE': 38,\n",
              "          '...': 11,\n",
              "          'Sw': 1,\n",
              "          'Dan': 4,\n",
              "          'HVAL': 1,\n",
              "          'This': 107,\n",
              "          'animal': 16,\n",
              "          'named': 11,\n",
              "          'from': 1052,\n",
              "          'roundness': 1,\n",
              "          'or': 699,\n",
              "          'rolling': 35,\n",
              "          'for': 1414,\n",
              "          'HVALT': 2,\n",
              "          'arched': 10,\n",
              "          'vaulted': 2,\n",
              "          'WEBSTER': 2,\n",
              "          \"'\": 2684,\n",
              "          'S': 63,\n",
              "          'DICTIONARY': 3,\n",
              "          'It': 310,\n",
              "          'more': 501,\n",
              "          'immediately': 14,\n",
              "          'Dut': 1,\n",
              "          'Ger': 1,\n",
              "          'WALLEN': 1,\n",
              "          'A': 167,\n",
              "          'WALW': 1,\n",
              "          'IAN': 1,\n",
              "          'roll': 16,\n",
              "          'wallow': 3,\n",
              "          'RICHARDSON': 1,\n",
              "          'KETOS': 1,\n",
              "          'GREEK': 1,\n",
              "          'CETUS': 1,\n",
              "          'LATIN': 1,\n",
              "          'WHOEL': 1,\n",
              "          'ANGLO': 1,\n",
              "          'SAXON': 1,\n",
              "          'DANISH': 2,\n",
              "          'WAL': 1,\n",
              "          'DUTCH': 2,\n",
              "          'HWAL': 1,\n",
              "          'SWEDISH': 1,\n",
              "          'ICELANDIC': 1,\n",
              "          'ENGLISH': 3,\n",
              "          'BALEINE': 1,\n",
              "          'FRENCH': 5,\n",
              "          'BALLENA': 1,\n",
              "          'SPANISH': 4,\n",
              "          'PEKEE': 2,\n",
              "          'NUEE': 4,\n",
              "          'FEGEE': 1,\n",
              "          'ERROMANGOAN': 1,\n",
              "          'EXTRACTS': 2,\n",
              "          'Sub': 7,\n",
              "          'Librarian': 1,\n",
              "          ').': 15,\n",
              "          'will': 379,\n",
              "          'seen': 161,\n",
              "          'this': 1280,\n",
              "          'mere': 42,\n",
              "          'painstaking': 1,\n",
              "          'burrower': 1,\n",
              "          'grub': 1,\n",
              "          'worm': 5,\n",
              "          'poor': 106,\n",
              "          'devil': 51,\n",
              "          'appears': 7,\n",
              "          'have': 762,\n",
              "          'gone': 58,\n",
              "          'long': 318,\n",
              "          'Vaticans': 1,\n",
              "          'street': 10,\n",
              "          'stalls': 1,\n",
              "          'earth': 46,\n",
              "          'picking': 4,\n",
              "          'up': 507,\n",
              "          'whatever': 44,\n",
              "          'random': 5,\n",
              "          'allusions': 7,\n",
              "          'whales': 237,\n",
              "          'he': 1661,\n",
              "          'could': 215,\n",
              "          'anyways': 2,\n",
              "          'find': 59,\n",
              "          'any': 322,\n",
              "          'book': 38,\n",
              "          'whatsoever': 5,\n",
              "          'sacred': 7,\n",
              "          'profane': 4,\n",
              "          'Therefore': 11,\n",
              "          'must': 282,\n",
              "          'every': 222,\n",
              "          'case': 69,\n",
              "          'at': 1233,\n",
              "          'least': 75,\n",
              "          'higgledy': 1,\n",
              "          'piggledy': 1,\n",
              "          'statements': 4,\n",
              "          'however': 80,\n",
              "          'authentic': 3,\n",
              "          'these': 381,\n",
              "          'extracts': 4,\n",
              "          'veritable': 4,\n",
              "          'gospel': 1,\n",
              "          'cetology': 4,\n",
              "          'Far': 4,\n",
              "          'As': 120,\n",
              "          'touching': 45,\n",
              "          'ancient': 28,\n",
              "          'authors': 3,\n",
              "          'generally': 30,\n",
              "          'as': 1620,\n",
              "          'well': 174,\n",
              "          'poets': 3,\n",
              "          'here': 272,\n",
              "          'appearing': 3,\n",
              "          'are': 590,\n",
              "          'solely': 6,\n",
              "          'valuable': 11,\n",
              "          'entertaining': 2,\n",
              "          'affording': 2,\n",
              "          'glancing': 12,\n",
              "          'bird': 17,\n",
              "          's': 1739,\n",
              "          'eye': 88,\n",
              "          'view': 46,\n",
              "          'has': 287,\n",
              "          'been': 417,\n",
              "          'promiscuously': 1,\n",
              "          'said': 302,\n",
              "          'thought': 149,\n",
              "          'fancied': 9,\n",
              "          'sung': 2,\n",
              "          'Leviathan': 64,\n",
              "          'many': 161,\n",
              "          'generations': 6,\n",
              "          'including': 8,\n",
              "          'own': 205,\n",
              "          'So': 147,\n",
              "          'fare': 10,\n",
              "          'thee': 129,\n",
              "          'whose': 86,\n",
              "          'commentator': 1,\n",
              "          'am': 86,\n",
              "          'Thou': 39,\n",
              "          'belongest': 1,\n",
              "          'hopeless': 8,\n",
              "          'sallow': 1,\n",
              "          'tribe': 9,\n",
              "          'no': 484,\n",
              "          'wine': 12,\n",
              "          'warm': 24,\n",
              "          'whom': 43,\n",
              "          'even': 181,\n",
              "          'Pale': 1,\n",
              "          'Sherry': 1,\n",
              "          'would': 421,\n",
              "          'too': 184,\n",
              "          'rosy': 2,\n",
              "          'strong': 34,\n",
              "          'but': 1113,\n",
              "          'one': 889,\n",
              "          'sometimes': 81,\n",
              "          'loves': 1,\n",
              "          'sit': 16,\n",
              "          'feel': 56,\n",
              "          'devilish': 9,\n",
              "          'grow': 24,\n",
              "          'convivial': 4,\n",
              "          'upon': 538,\n",
              "          'tears': 6,\n",
              "          'say': 237,\n",
              "          'bluntly': 1,\n",
              "          'full': 121,\n",
              "          'eyes': 155,\n",
              "          'empty': 22,\n",
              "          'glasses': 10,\n",
              "          'altogether': 29,\n",
              "          'unpleasant': 3,\n",
              "          'sadness': 2,\n",
              "          'Give': 15,\n",
              "          'Subs': 1,\n",
              "          '!': 1269,\n",
              "          'For': 197,\n",
              "          'how': 187,\n",
              "          'much': 218,\n",
              "          'pains': 15,\n",
              "          'ye': 460,\n",
              "          'please': 12,\n",
              "          'so': 918,\n",
              "          'shall': 84,\n",
              "          'go': 182,\n",
              "          'thankless': 1,\n",
              "          'Would': 11,\n",
              "          'clear': 39,\n",
              "          'Hampton': 1,\n",
              "          'Court': 1,\n",
              "          'Tuileries': 3,\n",
              "          'But': 705,\n",
              "          'gulp': 2,\n",
              "          'down': 364,\n",
              "          'your': 240,\n",
              "          'hie': 1,\n",
              "          'aloft': 53,\n",
              "          'royal': 29,\n",
              "          'mast': 124,\n",
              "          'hearts': 29,\n",
              "          'friends': 16,\n",
              "          'who': 319,\n",
              "          'before': 293,\n",
              "          'clearing': 4,\n",
              "          'seven': 15,\n",
              "          'storied': 4,\n",
              "          'heavens': 17,\n",
              "          'making': 45,\n",
              "          'refugees': 1,\n",
              "          'pampered': 1,\n",
              "          'Gabriel': 20,\n",
              "          'Michael': 1,\n",
              "          'Raphael': 1,\n",
              "          'against': 132,\n",
              "          'coming': 50,\n",
              "          'Here': 49,\n",
              "          'strike': 28,\n",
              "          'splintered': 7,\n",
              "          'together': 66,\n",
              "          'there': 717,\n",
              "          'unsplinterable': 1,\n",
              "          'And': 369,\n",
              "          'God': 132,\n",
              "          'created': 6,\n",
              "          'great': 293,\n",
              "          'GENESIS': 1,\n",
              "          'path': 10,\n",
              "          'shine': 3,\n",
              "          'after': 252,\n",
              "          'One': 28,\n",
              "          'think': 111,\n",
              "          'deep': 69,\n",
              "          'hoary': 2,\n",
              "          'JOB': 1,\n",
              "          'Now': 139,\n",
              "          'Lord': 44,\n",
              "          'had': 767,\n",
              "          'prepared': 12,\n",
              "          'swallow': 10,\n",
              "          'Jonah': 84,\n",
              "          'JONAH': 1,\n",
              "          'There': 147,\n",
              "          'ships': 87,\n",
              "          'thou': 232,\n",
              "          'hast': 19,\n",
              "          'made': 178,\n",
              "          'play': 29,\n",
              "          'therein': 5,\n",
              "          'PSALMS': 2,\n",
              "          'In': 237,\n",
              "          'day': 172,\n",
              "          'sore': 3,\n",
              "          'sword': 23,\n",
              "          'punish': 1,\n",
              "          'piercing': 4,\n",
              "          'serpent': 4,\n",
              "          'crooked': 8,\n",
              "          'slay': 4,\n",
              "          'dragon': 5,\n",
              "          'sea': 433,\n",
              "          'ISAIAH': 1,\n",
              "          'thing': 188,\n",
              "          'soever': 1,\n",
              "          'besides': 20,\n",
              "          'cometh': 1,\n",
              "          'within': 78,\n",
              "          'chaos': 4,\n",
              "          'monster': 49,\n",
              "          'mouth': 60,\n",
              "          'beast': 4,\n",
              "          'boat': 330,\n",
              "          'stone': 18,\n",
              "          'goes': 54,\n",
              "          'incontinently': 1,\n",
              "          'foul': 11,\n",
              "          'perisheth': 1,\n",
              "          'bottomless': 7,\n",
              "          'gulf': 4,\n",
              "          'paunch': 2,\n",
              "          'HOLLAND': 2,\n",
              "          'PLUTARCH': 1,\n",
              "          'MORALS': 1,\n",
              "          'Indian': 57,\n",
              "          'Sea': 22,\n",
              "          'breedeth': 1,\n",
              "          'most': 277,\n",
              "          'biggest': 2,\n",
              "          'fishes': 3,\n",
              "          ':': 164,\n",
              "          'among': 158,\n",
              "          'Whales': 29,\n",
              "          'Whirlpooles': 1,\n",
              "          'Balaene': 1,\n",
              "          'length': 78,\n",
              "          'four': 74,\n",
              "          'acres': 3,\n",
              "          'arpens': 1,\n",
              "          'land': 78,\n",
              "          'PLINY': 1,\n",
              "          'Scarcely': 1,\n",
              "          'we': 413,\n",
              "          'proceeded': 6,\n",
              "          'two': 285,\n",
              "          'days': 80,\n",
              "          'on': 1007,\n",
              "          'when': 553,\n",
              "          'about': 304,\n",
              "          'sunrise': 11,\n",
              "          'other': 414,\n",
              "          'monsters': 9,\n",
              "          'appeared': 10,\n",
              "          'Among': 8,\n",
              "          'former': 20,\n",
              "          'monstrous': 10,\n",
              "          'size': 12,\n",
              "          'came': 130,\n",
              "          'towards': 107,\n",
              "          'us': 228,\n",
              "          'open': 75,\n",
              "          'mouthed': 4,\n",
              "          'raising': 4,\n",
              "          'waves': 48,\n",
              "          'sides': 28,\n",
              "          'beating': 11,\n",
              "          'into': 522,\n",
              "          'foam': 19,\n",
              "          'TOOKE': 1,\n",
              "          'LUCIAN': 1,\n",
              "          'THE': 98,\n",
              "          'TRUE': 1,\n",
              "          'HISTORY': 4,\n",
              "          'visited': 7,\n",
              "          'country': 25,\n",
              "          'also': 90,\n",
              "          'catching': 7,\n",
              "          'horse': 26,\n",
              "          'bones': 48,\n",
              "          'very': 311,\n",
              "          'value': 6,\n",
              "          'their': 612,\n",
              "          'teeth': 47,\n",
              "          'brought': 38,\n",
              "          'some': 578,\n",
              "          'king': 25,\n",
              "          'best': 62,\n",
              "          'were': 680,\n",
              "          'catched': 1,\n",
              "          'forty': 28,\n",
              "          'eight': 24,\n",
              "          'fifty': 33,\n",
              "          'yards': 27,\n",
              "          'six': 31,\n",
              "          'killed': 33,\n",
              "          'sixty': 17,\n",
              "          'OTHER': 2,\n",
              "          'OR': 5,\n",
              "          'OCTHER': 1,\n",
              "          'VERBAL': 1,\n",
              "          'NARRATIVE': 4,\n",
              "          'TAKEN': 1,\n",
              "          'DOWN': 2,\n",
              "          'FROM': 10,\n",
              "          'HIS': 17,\n",
              "          'MOUTH': 1,\n",
              "          'BY': 15,\n",
              "          'KING': 2,\n",
              "          'ALFRED': 1,\n",
              "          'D': 23,\n",
              "          '890': 1,\n",
              "          'whereas': 14,\n",
              "          'things': 132,\n",
              "          'whether': 76,\n",
              "          'vessel': 54,\n",
              "          'enter': 9,\n",
              "          'dreadful': 6,\n",
              "          'lost': 45,\n",
              "          'swallowed': 13,\n",
              "          'gudgeon': 1,\n",
              "          'retires': 1,\n",
              "          'security': 3,\n",
              "          'sleeps': 7,\n",
              "          'MONTAIGNE': 1,\n",
              "          'APOLOGY': 1,\n",
              "          'FOR': 6,\n",
              "          'RAIMOND': 1,\n",
              "          'SEBOND': 1,\n",
              "          'Let': 38,\n",
              "          'fly': 14,\n",
              "          'let': 120,\n",
              "          'Old': 11,\n",
              "          'Nick': 1,\n",
              "          'me': 627,\n",
              "          'if': 421,\n",
              "          'described': 8,\n",
              "          'noble': 44,\n",
              "          'prophet': 13,\n",
              "          'Moses': 2,\n",
              "          'life': 162,\n",
              "          'patient': 6,\n",
              "          'Job': 5,\n",
              "          'RABELAIS': 1,\n",
              "          'liver': 4,\n",
              "          'cartloads': 1,\n",
              "          'STOWE': 1,\n",
              "          'ANNALS': 1,\n",
              "          'seas': 80,\n",
              "          'seethe': 3,\n",
              "          'like': 626,\n",
              "          'boiling': 15,\n",
              "          'pan': 3,\n",
              "          'LORD': 1,\n",
              "          'BACON': 1,\n",
              "          'VERSION': 2,\n",
              "          'OF': 49,\n",
              "          'Touching': 1,\n",
              "          'bulk': 32,\n",
              "          'ork': 1,\n",
              "          'received': 26,\n",
              "          'nothing': 102,\n",
              "          'certain': 87,\n",
              "          'They': 78,\n",
              "          'exceeding': 12,\n",
              "          'fat': 12,\n",
              "          'insomuch': 2,\n",
              "          'an': 584,\n",
              "          'incredible': 9,\n",
              "          'quantity': 13,\n",
              "          'oil': 90,\n",
              "          'extracted': 5,\n",
              "          'IBID': 3,\n",
              "          'LIFE': 2,\n",
              "          'AND': 37,\n",
              "          'DEATH': 1,\n",
              "          'sovereignest': 1,\n",
              "          'parmacetti': 3,\n",
              "          'inward': 4,\n",
              "          'bruise': 1,\n",
              "          'HENRY': 2,\n",
              "          'Very': 11,\n",
              "          'HAMLET': 1,\n",
              "          'Which': 6,\n",
              "          'secure': 12,\n",
              "          'skill': 10,\n",
              "          'leach': 1,\n",
              "          'art': 39,\n",
              "          'Mote': 1,\n",
              "          'availle': 1,\n",
              "          'returne': 1,\n",
              "          'againe': 1,\n",
              "          'To': 62,\n",
              "          'wound': 17,\n",
              "          'worker': 1,\n",
              "          'lowly': 8,\n",
              "          'dart': 24,\n",
              "          'Dinting': 1,\n",
              "          'breast': 7,\n",
              "          'bred': 9,\n",
              "          'restless': 4,\n",
              "          'paine': 1,\n",
              "          'Like': 23,\n",
              "          'wounded': 9,\n",
              "          'shore': 23,\n",
              "          'flies': 7,\n",
              "          'thro': 1,\n",
              "          'maine': 1,\n",
              "          'FAERIE': 1,\n",
              "          'QUEEN': 2,\n",
              "          'Immense': 1,\n",
              "          'motion': 17,\n",
              "          'vast': 73,\n",
              "          'bodies': 9,\n",
              "          'can': 220,\n",
              "          'peaceful': 6,\n",
              "          'calm': 41,\n",
              "          'trouble': 11,\n",
              "          'ocean': 71,\n",
              "          'til': 1,\n",
              "          'boil': 2,\n",
              "          'SIR': 4,\n",
              "          'WILLIAM': 2,\n",
              "          'DAVENANT': 1,\n",
              "          'PREFACE': 1,\n",
              "          'TO': 21,\n",
              "          'GONDIBERT': 1,\n",
              "          'What': 174,\n",
              "          'spermacetti': 1,\n",
              "          'men': 236,\n",
              "          'might': 183,\n",
              "          'justly': 3,\n",
              "          'doubt': 32,\n",
              "          'since': 63,\n",
              "          'learned': 25,\n",
              "          'Hosmannus': 1,\n",
              "          'work': 62,\n",
              "          'thirty': 26,\n",
              "          'years': 94,\n",
              "          'saith': 5,\n",
              "          'plainly': 39,\n",
              "          'Nescio': 1,\n",
              "          'quid': 2,\n",
              "          'T': 8,\n",
              "          'BROWNE': 3,\n",
              "          'SPERMA': 2,\n",
              "          'CETI': 2,\n",
              "          'VIDE': 1,\n",
              "          'V': 6,\n",
              "          'E': 5,\n",
              "          'Spencer': 1,\n",
              "          'Talus': 1,\n",
              "          'modern': 18,\n",
              "          'flail': 1,\n",
              "          'threatens': 1,\n",
              "          'ruin': 5,\n",
              "          'ponderous': 13,\n",
              "          'tail': 78,\n",
              "          'Their': 6,\n",
              "          'fixed': 37,\n",
              "          'jav': 1,\n",
              "          'lins': 1,\n",
              "          'side': 208,\n",
              "          'wears': 7,\n",
              "          'back': 151,\n",
              "          'grove': 3,\n",
              "          'pikes': 2,\n",
              "          'WALLER': 1,\n",
              "          'BATTLE': 2,\n",
              "          'SUMMER': 1,\n",
              "          'ISLANDS': 1,\n",
              "          'By': 52,\n",
              "          'Commonwealth': 1,\n",
              "          'State': 4,\n",
              "          '--(': 4,\n",
              "          'Latin': 4,\n",
              "          'Civitas': 1,\n",
              "          'artificial': 5,\n",
              "          'man': 508,\n",
              "          'OPENING': 1,\n",
              "          'SENTENCE': 1,\n",
              "          'HOBBES': 1,\n",
              "          'LEVIATHAN': 1,\n",
              "          'Silly': 1,\n",
              "          'Mansoul': 1,\n",
              "          'without': 154,\n",
              "          'chewing': 1,\n",
              "          'sprat': 1,\n",
              "          'PILGRIM': 1,\n",
              "          'PROGRESS': 1,\n",
              "          'That': 85,\n",
              "          'works': 30,\n",
              "          'Created': 1,\n",
              "          'hugest': 3,\n",
              "          'swim': 20,\n",
              "          'stream': 11,\n",
              "          'PARADISE': 1,\n",
              "          'LOST': 1,\n",
              "          '---\"': 1,\n",
              "          'Hugest': 1,\n",
              "          'living': 73,\n",
              "          'creatures': 34,\n",
              "          'Stretched': 1,\n",
              "          'promontory': 5,\n",
              "          'swims': 8,\n",
              "          'seems': 84,\n",
              "          'moving': 13,\n",
              "          'gills': 4,\n",
              "          'Draws': 1,\n",
              "          'breath': 18,\n",
              "          'spouts': 16,\n",
              "          'mighty': 47,\n",
              "          'water': 185,\n",
              "          'swimming': 29,\n",
              "          'FULLLER': 1,\n",
              "          'PROFANE': 1,\n",
              "          'HOLY': 1,\n",
              "          'STATE': 1,\n",
              "          'close': 54,\n",
              "          'behind': 50,\n",
              "          'lie': 26,\n",
              "          'huge': 29,\n",
              "          'attend': 9,\n",
              "          'prey': 14,\n",
              "          'give': 71,\n",
              "          'chance': 46,\n",
              "          'fry': 3,\n",
              "          'gaping': 3,\n",
              "          'jaws': 30,\n",
              "          'mistake': 9,\n",
              "          'way': 269,\n",
              "          'DRYDEN': 1,\n",
              "          'ANNUS': 1,\n",
              "          'MIRABILIS': 1,\n",
              "          'floating': 24,\n",
              "          'stern': 48,\n",
              "          'ship': 507,\n",
              "          'they': 588,\n",
              "          'cut': 50,\n",
              "          'off': 217,\n",
              "          'head': 335,\n",
              "          'tow': 16,\n",
              "          'near': 69,\n",
              "          'come': 150,\n",
              "          'aground': 1,\n",
              "          'twelve': 16,\n",
              "          'thirteen': 2,\n",
              "          'feet': 125,\n",
              "          'THOMAS': 3,\n",
              "          'EDGE': 1,\n",
              "          'TEN': 1,\n",
              "          'VOYAGES': 3,\n",
              "          'SPITZBERGEN': 1,\n",
              "          'IN': 19,\n",
              "          'PURCHAS': 1,\n",
              "          'saw': 115,\n",
              "          'sporting': 4,\n",
              "          'wantonness': 1,\n",
              "          'fuzzing': 1,\n",
              "          'pipes': 8,\n",
              "          'vents': 1,\n",
              "          'nature': 34,\n",
              "          'placed': 36,\n",
              "          'shoulders': 13,\n",
              "          'HERBERT': 1,\n",
              "          'INTO': 1,\n",
              "          'ASIA': 1,\n",
              "          'AFRICA': 1,\n",
              "          'HARRIS': 2,\n",
              "          'COLL': 2,\n",
              "          'such': 336,\n",
              "          'troops': 2,\n",
              "          'forced': 18,\n",
              "          'proceed': 14,\n",
              "          'deal': 12,\n",
              "          'caution': 2,\n",
              "          'fear': 32,\n",
              "          'should': 181,\n",
              "          'run': 51,\n",
              "          'SCHOUTEN': 1,\n",
              "          'SIXTH': 1,\n",
              "          'CIRCUMNAVIGATION': 1,\n",
              "          'We': 47,\n",
              "          'set': 74,\n",
              "          'sail': 96,\n",
              "          'Elbe': 1,\n",
              "          'wind': 67,\n",
              "          'N': 2,\n",
              "          'Jonas': 3,\n",
              "          'Whale': 282,\n",
              "          'Some': 38,\n",
              "          't': 283,\n",
              "          'fable': 5,\n",
              "          'frequently': 14,\n",
              "          'climb': 4,\n",
              "          'masts': 26,\n",
              "          'first': 210,\n",
              "          'discoverer': 2,\n",
              "          'ducat': 1,\n",
              "          'told': 45,\n",
              "          'taken': 50,\n",
              "          'Shetland': 2,\n",
              "          'above': 56,\n",
              "          'barrel': 5,\n",
              "          'herrings': 1,\n",
              "          'belly': 9,\n",
              "          'harpooneers': 55,\n",
              "          'caught': 44,\n",
              "          'once': 144,\n",
              "          'Spitzbergen': 4,\n",
              "          'white': 191,\n",
              "          'over': 403,\n",
              "          'VOYAGE': 7,\n",
              "          'GREENLAND': 1,\n",
              "          '1671': 2,\n",
              "          'Several': 1,\n",
              "          'coast': 40,\n",
              "          'Fife': 1,\n",
              "          'Anno': 1,\n",
              "          '1652': 1,\n",
              "          'eighty': 4,\n",
              "          'bone': 50,\n",
              "          'kind': 27,\n",
              "          'informed': 4,\n",
              "          '),': 62,\n",
              "          'did': 246,\n",
              "          'afford': 9,\n",
              "          '500': 2,\n",
              "          'weight': 17,\n",
              "          'baleen': 11,\n",
              "          'stand': 83,\n",
              "          'gate': 4,\n",
              "          'garden': 6,\n",
              "          'Pitferren': 1,\n",
              "          'SIBBALD': 1,\n",
              "          'FIFE': 1,\n",
              "          'KINROSS': 1,\n",
              "          'Myself': 1,\n",
              "          'agreed': 3,\n",
              "          'try': 49,\n",
              "          'master': 23,\n",
              "          'kill': 30,\n",
              "          'Sperma': 1,\n",
              "          'ceti': 1,\n",
              "          'never': 195,\n",
              "          'hear': 60,\n",
              "          'sort': 152,\n",
              "          'fierceness': 1,\n",
              "          'swiftness': 6,\n",
              "          'RICHARD': 1,\n",
              "          'STRAFFORD': 1,\n",
              "          'LETTER': 1,\n",
              "          'BERMUDAS': 1,\n",
              "          'PHIL': 1,\n",
              "          'TRANS': 1,\n",
              "          '1668': 1,\n",
              "          'voice': 46,\n",
              "          'obey': 8,\n",
              "          'PRIMER': 1,\n",
              "          'abundance': 4,\n",
              "          'large': 77,\n",
              "          'being': 219,\n",
              "          'those': 297,\n",
              "          'southern': 5,\n",
              "          'may': 232,\n",
              "          'hundred': 50,\n",
              "          'than': 309,\n",
              "          'northward': 4,\n",
              "          'CAPTAIN': 2,\n",
              "          'COWLEY': 1,\n",
              "          'ROUND': 2,\n",
              "          'GLOBE': 4,\n",
              "          '1729': 1,\n",
              "          '\"...': 1,\n",
              "          'frequendy': 1,\n",
              "          'attended': 6,\n",
              "          'insupportable': 1,\n",
              "          'smell': 11,\n",
              "          'bring': 18,\n",
              "          'disorder': 1,\n",
              "          'ULLOA': 1,\n",
              "          'SOUTH': 1,\n",
              "          'AMERICA': 1,\n",
              "          'chosen': 3,\n",
              "          'sylphs': 1,\n",
              "          'special': 15,\n",
              "          'note': 6,\n",
              "          'trust': 4,\n",
              "          'important': 19,\n",
              "          'charge': 10,\n",
              "          'petticoat': 1,\n",
              "          'Oft': 1,\n",
              "          'fold': 6,\n",
              "          'fence': 2,\n",
              "          'fail': 17,\n",
              "          'Tho': 1,\n",
              "          'stuffed': 5,\n",
              "          'hoops': 11,\n",
              "          'armed': 15,\n",
              "          'ribs': 20,\n",
              "          'RAPE': 1,\n",
              "          'LOCK': 1,\n",
              "          'If': 60,\n",
              "          'compare': 7,\n",
              "          'animals': 5,\n",
              "          'respect': 16,\n",
              "          'magnitude': 21,\n",
              "          'abode': 2,\n",
              "          'appear': 6,\n",
              "          'contemptible': 4,\n",
              "          'comparison': 6,\n",
              "          'doubtless': 12,\n",
              "          'largest': 19,\n",
              "          'creation': 7,\n",
              "          'GOLDSMITH': 2,\n",
              "          'NAT': 1,\n",
              "          'HIST': 2,\n",
              "          'write': 5,\n",
              "          'little': 247,\n",
              "          'make': 109,\n",
              "          'speak': 47,\n",
              "          'wales': 1,\n",
              "          'JOHNSON': 1,\n",
              "          'afternoon': 10,\n",
              "          'supposed': 15,\n",
              "          'rock': 14,\n",
              "          'found': 117,\n",
              "          'dead': 90,\n",
              "          'Asiatics': 2,\n",
              "          'then': 571,\n",
              "          'towing': 14,\n",
              "          'ashore': 33,\n",
              "          'seemed': 283,\n",
              "          'endeavor': 4,\n",
              "          'conceal': 2,\n",
              "          'themselves': 59,\n",
              "          'order': 64,\n",
              "          'avoid': 6,\n",
              "          'COOK': 1,\n",
              "          'larger': 9,\n",
              "          'seldom': 24,\n",
              "          'venture': 5,\n",
              "          'attack': 8,\n",
              "          'dread': 12,\n",
              "          'afraid': 15,\n",
              "          'mention': 15,\n",
              "          'names': 12,\n",
              "          'carry': 25,\n",
              "          'dung': 1,\n",
              "          'lime': 1,\n",
              "          'juniper': 1,\n",
              "          'wood': 34,\n",
              "          'articles': 12,\n",
              "          'same': 213,\n",
              "          'boats': 145,\n",
              "          'terrify': 3,\n",
              "          'prevent': 6,\n",
              "          'approach': 5,\n",
              "          'UNO': 1,\n",
              "          'VON': 1,\n",
              "          'TROIL': 1,\n",
              "          'LETTERS': 1,\n",
              "          'ON': 11,\n",
              "          'BANKS': 1,\n",
              "          'SOLANDER': 1,\n",
              "          'ICELAND': 2,\n",
              "          '1772': 1,\n",
              "          'Spermacetti': 2,\n",
              "          'Nantuckois': 1,\n",
              "          'active': 8,\n",
              "          'fierce': 11,\n",
              "          'requires': 7,\n",
              "          'address': 4,\n",
              "          'boldness': 2,\n",
              "          'fishermen': 28,\n",
              "          'JEFFERSON': 1,\n",
              "          'MEMORIAL': 1,\n",
              "          'MINISTER': 1,\n",
              "          '1778': 2,\n",
              "          'pray': 6,\n",
              "          'sir': 143,\n",
              "          'equal': 14,\n",
              "          '?\"': 252,\n",
              "          'EDMUND': 2,\n",
              "          'BURKE': 2,\n",
              "          'REFERENCE': 1,\n",
              "          'PARLIAMENT': 1,\n",
              "          'NANTUCKET': 11,\n",
              "          'FISHERY': 2,\n",
              "          'Spain': 5,\n",
              "          'stranded': 12,\n",
              "          'shores': 7,\n",
              "          'Europe': 5,\n",
              "          'SOMEWHERE': 1,\n",
              "          '.)': 22,\n",
              "          'tenth': 4,\n",
              "          'branch': 4,\n",
              "          'ordinary': 19,\n",
              "          'revenue': 2,\n",
              "          'grounded': 3,\n",
              "          'consideration': 8,\n",
              "          'guarding': 1,\n",
              "          'protecting': 1,\n",
              "          'pirates': 9,\n",
              "          'robbers': 1,\n",
              "          'right': 97,\n",
              "          'sturgeon': 3,\n",
              "          'either': 39,\n",
              "          'thrown': 25,\n",
              "          'property': 7,\n",
              "          'BLACKSTONE': 1,\n",
              "          'Soon': 17,\n",
              "          'sport': 3,\n",
              "          'death': 71,\n",
              "          'crews': 16,\n",
              "          'repair': 3,\n",
              "          'Rodmond': 1,\n",
              "          'unerring': 3,\n",
              "          'o': 16,\n",
              "          'er': 7,\n",
              "          'suspends': 1,\n",
              "          'barbed': 6,\n",
              "          'steel': 32,\n",
              "          'turn': 54,\n",
              "          'attends': 1,\n",
              "          'FALCONER': 1,\n",
              "          'SHIPWRECK': 2,\n",
              "          'Bright': 1,\n",
              "          'shone': 3,\n",
              "          'roofs': 1,\n",
              "          'domes': 1,\n",
              "          'spires': 6,\n",
              "          'rockets': 1,\n",
              "          ...})"
            ]
          },
          "metadata": {
            "tags": []
          },
          "execution_count": 45
        }
      ]
    },
    {
      "metadata": {
        "id": "ytX8b9xM3S4t",
        "colab_type": "code",
        "colab": {
          "base_uri": "https://localhost:8080/",
          "height": 197
        },
        "outputId": "8e15ed48-a9d8-4454-d4bd-6fb7aa7f7c54"
      },
      "cell_type": "code",
      "source": [
        "fdist_top= fdist.most_common(10)\n",
        "fdist_top"
      ],
      "execution_count": 47,
      "outputs": [
        {
          "output_type": "execute_result",
          "data": {
            "text/plain": [
              "[(',', 18721),\n",
              " ('the', 13733),\n",
              " ('.', 6874),\n",
              " ('of', 6540),\n",
              " ('and', 6028),\n",
              " ('a', 4581),\n",
              " ('to', 4556),\n",
              " (';', 4072),\n",
              " ('in', 3918),\n",
              " ('that', 2992)]"
            ]
          },
          "metadata": {
            "tags": []
          },
          "execution_count": 47
        }
      ]
    },
    {
      "metadata": {
        "id": "PL359HLd3h8_",
        "colab_type": "code",
        "colab": {
          "base_uri": "https://localhost:8080/",
          "height": 35
        },
        "outputId": "d6f12672-7a11-4c27-dbb7-75cb6b3f8702"
      },
      "cell_type": "code",
      "source": [
        "from nltk.tokenize import blankline_tokenize\n",
        "Worbla= blankline_tokenize(word)\n",
        "len(Worbla)"
      ],
      "execution_count": 51,
      "outputs": [
        {
          "output_type": "execute_result",
          "data": {
            "text/plain": [
              "1"
            ]
          },
          "metadata": {
            "tags": []
          },
          "execution_count": 51
        }
      ]
    },
    {
      "metadata": {
        "id": "jWBfVtZe5ZFg",
        "colab_type": "code",
        "colab": {
          "base_uri": "https://localhost:8080/",
          "height": 169
        },
        "outputId": "d1d33203-7d18-4ec6-ecda-12a75796f85b"
      },
      "cell_type": "code",
      "source": [
        "nltk.bigrams"
      ],
      "execution_count": 54,
      "outputs": [
        {
          "output_type": "error",
          "ename": "AttributeError",
          "evalue": "ignored",
          "traceback": [
            "\u001b[0;31m---------------------------------------------------------------------------\u001b[0m",
            "\u001b[0;31mAttributeError\u001b[0m                            Traceback (most recent call last)",
            "\u001b[0;32m<ipython-input-54-9f1f6b6db5c8>\u001b[0m in \u001b[0;36m<module>\u001b[0;34m()\u001b[0m\n\u001b[0;32m----> 1\u001b[0;31m \u001b[0mnltk\u001b[0m\u001b[0;34m.\u001b[0m\u001b[0mbigrame\u001b[0m\u001b[0;34m\u001b[0m\u001b[0m\n\u001b[0m",
            "\u001b[0;31mAttributeError\u001b[0m: module 'nltk' has no attribute 'bigrame'"
          ]
        }
      ]
    },
    {
      "metadata": {
        "id": "_mfQxyaJyTd4",
        "colab_type": "code",
        "colab": {
          "base_uri": "https://localhost:8080/",
          "height": 55
        },
        "outputId": "02565a19-df7d-44ef-f3cf-93455d051b1c"
      },
      "cell_type": "code",
      "source": [
        "print(state_union.fileids())"
      ],
      "execution_count": 29,
      "outputs": [
        {
          "output_type": "stream",
          "text": [
            "['1945-Truman.txt', '1946-Truman.txt', '1947-Truman.txt', '1948-Truman.txt', '1949-Truman.txt', '1950-Truman.txt', '1951-Truman.txt', '1953-Eisenhower.txt', '1954-Eisenhower.txt', '1955-Eisenhower.txt', '1956-Eisenhower.txt', '1957-Eisenhower.txt', '1958-Eisenhower.txt', '1959-Eisenhower.txt', '1960-Eisenhower.txt', '1961-Kennedy.txt', '1962-Kennedy.txt', '1963-Johnson.txt', '1963-Kennedy.txt', '1964-Johnson.txt', '1965-Johnson-1.txt', '1965-Johnson-2.txt', '1966-Johnson.txt', '1967-Johnson.txt', '1968-Johnson.txt', '1969-Johnson.txt', '1970-Nixon.txt', '1971-Nixon.txt', '1972-Nixon.txt', '1973-Nixon.txt', '1974-Nixon.txt', '1975-Ford.txt', '1976-Ford.txt', '1977-Ford.txt', '1978-Carter.txt', '1979-Carter.txt', '1980-Carter.txt', '1981-Reagan.txt', '1982-Reagan.txt', '1983-Reagan.txt', '1984-Reagan.txt', '1985-Reagan.txt', '1986-Reagan.txt', '1987-Reagan.txt', '1988-Reagan.txt', '1989-Bush.txt', '1990-Bush.txt', '1991-Bush-1.txt', '1991-Bush-2.txt', '1992-Bush.txt', '1993-Clinton.txt', '1994-Clinton.txt', '1995-Clinton.txt', '1996-Clinton.txt', '1997-Clinton.txt', '1998-Clinton.txt', '1999-Clinton.txt', '2000-Clinton.txt', '2001-GWBush-1.txt', '2001-GWBush-2.txt', '2002-GWBush.txt', '2003-GWBush.txt', '2004-GWBush.txt', '2005-GWBush.txt', '2006-GWBush.txt']\n"
          ],
          "name": "stdout"
        }
      ]
    },
    {
      "metadata": {
        "id": "V4OUhMBs4_9m",
        "colab_type": "code",
        "colab": {
          "base_uri": "https://localhost:8080/",
          "height": 2411
        },
        "outputId": "4000d517-1582-407f-d497-12bd4115a340"
      },
      "cell_type": "code",
      "source": [
        "bigrames=list(nltk.ngrams(wortok,4))\n",
        "bigrames"
      ],
      "execution_count": 57,
      "outputs": [
        {
          "output_type": "execute_result",
          "data": {
            "text/plain": [
              "[('together', 'pages', 'on', 'similar'),\n",
              " ('pages', 'on', 'similar', 'subjects'),\n",
              " ('on', 'similar', 'subjects', '.'),\n",
              " ('similar', 'subjects', '.', 'They'),\n",
              " ('subjects', '.', 'They', 'are'),\n",
              " ('.', 'They', 'are', 'implemented'),\n",
              " ('They', 'are', 'implemented', 'by'),\n",
              " ('are', 'implemented', 'by', 'a'),\n",
              " ('implemented', 'by', 'a', 'MediaWiki'),\n",
              " ('by', 'a', 'MediaWiki', 'feature'),\n",
              " ('a', 'MediaWiki', 'feature', 'that'),\n",
              " ('MediaWiki', 'feature', 'that', 'adds'),\n",
              " ('feature', 'that', 'adds', 'any'),\n",
              " ('that', 'adds', 'any', 'page'),\n",
              " ('adds', 'any', 'page', 'with'),\n",
              " ('any', 'page', 'with', 'a'),\n",
              " ('page', 'with', 'a', 'text'),\n",
              " ('with', 'a', 'text', 'like'),\n",
              " ('a', 'text', 'like', '['),\n",
              " ('text', 'like', '[', '['),\n",
              " ('like', '[', '[', 'Category'),\n",
              " ('[', '[', 'Category', ':'),\n",
              " ('[', 'Category', ':', 'XYZ'),\n",
              " ('Category', ':', 'XYZ', ']'),\n",
              " (':', 'XYZ', ']', ']'),\n",
              " ('XYZ', ']', ']', 'in'),\n",
              " (']', ']', 'in', 'its'),\n",
              " (']', 'in', 'its', 'wikimarkup'),\n",
              " ('in', 'its', 'wikimarkup', 'to'),\n",
              " ('its', 'wikimarkup', 'to', 'the'),\n",
              " ('wikimarkup', 'to', 'the', 'automated'),\n",
              " ('to', 'the', 'automated', 'listing'),\n",
              " ('the', 'automated', 'listing', 'that'),\n",
              " ('automated', 'listing', 'that', 'is'),\n",
              " ('listing', 'that', 'is', 'the'),\n",
              " ('that', 'is', 'the', 'category'),\n",
              " ('is', 'the', 'category', 'with'),\n",
              " ('the', 'category', 'with', 'name'),\n",
              " ('category', 'with', 'name', 'XYZ'),\n",
              " ('with', 'name', 'XYZ', '.'),\n",
              " ('name', 'XYZ', '.', 'Categories'),\n",
              " ('XYZ', '.', 'Categories', 'help'),\n",
              " ('.', 'Categories', 'help', 'readers'),\n",
              " ('Categories', 'help', 'readers', 'to'),\n",
              " ('help', 'readers', 'to', 'find'),\n",
              " ('readers', 'to', 'find', ','),\n",
              " ('to', 'find', ',', 'and'),\n",
              " ('find', ',', 'and', 'navigate'),\n",
              " (',', 'and', 'navigate', 'around'),\n",
              " ('and', 'navigate', 'around', ','),\n",
              " ('navigate', 'around', ',', 'a'),\n",
              " ('around', ',', 'a', 'subject'),\n",
              " (',', 'a', 'subject', 'area'),\n",
              " ('a', 'subject', 'area', ','),\n",
              " ('subject', 'area', ',', 'to'),\n",
              " ('area', ',', 'to', 'see'),\n",
              " (',', 'to', 'see', 'pages'),\n",
              " ('to', 'see', 'pages', 'sorted'),\n",
              " ('see', 'pages', 'sorted', 'by'),\n",
              " ('pages', 'sorted', 'by', 'title'),\n",
              " ('sorted', 'by', 'title', ','),\n",
              " ('by', 'title', ',', 'and'),\n",
              " ('title', ',', 'and', 'to'),\n",
              " (',', 'and', 'to', 'thus'),\n",
              " ('and', 'to', 'thus', 'find'),\n",
              " ('to', 'thus', 'find', 'article'),\n",
              " ('thus', 'find', 'article', 'relationships.Categories'),\n",
              " ('find', 'article', 'relationships.Categories', 'are'),\n",
              " ('article', 'relationships.Categories', 'are', 'normally'),\n",
              " ('relationships.Categories', 'are', 'normally', 'found'),\n",
              " ('are', 'normally', 'found', 'at'),\n",
              " ('normally', 'found', 'at', 'the'),\n",
              " ('found', 'at', 'the', 'bottom'),\n",
              " ('at', 'the', 'bottom', 'of'),\n",
              " ('the', 'bottom', 'of', 'an'),\n",
              " ('bottom', 'of', 'an', 'article'),\n",
              " ('of', 'an', 'article', 'page'),\n",
              " ('an', 'article', 'page', '.'),\n",
              " ('article', 'page', '.', 'Clicking'),\n",
              " ('page', '.', 'Clicking', 'a'),\n",
              " ('.', 'Clicking', 'a', 'category'),\n",
              " ('Clicking', 'a', 'category', 'name'),\n",
              " ('a', 'category', 'name', 'brings'),\n",
              " ('category', 'name', 'brings', 'up'),\n",
              " ('name', 'brings', 'up', 'a'),\n",
              " ('brings', 'up', 'a', 'category'),\n",
              " ('up', 'a', 'category', 'page'),\n",
              " ('a', 'category', 'page', 'listing'),\n",
              " ('category', 'page', 'listing', 'the'),\n",
              " ('page', 'listing', 'the', 'articles'),\n",
              " ('listing', 'the', 'articles', '('),\n",
              " ('the', 'articles', '(', 'or'),\n",
              " ('articles', '(', 'or', 'other'),\n",
              " ('(', 'or', 'other', 'pages'),\n",
              " ('or', 'other', 'pages', ')'),\n",
              " ('other', 'pages', ')', 'that'),\n",
              " ('pages', ')', 'that', 'have'),\n",
              " (')', 'that', 'have', 'been'),\n",
              " ('that', 'have', 'been', 'added'),\n",
              " ('have', 'been', 'added', 'to'),\n",
              " ('been', 'added', 'to', 'that'),\n",
              " ('added', 'to', 'that', 'particular'),\n",
              " ('to', 'that', 'particular', 'category'),\n",
              " ('that', 'particular', 'category', '.'),\n",
              " ('particular', 'category', '.', 'There'),\n",
              " ('category', '.', 'There', 'may'),\n",
              " ('.', 'There', 'may', 'also'),\n",
              " ('There', 'may', 'also', 'be'),\n",
              " ('may', 'also', 'be', 'a'),\n",
              " ('also', 'be', 'a', 'section'),\n",
              " ('be', 'a', 'section', 'listing'),\n",
              " ('a', 'section', 'listing', 'the'),\n",
              " ('section', 'listing', 'the', 'subcategories'),\n",
              " ('listing', 'the', 'subcategories', 'of'),\n",
              " ('the', 'subcategories', 'of', 'that'),\n",
              " ('subcategories', 'of', 'that', 'category'),\n",
              " ('of', 'that', 'category', '.'),\n",
              " ('that', 'category', '.', 'The'),\n",
              " ('category', '.', 'The', 'subcategorization'),\n",
              " ('.', 'The', 'subcategorization', 'feature'),\n",
              " ('The', 'subcategorization', 'feature', 'makes'),\n",
              " ('subcategorization', 'feature', 'makes', 'it'),\n",
              " ('feature', 'makes', 'it', 'possible'),\n",
              " ('makes', 'it', 'possible', 'to'),\n",
              " ('it', 'possible', 'to', 'organize'),\n",
              " ('possible', 'to', 'organize', 'categories'),\n",
              " ('to', 'organize', 'categories', 'into'),\n",
              " ('organize', 'categories', 'into', 'tree-like'),\n",
              " ('categories', 'into', 'tree-like', 'structures'),\n",
              " ('into', 'tree-like', 'structures', 'to'),\n",
              " ('tree-like', 'structures', 'to', 'aid'),\n",
              " ('structures', 'to', 'aid', 'navigation'),\n",
              " ('to', 'aid', 'navigation', '.')]"
            ]
          },
          "metadata": {
            "tags": []
          },
          "execution_count": 57
        }
      ]
    },
    {
      "metadata": {
        "id": "JYOEcMZN7R5k",
        "colab_type": "code",
        "colab": {}
      },
      "cell_type": "code",
      "source": [
        "words=\"together pages on similar subjects. They are implemented by a MediaWiki feature that adds any page with a text like [[Category:XYZ]] in its wikimarkup to the automated listing that is the category with name XYZ. Categories help readers to find, and navigate around, a subject area, to see pages sorted by title, and to thus find article relationships.Categories are normally found at the bottom of an article page. Clicking a category name brings up a category page listing the articles (or other pages) that have been added to that particular category. There may also be a section listing the subcategories of that category. The subcategorization feature makes it possible to organize categories into tree-like structures to aid navigation.\""
      ],
      "execution_count": 0,
      "outputs": []
    },
    {
      "metadata": {
        "id": "CgRRq_XM6B9o",
        "colab_type": "code",
        "colab": {
          "base_uri": "https://localhost:8080/",
          "height": 2465
        },
        "outputId": "6de0aa73-ce4c-43b3-9ae9-498fffb1cb50"
      },
      "cell_type": "code",
      "source": [
        "from nltk.stem import PorterStemmer\n",
        "pst=PorterStemmer()\n",
        "for wrd in wortok:\n",
        "    print(wrd+ \":\" + pst.stem(wrd))"
      ],
      "execution_count": 79,
      "outputs": [
        {
          "output_type": "stream",
          "text": [
            "together:togeth\n",
            "pages:page\n",
            "on:on\n",
            "similar:similar\n",
            "subjects:subject\n",
            ".:.\n",
            "They:they\n",
            "are:are\n",
            "implemented:implement\n",
            "by:by\n",
            "a:a\n",
            "MediaWiki:mediawiki\n",
            "feature:featur\n",
            "that:that\n",
            "adds:add\n",
            "any:ani\n",
            "page:page\n",
            "with:with\n",
            "a:a\n",
            "text:text\n",
            "like:like\n",
            "[:[\n",
            "[:[\n",
            "Category:categori\n",
            ":::\n",
            "XYZ:xyz\n",
            "]:]\n",
            "]:]\n",
            "in:in\n",
            "its:it\n",
            "wikimarkup:wikimarkup\n",
            "to:to\n",
            "the:the\n",
            "automated:autom\n",
            "listing:list\n",
            "that:that\n",
            "is:is\n",
            "the:the\n",
            "category:categori\n",
            "with:with\n",
            "name:name\n",
            "XYZ:xyz\n",
            ".:.\n",
            "Categories:categori\n",
            "help:help\n",
            "readers:reader\n",
            "to:to\n",
            "find:find\n",
            ",:,\n",
            "and:and\n",
            "navigate:navig\n",
            "around:around\n",
            ",:,\n",
            "a:a\n",
            "subject:subject\n",
            "area:area\n",
            ",:,\n",
            "to:to\n",
            "see:see\n",
            "pages:page\n",
            "sorted:sort\n",
            "by:by\n",
            "title:titl\n",
            ",:,\n",
            "and:and\n",
            "to:to\n",
            "thus:thu\n",
            "find:find\n",
            "article:articl\n",
            "relationships.Categories:relationships.categori\n",
            "are:are\n",
            "normally:normal\n",
            "found:found\n",
            "at:at\n",
            "the:the\n",
            "bottom:bottom\n",
            "of:of\n",
            "an:an\n",
            "article:articl\n",
            "page:page\n",
            ".:.\n",
            "Clicking:click\n",
            "a:a\n",
            "category:categori\n",
            "name:name\n",
            "brings:bring\n",
            "up:up\n",
            "a:a\n",
            "category:categori\n",
            "page:page\n",
            "listing:list\n",
            "the:the\n",
            "articles:articl\n",
            "(:(\n",
            "or:or\n",
            "other:other\n",
            "pages:page\n",
            "):)\n",
            "that:that\n",
            "have:have\n",
            "been:been\n",
            "added:ad\n",
            "to:to\n",
            "that:that\n",
            "particular:particular\n",
            "category:categori\n",
            ".:.\n",
            "There:there\n",
            "may:may\n",
            "also:also\n",
            "be:be\n",
            "a:a\n",
            "section:section\n",
            "listing:list\n",
            "the:the\n",
            "subcategories:subcategori\n",
            "of:of\n",
            "that:that\n",
            "category:categori\n",
            ".:.\n",
            "The:the\n",
            "subcategorization:subcategor\n",
            "feature:featur\n",
            "makes:make\n",
            "it:it\n",
            "possible:possibl\n",
            "to:to\n",
            "organize:organ\n",
            "categories:categori\n",
            "into:into\n",
            "tree-like:tree-lik\n",
            "structures:structur\n",
            "to:to\n",
            "aid:aid\n",
            "navigation:navig\n",
            ".:.\n"
          ],
          "name": "stdout"
        }
      ]
    },
    {
      "metadata": {
        "id": "IwOzJiX_86dH",
        "colab_type": "code",
        "colab": {}
      },
      "cell_type": "code",
      "source": [
        "from nltk.stem import wordnet\n",
        "from nltk.stem import WordNetLemmatizer\n",
        "word_lem = WordNetLemmatizer()"
      ],
      "execution_count": 0,
      "outputs": []
    },
    {
      "metadata": {
        "id": "CvvKe3jK9lrk",
        "colab_type": "code",
        "colab": {
          "base_uri": "https://localhost:8080/",
          "height": 35
        },
        "outputId": "fb91eb85-e8de-4e8c-b17b-6ce0b3b0ee99"
      },
      "cell_type": "code",
      "source": [
        "word_lem.lemmatize('corpera')"
      ],
      "execution_count": 85,
      "outputs": [
        {
          "output_type": "execute_result",
          "data": {
            "text/plain": [
              "'corpera'"
            ]
          },
          "metadata": {
            "tags": []
          },
          "execution_count": 85
        }
      ]
    },
    {
      "metadata": {
        "id": "ARMUd3lu94bJ",
        "colab_type": "code",
        "colab": {
          "base_uri": "https://localhost:8080/",
          "height": 2465
        },
        "outputId": "619746ab-af65-4fc7-f9a4-75151a53d78f"
      },
      "cell_type": "code",
      "source": [
        "for words in wortok:\n",
        "  print(words + \":\" + word_lem.lemmatize(words))"
      ],
      "execution_count": 86,
      "outputs": [
        {
          "output_type": "stream",
          "text": [
            "together:together\n",
            "pages:page\n",
            "on:on\n",
            "similar:similar\n",
            "subjects:subject\n",
            ".:.\n",
            "They:They\n",
            "are:are\n",
            "implemented:implemented\n",
            "by:by\n",
            "a:a\n",
            "MediaWiki:MediaWiki\n",
            "feature:feature\n",
            "that:that\n",
            "adds:add\n",
            "any:any\n",
            "page:page\n",
            "with:with\n",
            "a:a\n",
            "text:text\n",
            "like:like\n",
            "[:[\n",
            "[:[\n",
            "Category:Category\n",
            ":::\n",
            "XYZ:XYZ\n",
            "]:]\n",
            "]:]\n",
            "in:in\n",
            "its:it\n",
            "wikimarkup:wikimarkup\n",
            "to:to\n",
            "the:the\n",
            "automated:automated\n",
            "listing:listing\n",
            "that:that\n",
            "is:is\n",
            "the:the\n",
            "category:category\n",
            "with:with\n",
            "name:name\n",
            "XYZ:XYZ\n",
            ".:.\n",
            "Categories:Categories\n",
            "help:help\n",
            "readers:reader\n",
            "to:to\n",
            "find:find\n",
            ",:,\n",
            "and:and\n",
            "navigate:navigate\n",
            "around:around\n",
            ",:,\n",
            "a:a\n",
            "subject:subject\n",
            "area:area\n",
            ",:,\n",
            "to:to\n",
            "see:see\n",
            "pages:page\n",
            "sorted:sorted\n",
            "by:by\n",
            "title:title\n",
            ",:,\n",
            "and:and\n",
            "to:to\n",
            "thus:thus\n",
            "find:find\n",
            "article:article\n",
            "relationships.Categories:relationships.Categories\n",
            "are:are\n",
            "normally:normally\n",
            "found:found\n",
            "at:at\n",
            "the:the\n",
            "bottom:bottom\n",
            "of:of\n",
            "an:an\n",
            "article:article\n",
            "page:page\n",
            ".:.\n",
            "Clicking:Clicking\n",
            "a:a\n",
            "category:category\n",
            "name:name\n",
            "brings:brings\n",
            "up:up\n",
            "a:a\n",
            "category:category\n",
            "page:page\n",
            "listing:listing\n",
            "the:the\n",
            "articles:article\n",
            "(:(\n",
            "or:or\n",
            "other:other\n",
            "pages:page\n",
            "):)\n",
            "that:that\n",
            "have:have\n",
            "been:been\n",
            "added:added\n",
            "to:to\n",
            "that:that\n",
            "particular:particular\n",
            "category:category\n",
            ".:.\n",
            "There:There\n",
            "may:may\n",
            "also:also\n",
            "be:be\n",
            "a:a\n",
            "section:section\n",
            "listing:listing\n",
            "the:the\n",
            "subcategories:subcategories\n",
            "of:of\n",
            "that:that\n",
            "category:category\n",
            ".:.\n",
            "The:The\n",
            "subcategorization:subcategorization\n",
            "feature:feature\n",
            "makes:make\n",
            "it:it\n",
            "possible:possible\n",
            "to:to\n",
            "organize:organize\n",
            "categories:category\n",
            "into:into\n",
            "tree-like:tree-like\n",
            "structures:structure\n",
            "to:to\n",
            "aid:aid\n",
            "navigation:navigation\n",
            ".:.\n"
          ],
          "name": "stdout"
        }
      ]
    },
    {
      "metadata": {
        "id": "p4xAjRt3-bq5",
        "colab_type": "code",
        "colab": {
          "base_uri": "https://localhost:8080/",
          "height": 3239
        },
        "outputId": "58e5d42c-47d6-417d-d508-70f5e03f4c76"
      },
      "cell_type": "code",
      "source": [
        "from nltk.corpus import stopwords\n",
        "stopwords.words('english')"
      ],
      "execution_count": 87,
      "outputs": [
        {
          "output_type": "execute_result",
          "data": {
            "text/plain": [
              "['i',\n",
              " 'me',\n",
              " 'my',\n",
              " 'myself',\n",
              " 'we',\n",
              " 'our',\n",
              " 'ours',\n",
              " 'ourselves',\n",
              " 'you',\n",
              " \"you're\",\n",
              " \"you've\",\n",
              " \"you'll\",\n",
              " \"you'd\",\n",
              " 'your',\n",
              " 'yours',\n",
              " 'yourself',\n",
              " 'yourselves',\n",
              " 'he',\n",
              " 'him',\n",
              " 'his',\n",
              " 'himself',\n",
              " 'she',\n",
              " \"she's\",\n",
              " 'her',\n",
              " 'hers',\n",
              " 'herself',\n",
              " 'it',\n",
              " \"it's\",\n",
              " 'its',\n",
              " 'itself',\n",
              " 'they',\n",
              " 'them',\n",
              " 'their',\n",
              " 'theirs',\n",
              " 'themselves',\n",
              " 'what',\n",
              " 'which',\n",
              " 'who',\n",
              " 'whom',\n",
              " 'this',\n",
              " 'that',\n",
              " \"that'll\",\n",
              " 'these',\n",
              " 'those',\n",
              " 'am',\n",
              " 'is',\n",
              " 'are',\n",
              " 'was',\n",
              " 'were',\n",
              " 'be',\n",
              " 'been',\n",
              " 'being',\n",
              " 'have',\n",
              " 'has',\n",
              " 'had',\n",
              " 'having',\n",
              " 'do',\n",
              " 'does',\n",
              " 'did',\n",
              " 'doing',\n",
              " 'a',\n",
              " 'an',\n",
              " 'the',\n",
              " 'and',\n",
              " 'but',\n",
              " 'if',\n",
              " 'or',\n",
              " 'because',\n",
              " 'as',\n",
              " 'until',\n",
              " 'while',\n",
              " 'of',\n",
              " 'at',\n",
              " 'by',\n",
              " 'for',\n",
              " 'with',\n",
              " 'about',\n",
              " 'against',\n",
              " 'between',\n",
              " 'into',\n",
              " 'through',\n",
              " 'during',\n",
              " 'before',\n",
              " 'after',\n",
              " 'above',\n",
              " 'below',\n",
              " 'to',\n",
              " 'from',\n",
              " 'up',\n",
              " 'down',\n",
              " 'in',\n",
              " 'out',\n",
              " 'on',\n",
              " 'off',\n",
              " 'over',\n",
              " 'under',\n",
              " 'again',\n",
              " 'further',\n",
              " 'then',\n",
              " 'once',\n",
              " 'here',\n",
              " 'there',\n",
              " 'when',\n",
              " 'where',\n",
              " 'why',\n",
              " 'how',\n",
              " 'all',\n",
              " 'any',\n",
              " 'both',\n",
              " 'each',\n",
              " 'few',\n",
              " 'more',\n",
              " 'most',\n",
              " 'other',\n",
              " 'some',\n",
              " 'such',\n",
              " 'no',\n",
              " 'nor',\n",
              " 'not',\n",
              " 'only',\n",
              " 'own',\n",
              " 'same',\n",
              " 'so',\n",
              " 'than',\n",
              " 'too',\n",
              " 'very',\n",
              " 's',\n",
              " 't',\n",
              " 'can',\n",
              " 'will',\n",
              " 'just',\n",
              " 'don',\n",
              " \"don't\",\n",
              " 'should',\n",
              " \"should've\",\n",
              " 'now',\n",
              " 'd',\n",
              " 'll',\n",
              " 'm',\n",
              " 'o',\n",
              " 're',\n",
              " 've',\n",
              " 'y',\n",
              " 'ain',\n",
              " 'aren',\n",
              " \"aren't\",\n",
              " 'couldn',\n",
              " \"couldn't\",\n",
              " 'didn',\n",
              " \"didn't\",\n",
              " 'doesn',\n",
              " \"doesn't\",\n",
              " 'hadn',\n",
              " \"hadn't\",\n",
              " 'hasn',\n",
              " \"hasn't\",\n",
              " 'haven',\n",
              " \"haven't\",\n",
              " 'isn',\n",
              " \"isn't\",\n",
              " 'ma',\n",
              " 'mightn',\n",
              " \"mightn't\",\n",
              " 'mustn',\n",
              " \"mustn't\",\n",
              " 'needn',\n",
              " \"needn't\",\n",
              " 'shan',\n",
              " \"shan't\",\n",
              " 'shouldn',\n",
              " \"shouldn't\",\n",
              " 'wasn',\n",
              " \"wasn't\",\n",
              " 'weren',\n",
              " \"weren't\",\n",
              " 'won',\n",
              " \"won't\",\n",
              " 'wouldn',\n",
              " \"wouldn't\"]"
            ]
          },
          "metadata": {
            "tags": []
          },
          "execution_count": 87
        }
      ]
    },
    {
      "metadata": {
        "id": "t6z_RLNTA84o",
        "colab_type": "code",
        "colab": {}
      },
      "cell_type": "code",
      "source": [
        ""
      ],
      "execution_count": 0,
      "outputs": []
    },
    {
      "metadata": {
        "id": "ChyfqmlGAvcx",
        "colab_type": "code",
        "colab": {}
      },
      "cell_type": "code",
      "source": [
        "import re\n",
        "punctuation = re.compile(r'[-.?!.:;()|0-9]')"
      ],
      "execution_count": 0,
      "outputs": []
    },
    {
      "metadata": {
        "id": "pobbfU53-slY",
        "colab_type": "code",
        "colab": {}
      },
      "cell_type": "code",
      "source": [
        "post=[]\n",
        "for words in wortok:\n",
        "  word=punctuation.sub(\"\", words)\n",
        "  if len(word)>0:\n",
        "    post.append(word)"
      ],
      "execution_count": 0,
      "outputs": []
    },
    {
      "metadata": {
        "id": "Zdk-VahmBX3A",
        "colab_type": "code",
        "colab": {
          "base_uri": "https://localhost:8080/",
          "height": 2303
        },
        "outputId": "d30625f8-6eca-4bc9-8571-16cac4a55aa9"
      },
      "cell_type": "code",
      "source": [
        "post"
      ],
      "execution_count": 94,
      "outputs": [
        {
          "output_type": "execute_result",
          "data": {
            "text/plain": [
              "['together',\n",
              " 'pages',\n",
              " 'on',\n",
              " 'similar',\n",
              " 'subjects',\n",
              " 'They',\n",
              " 'are',\n",
              " 'implemented',\n",
              " 'by',\n",
              " 'a',\n",
              " 'MediaWiki',\n",
              " 'feature',\n",
              " 'that',\n",
              " 'adds',\n",
              " 'any',\n",
              " 'page',\n",
              " 'with',\n",
              " 'a',\n",
              " 'text',\n",
              " 'like',\n",
              " '[',\n",
              " '[',\n",
              " 'Category',\n",
              " 'XYZ',\n",
              " ']',\n",
              " ']',\n",
              " 'in',\n",
              " 'its',\n",
              " 'wikimarkup',\n",
              " 'to',\n",
              " 'the',\n",
              " 'automated',\n",
              " 'listing',\n",
              " 'that',\n",
              " 'is',\n",
              " 'the',\n",
              " 'category',\n",
              " 'with',\n",
              " 'name',\n",
              " 'XYZ',\n",
              " 'Categories',\n",
              " 'help',\n",
              " 'readers',\n",
              " 'to',\n",
              " 'find',\n",
              " ',',\n",
              " 'and',\n",
              " 'navigate',\n",
              " 'around',\n",
              " ',',\n",
              " 'a',\n",
              " 'subject',\n",
              " 'area',\n",
              " ',',\n",
              " 'to',\n",
              " 'see',\n",
              " 'pages',\n",
              " 'sorted',\n",
              " 'by',\n",
              " 'title',\n",
              " ',',\n",
              " 'and',\n",
              " 'to',\n",
              " 'thus',\n",
              " 'find',\n",
              " 'article',\n",
              " 'relationshipsCategories',\n",
              " 'are',\n",
              " 'normally',\n",
              " 'found',\n",
              " 'at',\n",
              " 'the',\n",
              " 'bottom',\n",
              " 'of',\n",
              " 'an',\n",
              " 'article',\n",
              " 'page',\n",
              " 'Clicking',\n",
              " 'a',\n",
              " 'category',\n",
              " 'name',\n",
              " 'brings',\n",
              " 'up',\n",
              " 'a',\n",
              " 'category',\n",
              " 'page',\n",
              " 'listing',\n",
              " 'the',\n",
              " 'articles',\n",
              " 'or',\n",
              " 'other',\n",
              " 'pages',\n",
              " 'that',\n",
              " 'have',\n",
              " 'been',\n",
              " 'added',\n",
              " 'to',\n",
              " 'that',\n",
              " 'particular',\n",
              " 'category',\n",
              " 'There',\n",
              " 'may',\n",
              " 'also',\n",
              " 'be',\n",
              " 'a',\n",
              " 'section',\n",
              " 'listing',\n",
              " 'the',\n",
              " 'subcategories',\n",
              " 'of',\n",
              " 'that',\n",
              " 'category',\n",
              " 'The',\n",
              " 'subcategorization',\n",
              " 'feature',\n",
              " 'makes',\n",
              " 'it',\n",
              " 'possible',\n",
              " 'to',\n",
              " 'organize',\n",
              " 'categories',\n",
              " 'into',\n",
              " 'treelike',\n",
              " 'structures',\n",
              " 'to',\n",
              " 'aid',\n",
              " 'navigation']"
            ]
          },
          "metadata": {
            "tags": []
          },
          "execution_count": 94
        }
      ]
    },
    {
      "metadata": {
        "id": "PXL7Yh8H_7iY",
        "colab_type": "code",
        "colab": {
          "base_uri": "https://localhost:8080/",
          "height": 2465
        },
        "outputId": "22f41196-c51e-4995-8057-e5fb81cdff8c"
      },
      "cell_type": "code",
      "source": [
        "wortok"
      ],
      "execution_count": 101,
      "outputs": [
        {
          "output_type": "execute_result",
          "data": {
            "text/plain": [
              "['together',\n",
              " 'pages',\n",
              " 'on',\n",
              " 'similar',\n",
              " 'subjects',\n",
              " '.',\n",
              " 'They',\n",
              " 'are',\n",
              " 'implemented',\n",
              " 'by',\n",
              " 'a',\n",
              " 'MediaWiki',\n",
              " 'feature',\n",
              " 'that',\n",
              " 'adds',\n",
              " 'any',\n",
              " 'page',\n",
              " 'with',\n",
              " 'a',\n",
              " 'text',\n",
              " 'like',\n",
              " '[',\n",
              " '[',\n",
              " 'Category',\n",
              " ':',\n",
              " 'XYZ',\n",
              " ']',\n",
              " ']',\n",
              " 'in',\n",
              " 'its',\n",
              " 'wikimarkup',\n",
              " 'to',\n",
              " 'the',\n",
              " 'automated',\n",
              " 'listing',\n",
              " 'that',\n",
              " 'is',\n",
              " 'the',\n",
              " 'category',\n",
              " 'with',\n",
              " 'name',\n",
              " 'XYZ',\n",
              " '.',\n",
              " 'Categories',\n",
              " 'help',\n",
              " 'readers',\n",
              " 'to',\n",
              " 'find',\n",
              " ',',\n",
              " 'and',\n",
              " 'navigate',\n",
              " 'around',\n",
              " ',',\n",
              " 'a',\n",
              " 'subject',\n",
              " 'area',\n",
              " ',',\n",
              " 'to',\n",
              " 'see',\n",
              " 'pages',\n",
              " 'sorted',\n",
              " 'by',\n",
              " 'title',\n",
              " ',',\n",
              " 'and',\n",
              " 'to',\n",
              " 'thus',\n",
              " 'find',\n",
              " 'article',\n",
              " 'relationships.Categories',\n",
              " 'are',\n",
              " 'normally',\n",
              " 'found',\n",
              " 'at',\n",
              " 'the',\n",
              " 'bottom',\n",
              " 'of',\n",
              " 'an',\n",
              " 'article',\n",
              " 'page',\n",
              " '.',\n",
              " 'Clicking',\n",
              " 'a',\n",
              " 'category',\n",
              " 'name',\n",
              " 'brings',\n",
              " 'up',\n",
              " 'a',\n",
              " 'category',\n",
              " 'page',\n",
              " 'listing',\n",
              " 'the',\n",
              " 'articles',\n",
              " '(',\n",
              " 'or',\n",
              " 'other',\n",
              " 'pages',\n",
              " ')',\n",
              " 'that',\n",
              " 'have',\n",
              " 'been',\n",
              " 'added',\n",
              " 'to',\n",
              " 'that',\n",
              " 'particular',\n",
              " 'category',\n",
              " '.',\n",
              " 'There',\n",
              " 'may',\n",
              " 'also',\n",
              " 'be',\n",
              " 'a',\n",
              " 'section',\n",
              " 'listing',\n",
              " 'the',\n",
              " 'subcategories',\n",
              " 'of',\n",
              " 'that',\n",
              " 'category',\n",
              " '.',\n",
              " 'The',\n",
              " 'subcategorization',\n",
              " 'feature',\n",
              " 'makes',\n",
              " 'it',\n",
              " 'possible',\n",
              " 'to',\n",
              " 'organize',\n",
              " 'categories',\n",
              " 'into',\n",
              " 'tree-like',\n",
              " 'structures',\n",
              " 'to',\n",
              " 'aid',\n",
              " 'navigation',\n",
              " '.']"
            ]
          },
          "metadata": {
            "tags": []
          },
          "execution_count": 101
        }
      ]
    },
    {
      "metadata": {
        "id": "mKhvlYuQD37T",
        "colab_type": "code",
        "colab": {
          "base_uri": "https://localhost:8080/",
          "height": 2465
        },
        "outputId": "2c670563-e930-41f0-b038-0f7771277e47"
      },
      "cell_type": "code",
      "source": [
        "for token in wortok:\n",
        "  print(nltk.pos_tag([token]))"
      ],
      "execution_count": 102,
      "outputs": [
        {
          "output_type": "stream",
          "text": [
            "[('together', 'RB')]\n",
            "[('pages', 'NNS')]\n",
            "[('on', 'IN')]\n",
            "[('similar', 'JJ')]\n",
            "[('subjects', 'NNS')]\n",
            "[('.', '.')]\n",
            "[('They', 'PRP')]\n",
            "[('are', 'VBP')]\n",
            "[('implemented', 'VBN')]\n",
            "[('by', 'IN')]\n",
            "[('a', 'DT')]\n",
            "[('MediaWiki', 'NN')]\n",
            "[('feature', 'NN')]\n",
            "[('that', 'IN')]\n",
            "[('adds', 'VBZ')]\n",
            "[('any', 'DT')]\n",
            "[('page', 'NN')]\n",
            "[('with', 'IN')]\n",
            "[('a', 'DT')]\n",
            "[('text', 'NN')]\n",
            "[('like', 'IN')]\n",
            "[('[', 'NN')]\n",
            "[('[', 'NN')]\n",
            "[('Category', 'NN')]\n",
            "[(':', ':')]\n",
            "[('XYZ', 'NN')]\n",
            "[(']', 'NN')]\n",
            "[(']', 'NN')]\n",
            "[('in', 'IN')]\n",
            "[('its', 'PRP$')]\n",
            "[('wikimarkup', 'NN')]\n",
            "[('to', 'TO')]\n",
            "[('the', 'DT')]\n",
            "[('automated', 'VBN')]\n",
            "[('listing', 'NN')]\n",
            "[('that', 'IN')]\n",
            "[('is', 'VBZ')]\n",
            "[('the', 'DT')]\n",
            "[('category', 'NN')]\n",
            "[('with', 'IN')]\n",
            "[('name', 'NN')]\n",
            "[('XYZ', 'NN')]\n",
            "[('.', '.')]\n",
            "[('Categories', 'NNS')]\n",
            "[('help', 'NN')]\n",
            "[('readers', 'NNS')]\n",
            "[('to', 'TO')]\n",
            "[('find', 'VB')]\n",
            "[(',', ',')]\n",
            "[('and', 'CC')]\n",
            "[('navigate', 'NN')]\n",
            "[('around', 'IN')]\n",
            "[(',', ',')]\n",
            "[('a', 'DT')]\n",
            "[('subject', 'NN')]\n",
            "[('area', 'NN')]\n",
            "[(',', ',')]\n",
            "[('to', 'TO')]\n",
            "[('see', 'VB')]\n",
            "[('pages', 'NNS')]\n",
            "[('sorted', 'VBN')]\n",
            "[('by', 'IN')]\n",
            "[('title', 'NN')]\n",
            "[(',', ',')]\n",
            "[('and', 'CC')]\n",
            "[('to', 'TO')]\n",
            "[('thus', 'RB')]\n",
            "[('find', 'VB')]\n",
            "[('article', 'NN')]\n",
            "[('relationships.Categories', 'NNS')]\n",
            "[('are', 'VBP')]\n",
            "[('normally', 'RB')]\n",
            "[('found', 'NN')]\n",
            "[('at', 'IN')]\n",
            "[('the', 'DT')]\n",
            "[('bottom', 'NN')]\n",
            "[('of', 'IN')]\n",
            "[('an', 'DT')]\n",
            "[('article', 'NN')]\n",
            "[('page', 'NN')]\n",
            "[('.', '.')]\n",
            "[('Clicking', 'VBG')]\n",
            "[('a', 'DT')]\n",
            "[('category', 'NN')]\n",
            "[('name', 'NN')]\n",
            "[('brings', 'NNS')]\n",
            "[('up', 'RB')]\n",
            "[('a', 'DT')]\n",
            "[('category', 'NN')]\n",
            "[('page', 'NN')]\n",
            "[('listing', 'NN')]\n",
            "[('the', 'DT')]\n",
            "[('articles', 'NNS')]\n",
            "[('(', '(')]\n",
            "[('or', 'CC')]\n",
            "[('other', 'JJ')]\n",
            "[('pages', 'NNS')]\n",
            "[(')', ')')]\n",
            "[('that', 'IN')]\n",
            "[('have', 'VB')]\n",
            "[('been', 'VBN')]\n",
            "[('added', 'VBD')]\n",
            "[('to', 'TO')]\n",
            "[('that', 'IN')]\n",
            "[('particular', 'JJ')]\n",
            "[('category', 'NN')]\n",
            "[('.', '.')]\n",
            "[('There', 'EX')]\n",
            "[('may', 'MD')]\n",
            "[('also', 'RB')]\n",
            "[('be', 'VB')]\n",
            "[('a', 'DT')]\n",
            "[('section', 'NN')]\n",
            "[('listing', 'NN')]\n",
            "[('the', 'DT')]\n",
            "[('subcategories', 'NNS')]\n",
            "[('of', 'IN')]\n",
            "[('that', 'IN')]\n",
            "[('category', 'NN')]\n",
            "[('.', '.')]\n",
            "[('The', 'DT')]\n",
            "[('subcategorization', 'NN')]\n",
            "[('feature', 'NN')]\n",
            "[('makes', 'VBZ')]\n",
            "[('it', 'PRP')]\n",
            "[('possible', 'JJ')]\n",
            "[('to', 'TO')]\n",
            "[('organize', 'VB')]\n",
            "[('categories', 'NNS')]\n",
            "[('into', 'IN')]\n",
            "[('tree-like', 'NN')]\n",
            "[('structures', 'NNS')]\n",
            "[('to', 'TO')]\n",
            "[('aid', 'NN')]\n",
            "[('navigation', 'NN')]\n",
            "[('.', '.')]\n"
          ],
          "name": "stdout"
        }
      ]
    },
    {
      "metadata": {
        "id": "ObaoVIPnEb22",
        "colab_type": "code",
        "colab": {}
      },
      "cell_type": "code",
      "source": [
        "from nltk import ne_chunk \n"
      ],
      "execution_count": 0,
      "outputs": []
    },
    {
      "metadata": {
        "id": "PWbA1oQmFDqR",
        "colab_type": "code",
        "colab": {
          "base_uri": "https://localhost:8080/",
          "height": 2483
        },
        "outputId": "a85f7305-6245-4d84-8bf1-5f0c094de801"
      },
      "cell_type": "code",
      "source": [
        "NE_tags= nltk.pos_tag(wortok)\n",
        "NE_tag=ne_chunk(NE_tags)\n",
        "print(NE_tag)"
      ],
      "execution_count": 107,
      "outputs": [
        {
          "output_type": "stream",
          "text": [
            "(S\n",
            "  together/RB\n",
            "  pages/NNS\n",
            "  on/IN\n",
            "  similar/JJ\n",
            "  subjects/NNS\n",
            "  ./.\n",
            "  They/PRP\n",
            "  are/VBP\n",
            "  implemented/VBN\n",
            "  by/IN\n",
            "  a/DT\n",
            "  (ORGANIZATION MediaWiki/NNP)\n",
            "  feature/NN\n",
            "  that/WDT\n",
            "  adds/VBZ\n",
            "  any/DT\n",
            "  page/NN\n",
            "  with/IN\n",
            "  a/DT\n",
            "  text/NN\n",
            "  like/IN\n",
            "  [/NNP\n",
            "  [/NNP\n",
            "  Category/NNP\n",
            "  :/:\n",
            "  XYZ/NN\n",
            "  ]/NN\n",
            "  ]/NN\n",
            "  in/IN\n",
            "  its/PRP$\n",
            "  wikimarkup/NN\n",
            "  to/TO\n",
            "  the/DT\n",
            "  automated/VBN\n",
            "  listing/NN\n",
            "  that/WDT\n",
            "  is/VBZ\n",
            "  the/DT\n",
            "  category/NN\n",
            "  with/IN\n",
            "  name/NN\n",
            "  (ORGANIZATION XYZ/NNP)\n",
            "  ./.\n",
            "  Categories/NNP\n",
            "  help/NN\n",
            "  readers/NNS\n",
            "  to/TO\n",
            "  find/VB\n",
            "  ,/,\n",
            "  and/CC\n",
            "  navigate/NN\n",
            "  around/RB\n",
            "  ,/,\n",
            "  a/DT\n",
            "  subject/JJ\n",
            "  area/NN\n",
            "  ,/,\n",
            "  to/TO\n",
            "  see/VB\n",
            "  pages/NNS\n",
            "  sorted/VBN\n",
            "  by/IN\n",
            "  title/NN\n",
            "  ,/,\n",
            "  and/CC\n",
            "  to/TO\n",
            "  thus/RB\n",
            "  find/VB\n",
            "  article/NN\n",
            "  relationships.Categories/NNS\n",
            "  are/VBP\n",
            "  normally/RB\n",
            "  found/VBN\n",
            "  at/IN\n",
            "  the/DT\n",
            "  bottom/NN\n",
            "  of/IN\n",
            "  an/DT\n",
            "  article/NN\n",
            "  page/NN\n",
            "  ./.\n",
            "  Clicking/VBG\n",
            "  a/DT\n",
            "  category/NN\n",
            "  name/NN\n",
            "  brings/VBZ\n",
            "  up/RP\n",
            "  a/DT\n",
            "  category/NN\n",
            "  page/NN\n",
            "  listing/VBG\n",
            "  the/DT\n",
            "  articles/NNS\n",
            "  (/(\n",
            "  or/CC\n",
            "  other/JJ\n",
            "  pages/NNS\n",
            "  )/)\n",
            "  that/WDT\n",
            "  have/VBP\n",
            "  been/VBN\n",
            "  added/VBN\n",
            "  to/TO\n",
            "  that/DT\n",
            "  particular/JJ\n",
            "  category/NN\n",
            "  ./.\n",
            "  There/EX\n",
            "  may/MD\n",
            "  also/RB\n",
            "  be/VB\n",
            "  a/DT\n",
            "  section/NN\n",
            "  listing/VBG\n",
            "  the/DT\n",
            "  subcategories/NNS\n",
            "  of/IN\n",
            "  that/DT\n",
            "  category/NN\n",
            "  ./.\n",
            "  The/DT\n",
            "  subcategorization/NN\n",
            "  feature/NN\n",
            "  makes/VBZ\n",
            "  it/PRP\n",
            "  possible/JJ\n",
            "  to/TO\n",
            "  organize/VB\n",
            "  categories/NNS\n",
            "  into/IN\n",
            "  tree-like/JJ\n",
            "  structures/NNS\n",
            "  to/TO\n",
            "  aid/VB\n",
            "  navigation/NN\n",
            "  ./.)\n"
          ],
          "name": "stdout"
        }
      ]
    },
    {
      "metadata": {
        "id": "i8oFCmtHGO6i",
        "colab_type": "code",
        "colab": {}
      },
      "cell_type": "code",
      "source": [
        "import pandas as pd\n",
        "import numpy as np\n"
      ],
      "execution_count": 0,
      "outputs": []
    },
    {
      "metadata": {
        "id": "QdqPrzkoL8Er",
        "colab_type": "code",
        "colab": {}
      },
      "cell_type": "code",
      "source": [
        "from sklearn.feature_extraction.text import CountVectorizer"
      ],
      "execution_count": 0,
      "outputs": []
    },
    {
      "metadata": {
        "id": "aDAxX3wyMXVZ",
        "colab_type": "code",
        "colab": {
          "base_uri": "https://localhost:8080/",
          "height": 55
        },
        "outputId": "a24bbfde-0f2b-4c01-a2a6-75acb9c5efee"
      },
      "cell_type": "code",
      "source": [
        "print(os.listdir(nltk.data.find('corpora')))"
      ],
      "execution_count": 111,
      "outputs": [
        {
          "output_type": "stream",
          "text": [
            "['conll2000', 'genesis.zip', 'udhr2.zip', 'timit.zip', 'wordnet', 'ppattach.zip', 'genesis', 'words', 'inaugural', 'unicode_samples.zip', 'city_database.zip', 'toolbox.zip', 'cmudict', 'inaugural.zip', 'nps_chat', 'brown', 'chat80.zip', 'names.zip', 'udhr.zip', 'treebank', 'swadesh', 'webtext', 'conll2000.zip', 'panlex_swadesh.zip', 'nps_chat.zip', 'movie_reviews', 'gutenberg', 'unicode_samples', 'wordnet_ic', 'state_union.zip', 'reuters.zip', 'toolbox', 'city_database', 'ieer', 'gutenberg.zip', 'conll2002', 'movie_reviews.zip', 'abc.zip', 'udhr2', 'cmudict.zip', 'chat80', 'treebank.zip', 'stopwords.zip', 'wordnet_ic.zip', 'senseval', 'words.zip', 'names', 'stopwords', 'timit', 'webtext.zip', 'abc', 'conll2002.zip', 'ieer.zip', 'swadesh.zip', 'senseval.zip', 'brown.zip', 'state_union', 'udhr', 'wordnet.zip', 'dependency_treebank', 'dependency_treebank.zip', 'ppattach']\n"
          ],
          "name": "stdout"
        }
      ]
    },
    {
      "metadata": {
        "id": "czTpsjBXMh6f",
        "colab_type": "code",
        "colab": {}
      },
      "cell_type": "code",
      "source": [
        "from nltk.corpus import movie_reviews"
      ],
      "execution_count": 0,
      "outputs": []
    },
    {
      "metadata": {
        "id": "50slYOjcM6MS",
        "colab_type": "code",
        "colab": {
          "base_uri": "https://localhost:8080/",
          "height": 55
        },
        "outputId": "05a2ad96-18e1-4ccb-a293-9a7e447f511f"
      },
      "cell_type": "code",
      "source": [
        "print(movie_reviews.fileids('pos'))"
      ],
      "execution_count": 117,
      "outputs": [
        {
          "output_type": "stream",
          "text": [
            "['pos/cv000_29590.txt', 'pos/cv001_18431.txt', 'pos/cv002_15918.txt', 'pos/cv003_11664.txt', 'pos/cv004_11636.txt', 'pos/cv005_29443.txt', 'pos/cv006_15448.txt', 'pos/cv007_4968.txt', 'pos/cv008_29435.txt', 'pos/cv009_29592.txt', 'pos/cv010_29198.txt', 'pos/cv011_12166.txt', 'pos/cv012_29576.txt', 'pos/cv013_10159.txt', 'pos/cv014_13924.txt', 'pos/cv015_29439.txt', 'pos/cv016_4659.txt', 'pos/cv017_22464.txt', 'pos/cv018_20137.txt', 'pos/cv019_14482.txt', 'pos/cv020_8825.txt', 'pos/cv021_15838.txt', 'pos/cv022_12864.txt', 'pos/cv023_12672.txt', 'pos/cv024_6778.txt', 'pos/cv025_3108.txt', 'pos/cv026_29325.txt', 'pos/cv027_25219.txt', 'pos/cv028_26746.txt', 'pos/cv029_18643.txt', 'pos/cv030_21593.txt', 'pos/cv031_18452.txt', 'pos/cv032_22550.txt', 'pos/cv033_24444.txt', 'pos/cv034_29647.txt', 'pos/cv035_3954.txt', 'pos/cv036_16831.txt', 'pos/cv037_18510.txt', 'pos/cv038_9749.txt', 'pos/cv039_6170.txt', 'pos/cv040_8276.txt', 'pos/cv041_21113.txt', 'pos/cv042_10982.txt', 'pos/cv043_15013.txt', 'pos/cv044_16969.txt', 'pos/cv045_23923.txt', 'pos/cv046_10188.txt', 'pos/cv047_1754.txt', 'pos/cv048_16828.txt', 'pos/cv049_20471.txt', 'pos/cv050_11175.txt', 'pos/cv051_10306.txt', 'pos/cv052_29378.txt', 'pos/cv053_21822.txt', 'pos/cv054_4230.txt', 'pos/cv055_8338.txt', 'pos/cv056_13133.txt', 'pos/cv057_7453.txt', 'pos/cv058_8025.txt', 'pos/cv059_28885.txt', 'pos/cv060_10844.txt', 'pos/cv061_8837.txt', 'pos/cv062_23115.txt', 'pos/cv063_28997.txt', 'pos/cv064_24576.txt', 'pos/cv065_15248.txt', 'pos/cv066_10821.txt', 'pos/cv067_19774.txt', 'pos/cv068_13400.txt', 'pos/cv069_10801.txt', 'pos/cv070_12289.txt', 'pos/cv071_12095.txt', 'pos/cv072_6169.txt', 'pos/cv073_21785.txt', 'pos/cv074_6875.txt', 'pos/cv075_6500.txt', 'pos/cv076_24945.txt', 'pos/cv077_22138.txt', 'pos/cv078_14730.txt', 'pos/cv079_11933.txt', 'pos/cv080_13465.txt', 'pos/cv081_16582.txt', 'pos/cv082_11080.txt', 'pos/cv083_24234.txt', 'pos/cv084_13566.txt', 'pos/cv085_1381.txt', 'pos/cv086_18371.txt', 'pos/cv087_1989.txt', 'pos/cv088_24113.txt', 'pos/cv089_11418.txt', 'pos/cv090_0042.txt', 'pos/cv091_7400.txt', 'pos/cv092_28017.txt', 'pos/cv093_13951.txt', 'pos/cv094_27889.txt', 'pos/cv095_28892.txt', 'pos/cv096_11474.txt', 'pos/cv097_24970.txt', 'pos/cv098_15435.txt', 'pos/cv099_10534.txt', 'pos/cv100_11528.txt', 'pos/cv101_10175.txt', 'pos/cv102_7846.txt', 'pos/cv103_11021.txt', 'pos/cv104_18134.txt', 'pos/cv105_17990.txt', 'pos/cv106_16807.txt', 'pos/cv107_24319.txt', 'pos/cv108_15571.txt', 'pos/cv109_21172.txt', 'pos/cv110_27788.txt', 'pos/cv111_11473.txt', 'pos/cv112_11193.txt', 'pos/cv113_23102.txt', 'pos/cv114_18398.txt', 'pos/cv115_25396.txt', 'pos/cv116_28942.txt', 'pos/cv117_24295.txt', 'pos/cv118_28980.txt', 'pos/cv119_9867.txt', 'pos/cv120_4111.txt', 'pos/cv121_17302.txt', 'pos/cv122_7392.txt', 'pos/cv123_11182.txt', 'pos/cv124_4122.txt', 'pos/cv125_9391.txt', 'pos/cv126_28971.txt', 'pos/cv127_14711.txt', 'pos/cv128_29627.txt', 'pos/cv129_16741.txt', 'pos/cv130_17083.txt', 'pos/cv131_10713.txt', 'pos/cv132_5618.txt', 'pos/cv133_16336.txt', 'pos/cv134_22246.txt', 'pos/cv135_11603.txt', 'pos/cv136_11505.txt', 'pos/cv137_15422.txt', 'pos/cv138_12721.txt', 'pos/cv139_12873.txt', 'pos/cv140_7479.txt', 'pos/cv141_15686.txt', 'pos/cv142_22516.txt', 'pos/cv143_19666.txt', 'pos/cv144_5007.txt', 'pos/cv145_11472.txt', 'pos/cv146_18458.txt', 'pos/cv147_21193.txt', 'pos/cv148_16345.txt', 'pos/cv149_15670.txt', 'pos/cv150_12916.txt', 'pos/cv151_15771.txt', 'pos/cv152_8736.txt', 'pos/cv153_10779.txt', 'pos/cv154_9328.txt', 'pos/cv155_7308.txt', 'pos/cv156_10481.txt', 'pos/cv157_29372.txt', 'pos/cv158_10390.txt', 'pos/cv159_29505.txt', 'pos/cv160_10362.txt', 'pos/cv161_11425.txt', 'pos/cv162_10424.txt', 'pos/cv163_10052.txt', 'pos/cv164_22447.txt', 'pos/cv165_22619.txt', 'pos/cv166_11052.txt', 'pos/cv167_16376.txt', 'pos/cv168_7050.txt', 'pos/cv169_23778.txt', 'pos/cv170_3006.txt', 'pos/cv171_13537.txt', 'pos/cv172_11131.txt', 'pos/cv173_4471.txt', 'pos/cv174_9659.txt', 'pos/cv175_6964.txt', 'pos/cv176_12857.txt', 'pos/cv177_10367.txt', 'pos/cv178_12972.txt', 'pos/cv179_9228.txt', 'pos/cv180_16113.txt', 'pos/cv181_14401.txt', 'pos/cv182_7281.txt', 'pos/cv183_18612.txt', 'pos/cv184_2673.txt', 'pos/cv185_28654.txt', 'pos/cv186_2269.txt', 'pos/cv187_12829.txt', 'pos/cv188_19226.txt', 'pos/cv189_22934.txt', 'pos/cv190_27052.txt', 'pos/cv191_29719.txt', 'pos/cv192_14395.txt', 'pos/cv193_5416.txt', 'pos/cv194_12079.txt', 'pos/cv195_14528.txt', 'pos/cv196_29027.txt', 'pos/cv197_29328.txt', 'pos/cv198_18180.txt', 'pos/cv199_9629.txt', 'pos/cv200_2915.txt', 'pos/cv201_6997.txt', 'pos/cv202_10654.txt', 'pos/cv203_17986.txt', 'pos/cv204_8451.txt', 'pos/cv205_9457.txt', 'pos/cv206_14293.txt', 'pos/cv207_29284.txt', 'pos/cv208_9020.txt', 'pos/cv209_29118.txt', 'pos/cv210_9312.txt', 'pos/cv211_9953.txt', 'pos/cv212_10027.txt', 'pos/cv213_18934.txt', 'pos/cv214_12294.txt', 'pos/cv215_22240.txt', 'pos/cv216_18738.txt', 'pos/cv217_28842.txt', 'pos/cv218_24352.txt', 'pos/cv219_18626.txt', 'pos/cv220_29059.txt', 'pos/cv221_2695.txt', 'pos/cv222_17395.txt', 'pos/cv223_29066.txt', 'pos/cv224_17661.txt', 'pos/cv225_29224.txt', 'pos/cv226_2618.txt', 'pos/cv227_24215.txt', 'pos/cv228_5806.txt', 'pos/cv229_13611.txt', 'pos/cv230_7428.txt', 'pos/cv231_10425.txt', 'pos/cv232_14991.txt', 'pos/cv233_15964.txt', 'pos/cv234_20643.txt', 'pos/cv235_10217.txt', 'pos/cv236_11565.txt', 'pos/cv237_19221.txt', 'pos/cv238_12931.txt', 'pos/cv239_3385.txt', 'pos/cv240_14336.txt', 'pos/cv241_23130.txt', 'pos/cv242_10638.txt', 'pos/cv243_20728.txt', 'pos/cv244_21649.txt', 'pos/cv245_8569.txt', 'pos/cv246_28807.txt', 'pos/cv247_13142.txt', 'pos/cv248_13987.txt', 'pos/cv249_11640.txt', 'pos/cv250_25616.txt', 'pos/cv251_22636.txt', 'pos/cv252_23779.txt', 'pos/cv253_10077.txt', 'pos/cv254_6027.txt', 'pos/cv255_13683.txt', 'pos/cv256_14740.txt', 'pos/cv257_10975.txt', 'pos/cv258_5792.txt', 'pos/cv259_10934.txt', 'pos/cv260_13959.txt', 'pos/cv261_10954.txt', 'pos/cv262_12649.txt', 'pos/cv263_19259.txt', 'pos/cv264_12801.txt', 'pos/cv265_10814.txt', 'pos/cv266_25779.txt', 'pos/cv267_14952.txt', 'pos/cv268_18834.txt', 'pos/cv269_21732.txt', 'pos/cv270_6079.txt', 'pos/cv271_13837.txt', 'pos/cv272_18974.txt', 'pos/cv273_29112.txt', 'pos/cv274_25253.txt', 'pos/cv275_28887.txt', 'pos/cv276_15684.txt', 'pos/cv277_19091.txt', 'pos/cv278_13041.txt', 'pos/cv279_18329.txt', 'pos/cv280_8267.txt', 'pos/cv281_23253.txt', 'pos/cv282_6653.txt', 'pos/cv283_11055.txt', 'pos/cv284_19119.txt', 'pos/cv285_16494.txt', 'pos/cv286_25050.txt', 'pos/cv287_15900.txt', 'pos/cv288_18791.txt', 'pos/cv289_6463.txt', 'pos/cv290_11084.txt', 'pos/cv291_26635.txt', 'pos/cv292_7282.txt', 'pos/cv293_29856.txt', 'pos/cv294_11684.txt', 'pos/cv295_15570.txt', 'pos/cv296_12251.txt', 'pos/cv297_10047.txt', 'pos/cv298_23111.txt', 'pos/cv299_16214.txt', 'pos/cv300_22284.txt', 'pos/cv301_12146.txt', 'pos/cv302_25649.txt', 'pos/cv303_27520.txt', 'pos/cv304_28706.txt', 'pos/cv305_9946.txt', 'pos/cv306_10364.txt', 'pos/cv307_25270.txt', 'pos/cv308_5016.txt', 'pos/cv309_22571.txt', 'pos/cv310_13091.txt', 'pos/cv311_16002.txt', 'pos/cv312_29377.txt', 'pos/cv313_18198.txt', 'pos/cv314_14422.txt', 'pos/cv315_11629.txt', 'pos/cv316_6370.txt', 'pos/cv317_24049.txt', 'pos/cv318_10493.txt', 'pos/cv319_14727.txt', 'pos/cv320_9530.txt', 'pos/cv321_12843.txt', 'pos/cv322_20318.txt', 'pos/cv323_29805.txt', 'pos/cv324_7082.txt', 'pos/cv325_16629.txt', 'pos/cv326_13295.txt', 'pos/cv327_20292.txt', 'pos/cv328_10373.txt', 'pos/cv329_29370.txt', 'pos/cv330_29809.txt', 'pos/cv331_8273.txt', 'pos/cv332_16307.txt', 'pos/cv333_8916.txt', 'pos/cv334_10001.txt', 'pos/cv335_14665.txt', 'pos/cv336_10143.txt', 'pos/cv337_29181.txt', 'pos/cv338_8821.txt', 'pos/cv339_21119.txt', 'pos/cv340_13287.txt', 'pos/cv341_24430.txt', 'pos/cv342_19456.txt', 'pos/cv343_10368.txt', 'pos/cv344_5312.txt', 'pos/cv345_9954.txt', 'pos/cv346_18168.txt', 'pos/cv347_13194.txt', 'pos/cv348_18176.txt', 'pos/cv349_13507.txt', 'pos/cv350_20670.txt', 'pos/cv351_15458.txt', 'pos/cv352_5524.txt', 'pos/cv353_18159.txt', 'pos/cv354_8132.txt', 'pos/cv355_16413.txt', 'pos/cv356_25163.txt', 'pos/cv357_13156.txt', 'pos/cv358_10691.txt', 'pos/cv359_6647.txt', 'pos/cv360_8398.txt', 'pos/cv361_28944.txt', 'pos/cv362_15341.txt', 'pos/cv363_29332.txt', 'pos/cv364_12901.txt', 'pos/cv365_11576.txt', 'pos/cv366_10221.txt', 'pos/cv367_22792.txt', 'pos/cv368_10466.txt', 'pos/cv369_12886.txt', 'pos/cv370_5221.txt', 'pos/cv371_7630.txt', 'pos/cv372_6552.txt', 'pos/cv373_20404.txt', 'pos/cv374_25436.txt', 'pos/cv375_9929.txt', 'pos/cv376_19435.txt', 'pos/cv377_7946.txt', 'pos/cv378_20629.txt', 'pos/cv379_21963.txt', 'pos/cv380_7574.txt', 'pos/cv381_20172.txt', 'pos/cv382_7897.txt', 'pos/cv383_13116.txt', 'pos/cv384_17140.txt', 'pos/cv385_29741.txt', 'pos/cv386_10080.txt', 'pos/cv387_11507.txt', 'pos/cv388_12009.txt', 'pos/cv389_9369.txt', 'pos/cv390_11345.txt', 'pos/cv391_10802.txt', 'pos/cv392_11458.txt', 'pos/cv393_29327.txt', 'pos/cv394_5137.txt', 'pos/cv395_10849.txt', 'pos/cv396_17989.txt', 'pos/cv397_29023.txt', 'pos/cv398_15537.txt', 'pos/cv399_2877.txt', 'pos/cv400_19220.txt', 'pos/cv401_12605.txt', 'pos/cv402_14425.txt', 'pos/cv403_6621.txt', 'pos/cv404_20315.txt', 'pos/cv405_20399.txt', 'pos/cv406_21020.txt', 'pos/cv407_22637.txt', 'pos/cv408_5297.txt', 'pos/cv409_29786.txt', 'pos/cv410_24266.txt', 'pos/cv411_15007.txt', 'pos/cv412_24095.txt', 'pos/cv413_7398.txt', 'pos/cv414_10518.txt', 'pos/cv415_22517.txt', 'pos/cv416_11136.txt', 'pos/cv417_13115.txt', 'pos/cv418_14774.txt', 'pos/cv419_13394.txt', 'pos/cv420_28795.txt', 'pos/cv421_9709.txt', 'pos/cv422_9381.txt', 'pos/cv423_11155.txt', 'pos/cv424_8831.txt', 'pos/cv425_8250.txt', 'pos/cv426_10421.txt', 'pos/cv427_10825.txt', 'pos/cv428_11347.txt', 'pos/cv429_7439.txt', 'pos/cv430_17351.txt', 'pos/cv431_7085.txt', 'pos/cv432_14224.txt', 'pos/cv433_10144.txt', 'pos/cv434_5793.txt', 'pos/cv435_23110.txt', 'pos/cv436_19179.txt', 'pos/cv437_22849.txt', 'pos/cv438_8043.txt', 'pos/cv439_15970.txt', 'pos/cv440_15243.txt', 'pos/cv441_13711.txt', 'pos/cv442_13846.txt', 'pos/cv443_21118.txt', 'pos/cv444_9974.txt', 'pos/cv445_25882.txt', 'pos/cv446_11353.txt', 'pos/cv447_27332.txt', 'pos/cv448_14695.txt', 'pos/cv449_8785.txt', 'pos/cv450_7890.txt', 'pos/cv451_10690.txt', 'pos/cv452_5088.txt', 'pos/cv453_10379.txt', 'pos/cv454_2053.txt', 'pos/cv455_29000.txt', 'pos/cv456_18985.txt', 'pos/cv457_18453.txt', 'pos/cv458_8604.txt', 'pos/cv459_20319.txt', 'pos/cv460_10842.txt', 'pos/cv461_19600.txt', 'pos/cv462_19350.txt', 'pos/cv463_10343.txt', 'pos/cv464_15650.txt', 'pos/cv465_22431.txt', 'pos/cv466_18722.txt', 'pos/cv467_25773.txt', 'pos/cv468_15228.txt', 'pos/cv469_20630.txt', 'pos/cv470_15952.txt', 'pos/cv471_16858.txt', 'pos/cv472_29280.txt', 'pos/cv473_7367.txt', 'pos/cv474_10209.txt', 'pos/cv475_21692.txt', 'pos/cv476_16856.txt', 'pos/cv477_22479.txt', 'pos/cv478_14309.txt', 'pos/cv479_5649.txt', 'pos/cv480_19817.txt', 'pos/cv481_7436.txt', 'pos/cv482_10580.txt', 'pos/cv483_16378.txt', 'pos/cv484_25054.txt', 'pos/cv485_26649.txt', 'pos/cv486_9799.txt', 'pos/cv487_10446.txt', 'pos/cv488_19856.txt', 'pos/cv489_17906.txt', 'pos/cv490_17872.txt', 'pos/cv491_12145.txt', 'pos/cv492_18271.txt', 'pos/cv493_12839.txt', 'pos/cv494_17389.txt', 'pos/cv495_14518.txt', 'pos/cv496_10530.txt', 'pos/cv497_26980.txt', 'pos/cv498_8832.txt', 'pos/cv499_10658.txt', 'pos/cv500_10251.txt', 'pos/cv501_11657.txt', 'pos/cv502_10406.txt', 'pos/cv503_10558.txt', 'pos/cv504_29243.txt', 'pos/cv505_12090.txt', 'pos/cv506_15956.txt', 'pos/cv507_9220.txt', 'pos/cv508_16006.txt', 'pos/cv509_15888.txt', 'pos/cv510_23360.txt', 'pos/cv511_10132.txt', 'pos/cv512_15965.txt', 'pos/cv513_6923.txt', 'pos/cv514_11187.txt', 'pos/cv515_17069.txt', 'pos/cv516_11172.txt', 'pos/cv517_19219.txt', 'pos/cv518_13331.txt', 'pos/cv519_14661.txt', 'pos/cv520_12295.txt', 'pos/cv521_15828.txt', 'pos/cv522_5583.txt', 'pos/cv523_16615.txt', 'pos/cv524_23627.txt', 'pos/cv525_16122.txt', 'pos/cv526_12083.txt', 'pos/cv527_10123.txt', 'pos/cv528_10822.txt', 'pos/cv529_10420.txt', 'pos/cv530_16212.txt', 'pos/cv531_26486.txt', 'pos/cv532_6522.txt', 'pos/cv533_9821.txt', 'pos/cv534_14083.txt', 'pos/cv535_19728.txt', 'pos/cv536_27134.txt', 'pos/cv537_12370.txt', 'pos/cv538_28667.txt', 'pos/cv539_20347.txt', 'pos/cv540_3421.txt', 'pos/cv541_28835.txt', 'pos/cv542_18980.txt', 'pos/cv543_5045.txt', 'pos/cv544_5108.txt', 'pos/cv545_12014.txt', 'pos/cv546_11767.txt', 'pos/cv547_16324.txt', 'pos/cv548_17731.txt', 'pos/cv549_21443.txt', 'pos/cv550_22211.txt', 'pos/cv551_10565.txt', 'pos/cv552_10016.txt', 'pos/cv553_26915.txt', 'pos/cv554_13151.txt', 'pos/cv555_23922.txt', 'pos/cv556_14808.txt', 'pos/cv557_11449.txt', 'pos/cv558_29507.txt', 'pos/cv559_0050.txt', 'pos/cv560_17175.txt', 'pos/cv561_9201.txt', 'pos/cv562_10359.txt', 'pos/cv563_17257.txt', 'pos/cv564_11110.txt', 'pos/cv565_29572.txt', 'pos/cv566_8581.txt', 'pos/cv567_29611.txt', 'pos/cv568_15638.txt', 'pos/cv569_26381.txt', 'pos/cv570_29082.txt', 'pos/cv571_29366.txt', 'pos/cv572_18657.txt', 'pos/cv573_29525.txt', 'pos/cv574_22156.txt', 'pos/cv575_21150.txt', 'pos/cv576_14094.txt', 'pos/cv577_28549.txt', 'pos/cv578_15094.txt', 'pos/cv579_11605.txt', 'pos/cv580_14064.txt', 'pos/cv581_19381.txt', 'pos/cv582_6559.txt', 'pos/cv583_29692.txt', 'pos/cv584_29722.txt', 'pos/cv585_22496.txt', 'pos/cv586_7543.txt', 'pos/cv587_19162.txt', 'pos/cv588_13008.txt', 'pos/cv589_12064.txt', 'pos/cv590_19290.txt', 'pos/cv591_23640.txt', 'pos/cv592_22315.txt', 'pos/cv593_10987.txt', 'pos/cv594_11039.txt', 'pos/cv595_25335.txt', 'pos/cv596_28311.txt', 'pos/cv597_26360.txt', 'pos/cv598_16452.txt', 'pos/cv599_20988.txt', 'pos/cv600_23878.txt', 'pos/cv601_23453.txt', 'pos/cv602_8300.txt', 'pos/cv603_17694.txt', 'pos/cv604_2230.txt', 'pos/cv605_11800.txt', 'pos/cv606_15985.txt', 'pos/cv607_7717.txt', 'pos/cv608_23231.txt', 'pos/cv609_23877.txt', 'pos/cv610_2287.txt', 'pos/cv611_21120.txt', 'pos/cv612_5461.txt', 'pos/cv613_21796.txt', 'pos/cv614_10626.txt', 'pos/cv615_14182.txt', 'pos/cv616_29319.txt', 'pos/cv617_9322.txt', 'pos/cv618_8974.txt', 'pos/cv619_12462.txt', 'pos/cv620_24265.txt', 'pos/cv621_14368.txt', 'pos/cv622_8147.txt', 'pos/cv623_15356.txt', 'pos/cv624_10744.txt', 'pos/cv625_12440.txt', 'pos/cv626_7410.txt', 'pos/cv627_11620.txt', 'pos/cv628_19325.txt', 'pos/cv629_14909.txt', 'pos/cv630_10057.txt', 'pos/cv631_4967.txt', 'pos/cv632_9610.txt', 'pos/cv633_29837.txt', 'pos/cv634_11101.txt', 'pos/cv635_10022.txt', 'pos/cv636_15279.txt', 'pos/cv637_1250.txt', 'pos/cv638_2953.txt', 'pos/cv639_10308.txt', 'pos/cv640_5378.txt', 'pos/cv641_12349.txt', 'pos/cv642_29867.txt', 'pos/cv643_29349.txt', 'pos/cv644_17154.txt', 'pos/cv645_15668.txt', 'pos/cv646_15065.txt', 'pos/cv647_13691.txt', 'pos/cv648_15792.txt', 'pos/cv649_12735.txt', 'pos/cv650_14340.txt', 'pos/cv651_10492.txt', 'pos/cv652_13972.txt', 'pos/cv653_19583.txt', 'pos/cv654_18246.txt', 'pos/cv655_11154.txt', 'pos/cv656_24201.txt', 'pos/cv657_24513.txt', 'pos/cv658_10532.txt', 'pos/cv659_19944.txt', 'pos/cv660_21893.txt', 'pos/cv661_2450.txt', 'pos/cv662_13320.txt', 'pos/cv663_13019.txt', 'pos/cv664_4389.txt', 'pos/cv665_29538.txt', 'pos/cv666_18963.txt', 'pos/cv667_18467.txt', 'pos/cv668_17604.txt', 'pos/cv669_22995.txt', 'pos/cv670_25826.txt', 'pos/cv671_5054.txt', 'pos/cv672_28083.txt', 'pos/cv673_24714.txt', 'pos/cv674_10732.txt', 'pos/cv675_21588.txt', 'pos/cv676_21090.txt', 'pos/cv677_17715.txt', 'pos/cv678_13419.txt', 'pos/cv679_28559.txt', 'pos/cv680_10160.txt', 'pos/cv681_9692.txt', 'pos/cv682_16139.txt', 'pos/cv683_12167.txt', 'pos/cv684_11798.txt', 'pos/cv685_5947.txt', 'pos/cv686_13900.txt', 'pos/cv687_21100.txt', 'pos/cv688_7368.txt', 'pos/cv689_12587.txt', 'pos/cv690_5619.txt', 'pos/cv691_5043.txt', 'pos/cv692_15451.txt', 'pos/cv693_18063.txt', 'pos/cv694_4876.txt', 'pos/cv695_21108.txt', 'pos/cv696_29740.txt', 'pos/cv697_11162.txt', 'pos/cv698_15253.txt', 'pos/cv699_7223.txt', 'pos/cv700_21947.txt', 'pos/cv701_14252.txt', 'pos/cv702_11500.txt', 'pos/cv703_16143.txt', 'pos/cv704_15969.txt', 'pos/cv705_11059.txt', 'pos/cv706_24716.txt', 'pos/cv707_10678.txt', 'pos/cv708_28729.txt', 'pos/cv709_10529.txt', 'pos/cv710_22577.txt', 'pos/cv711_11665.txt', 'pos/cv712_22920.txt', 'pos/cv713_29155.txt', 'pos/cv714_18502.txt', 'pos/cv715_18179.txt', 'pos/cv716_10514.txt', 'pos/cv717_15953.txt', 'pos/cv718_11434.txt', 'pos/cv719_5713.txt', 'pos/cv720_5389.txt', 'pos/cv721_29121.txt', 'pos/cv722_7110.txt', 'pos/cv723_8648.txt', 'pos/cv724_13681.txt', 'pos/cv725_10103.txt', 'pos/cv726_4719.txt', 'pos/cv727_4978.txt', 'pos/cv728_16133.txt', 'pos/cv729_10154.txt', 'pos/cv730_10279.txt', 'pos/cv731_4136.txt', 'pos/cv732_12245.txt', 'pos/cv733_9839.txt', 'pos/cv734_21568.txt', 'pos/cv735_18801.txt', 'pos/cv736_23670.txt', 'pos/cv737_28907.txt', 'pos/cv738_10116.txt', 'pos/cv739_11209.txt', 'pos/cv740_12445.txt', 'pos/cv741_11890.txt', 'pos/cv742_7751.txt', 'pos/cv743_15449.txt', 'pos/cv744_10038.txt', 'pos/cv745_12773.txt', 'pos/cv746_10147.txt', 'pos/cv747_16556.txt', 'pos/cv748_12786.txt', 'pos/cv749_17765.txt', 'pos/cv750_10180.txt', 'pos/cv751_15719.txt', 'pos/cv752_24155.txt', 'pos/cv753_10875.txt', 'pos/cv754_7216.txt', 'pos/cv755_23616.txt', 'pos/cv756_22540.txt', 'pos/cv757_10189.txt', 'pos/cv758_9671.txt', 'pos/cv759_13522.txt', 'pos/cv760_8597.txt', 'pos/cv761_12620.txt', 'pos/cv762_13927.txt', 'pos/cv763_14729.txt', 'pos/cv764_11739.txt', 'pos/cv765_19037.txt', 'pos/cv766_7540.txt', 'pos/cv767_14062.txt', 'pos/cv768_11751.txt', 'pos/cv769_8123.txt', 'pos/cv770_10451.txt', 'pos/cv771_28665.txt', 'pos/cv772_12119.txt', 'pos/cv773_18817.txt', 'pos/cv774_13845.txt', 'pos/cv775_16237.txt', 'pos/cv776_20529.txt', 'pos/cv777_10094.txt', 'pos/cv778_17330.txt', 'pos/cv779_17881.txt', 'pos/cv780_7984.txt', 'pos/cv781_5262.txt', 'pos/cv782_19526.txt', 'pos/cv783_13227.txt', 'pos/cv784_14394.txt', 'pos/cv785_22600.txt', 'pos/cv786_22497.txt', 'pos/cv787_13743.txt', 'pos/cv788_25272.txt', 'pos/cv789_12136.txt', 'pos/cv790_14600.txt', 'pos/cv791_16302.txt', 'pos/cv792_3832.txt', 'pos/cv793_13650.txt', 'pos/cv794_15868.txt', 'pos/cv795_10122.txt', 'pos/cv796_15782.txt', 'pos/cv797_6957.txt', 'pos/cv798_23531.txt', 'pos/cv799_18543.txt', 'pos/cv800_12368.txt', 'pos/cv801_25228.txt', 'pos/cv802_28664.txt', 'pos/cv803_8207.txt', 'pos/cv804_10862.txt', 'pos/cv805_19601.txt', 'pos/cv806_8842.txt', 'pos/cv807_21740.txt', 'pos/cv808_12635.txt', 'pos/cv809_5009.txt', 'pos/cv810_12458.txt', 'pos/cv811_21386.txt', 'pos/cv812_17924.txt', 'pos/cv813_6534.txt', 'pos/cv814_18975.txt', 'pos/cv815_22456.txt', 'pos/cv816_13655.txt', 'pos/cv817_4041.txt', 'pos/cv818_10211.txt', 'pos/cv819_9364.txt', 'pos/cv820_22892.txt', 'pos/cv821_29364.txt', 'pos/cv822_20049.txt', 'pos/cv823_15569.txt', 'pos/cv824_8838.txt', 'pos/cv825_5063.txt', 'pos/cv826_11834.txt', 'pos/cv827_18331.txt', 'pos/cv828_19831.txt', 'pos/cv829_20289.txt', 'pos/cv830_6014.txt', 'pos/cv831_14689.txt', 'pos/cv832_23275.txt', 'pos/cv833_11053.txt', 'pos/cv834_22195.txt', 'pos/cv835_19159.txt', 'pos/cv836_12968.txt', 'pos/cv837_27325.txt', 'pos/cv838_24728.txt', 'pos/cv839_21467.txt', 'pos/cv840_16321.txt', 'pos/cv841_3967.txt', 'pos/cv842_5866.txt', 'pos/cv843_15544.txt', 'pos/cv844_12690.txt', 'pos/cv845_14290.txt', 'pos/cv846_29497.txt', 'pos/cv847_1941.txt', 'pos/cv848_10036.txt', 'pos/cv849_15729.txt', 'pos/cv850_16466.txt', 'pos/cv851_20469.txt', 'pos/cv852_27523.txt', 'pos/cv853_29233.txt', 'pos/cv854_17740.txt', 'pos/cv855_20661.txt', 'pos/cv856_29013.txt', 'pos/cv857_15958.txt', 'pos/cv858_18819.txt', 'pos/cv859_14107.txt', 'pos/cv860_13853.txt', 'pos/cv861_1198.txt', 'pos/cv862_14324.txt', 'pos/cv863_7424.txt', 'pos/cv864_3416.txt', 'pos/cv865_2895.txt', 'pos/cv866_29691.txt', 'pos/cv867_16661.txt', 'pos/cv868_11948.txt', 'pos/cv869_23611.txt', 'pos/cv870_16348.txt', 'pos/cv871_24888.txt', 'pos/cv872_12591.txt', 'pos/cv873_18636.txt', 'pos/cv874_11236.txt', 'pos/cv875_5754.txt', 'pos/cv876_9390.txt', 'pos/cv877_29274.txt', 'pos/cv878_15694.txt', 'pos/cv879_14903.txt', 'pos/cv880_29800.txt', 'pos/cv881_13254.txt', 'pos/cv882_10026.txt', 'pos/cv883_27751.txt', 'pos/cv884_13632.txt', 'pos/cv885_12318.txt', 'pos/cv886_18177.txt', 'pos/cv887_5126.txt', 'pos/cv888_24435.txt', 'pos/cv889_21430.txt', 'pos/cv890_3977.txt', 'pos/cv891_6385.txt', 'pos/cv892_17576.txt', 'pos/cv893_26269.txt', 'pos/cv894_2068.txt', 'pos/cv895_21022.txt', 'pos/cv896_16071.txt', 'pos/cv897_10837.txt', 'pos/cv898_14187.txt', 'pos/cv899_16014.txt', 'pos/cv900_10331.txt', 'pos/cv901_11017.txt', 'pos/cv902_12256.txt', 'pos/cv903_17822.txt', 'pos/cv904_24353.txt', 'pos/cv905_29114.txt', 'pos/cv906_11491.txt', 'pos/cv907_3541.txt', 'pos/cv908_16009.txt', 'pos/cv909_9960.txt', 'pos/cv910_20488.txt', 'pos/cv911_20260.txt', 'pos/cv912_5674.txt', 'pos/cv913_29252.txt', 'pos/cv914_28742.txt', 'pos/cv915_8841.txt', 'pos/cv916_15467.txt', 'pos/cv917_29715.txt', 'pos/cv918_2693.txt', 'pos/cv919_16380.txt', 'pos/cv920_29622.txt', 'pos/cv921_12747.txt', 'pos/cv922_10073.txt', 'pos/cv923_11051.txt', 'pos/cv924_29540.txt', 'pos/cv925_8969.txt', 'pos/cv926_17059.txt', 'pos/cv927_10681.txt', 'pos/cv928_9168.txt', 'pos/cv929_16908.txt', 'pos/cv930_13475.txt', 'pos/cv931_17563.txt', 'pos/cv932_13401.txt', 'pos/cv933_23776.txt', 'pos/cv934_19027.txt', 'pos/cv935_23841.txt', 'pos/cv936_15954.txt', 'pos/cv937_9811.txt', 'pos/cv938_10220.txt', 'pos/cv939_10583.txt', 'pos/cv940_17705.txt', 'pos/cv941_10246.txt', 'pos/cv942_17082.txt', 'pos/cv943_22488.txt', 'pos/cv944_13521.txt', 'pos/cv945_12160.txt', 'pos/cv946_18658.txt', 'pos/cv947_10601.txt', 'pos/cv948_24606.txt', 'pos/cv949_20112.txt', 'pos/cv950_12350.txt', 'pos/cv951_10926.txt', 'pos/cv952_25240.txt', 'pos/cv953_6836.txt', 'pos/cv954_18628.txt', 'pos/cv955_25001.txt', 'pos/cv956_11609.txt', 'pos/cv957_8737.txt', 'pos/cv958_12162.txt', 'pos/cv959_14611.txt', 'pos/cv960_29007.txt', 'pos/cv961_5682.txt', 'pos/cv962_9803.txt', 'pos/cv963_6895.txt', 'pos/cv964_6021.txt', 'pos/cv965_26071.txt', 'pos/cv966_28832.txt', 'pos/cv967_5788.txt', 'pos/cv968_24218.txt', 'pos/cv969_13250.txt', 'pos/cv970_18450.txt', 'pos/cv971_10874.txt', 'pos/cv972_26417.txt', 'pos/cv973_10066.txt', 'pos/cv974_22941.txt', 'pos/cv975_10981.txt', 'pos/cv976_10267.txt', 'pos/cv977_4938.txt', 'pos/cv978_20929.txt', 'pos/cv979_18921.txt', 'pos/cv980_10953.txt', 'pos/cv981_14989.txt', 'pos/cv982_21103.txt', 'pos/cv983_22928.txt', 'pos/cv984_12767.txt', 'pos/cv985_6359.txt', 'pos/cv986_13527.txt', 'pos/cv987_6965.txt', 'pos/cv988_18740.txt', 'pos/cv989_15824.txt', 'pos/cv990_11591.txt', 'pos/cv991_18645.txt', 'pos/cv992_11962.txt', 'pos/cv993_29737.txt', 'pos/cv994_12270.txt', 'pos/cv995_21821.txt', 'pos/cv996_11592.txt', 'pos/cv997_5046.txt', 'pos/cv998_14111.txt', 'pos/cv999_13106.txt']\n"
          ],
          "name": "stdout"
        }
      ]
    },
    {
      "metadata": {
        "id": "DO_Xr8saNgdc",
        "colab_type": "code",
        "colab": {
          "base_uri": "https://localhost:8080/",
          "height": 35
        },
        "outputId": "2f12fd10-7a62-4ef9-c266-c9d6a7c7a01f"
      },
      "cell_type": "code",
      "source": [
        "pos_rev=nltk.corpus.movie_reviews.words('pos/cv000_29590.txt')\n",
        "rev"
      ],
      "execution_count": 118,
      "outputs": [
        {
          "output_type": "execute_result",
          "data": {
            "text/plain": [
              "['films', 'adapted', 'from', 'comic', 'books', 'have', ...]"
            ]
          },
          "metadata": {
            "tags": []
          },
          "execution_count": 118
        }
      ]
    },
    {
      "metadata": {
        "id": "EAD3slnIOBPn",
        "colab_type": "code",
        "colab": {}
      },
      "cell_type": "code",
      "source": [
        "rev_list=[]"
      ],
      "execution_count": 0,
      "outputs": []
    },
    {
      "metadata": {
        "id": "HrUlCYm2OEu7",
        "colab_type": "code",
        "colab": {}
      },
      "cell_type": "code",
      "source": [
        "for rev in pos_rev:\n",
        "  "
      ],
      "execution_count": 0,
      "outputs": []
    },
    {
      "metadata": {
        "id": "B7eF0mJ2Xwsd",
        "colab_type": "code",
        "colab": {}
      },
      "cell_type": "code",
      "source": [
        "import pandas as pd\n",
        "import gzip\n",
        " \n",
        "def parse(path):\n",
        "    g = gzip.open(path, 'rb')\n",
        "    for l in g:\n",
        "        yield eval(l)\n",
        " \n",
        "def getDF(path): \n",
        "    i = 0\n",
        "    df = {}\n",
        "    for d in parse(path):\n",
        "        df[i] = d\n",
        "        i += 1\n",
        "    return pd.DataFrame.from_dict(df, orient='index')\n",
        " \n",
        "def parse(path):\n",
        "    g = gzip.open(path, 'rb')\n",
        "    for l in g:\n",
        "        yield eval(l)\n",
        " \n",
        "def getDF(path): \n",
        "    i = 0\n",
        "    df = {}\n",
        "    for d in parse(path):\n",
        "        df[i] = d\n",
        "        i += 1\n",
        "    return pd.DataFrame.from_dict(df, orient='index')"
      ],
      "execution_count": 0,
      "outputs": []
    },
    {
      "metadata": {
        "id": "UIPtZOsRYO0G",
        "colab_type": "code",
        "colab": {
          "base_uri": "https://localhost:8080/",
          "height": 693
        },
        "outputId": "6b53faf6-74ba-4045-95ac-6d5b59b9b2c9"
      },
      "cell_type": "code",
      "source": [
        "video_data = getDF('reviews_Amazon_Instant_Video_5.json.gz')"
      ],
      "execution_count": 125,
      "outputs": [
        {
          "output_type": "error",
          "ename": "FileNotFoundError",
          "evalue": "ignored",
          "traceback": [
            "\u001b[0;31m---------------------------------------------------------------------------\u001b[0m",
            "\u001b[0;31mFileNotFoundError\u001b[0m                         Traceback (most recent call last)",
            "\u001b[0;32m<ipython-input-125-835bcc71aa3e>\u001b[0m in \u001b[0;36m<module>\u001b[0;34m()\u001b[0m\n\u001b[0;32m----> 1\u001b[0;31m \u001b[0mvideo_data\u001b[0m \u001b[0;34m=\u001b[0m \u001b[0mgetDF\u001b[0m\u001b[0;34m(\u001b[0m\u001b[0;34m'reviews_Amazon_Instant_Video_5.json.gz'\u001b[0m\u001b[0;34m)\u001b[0m\u001b[0;34m\u001b[0m\u001b[0m\n\u001b[0m",
            "\u001b[0;32m<ipython-input-124-08dc9a39a90e>\u001b[0m in \u001b[0;36mgetDF\u001b[0;34m(path)\u001b[0m\n\u001b[1;32m      7\u001b[0m     \u001b[0mi\u001b[0m \u001b[0;34m=\u001b[0m \u001b[0;36m0\u001b[0m\u001b[0;34m\u001b[0m\u001b[0m\n\u001b[1;32m      8\u001b[0m     \u001b[0mdf\u001b[0m \u001b[0;34m=\u001b[0m \u001b[0;34m{\u001b[0m\u001b[0;34m}\u001b[0m\u001b[0;34m\u001b[0m\u001b[0m\n\u001b[0;32m----> 9\u001b[0;31m     \u001b[0;32mfor\u001b[0m \u001b[0md\u001b[0m \u001b[0;32min\u001b[0m \u001b[0mparse\u001b[0m\u001b[0;34m(\u001b[0m\u001b[0mpath\u001b[0m\u001b[0;34m)\u001b[0m\u001b[0;34m:\u001b[0m\u001b[0;34m\u001b[0m\u001b[0m\n\u001b[0m\u001b[1;32m     10\u001b[0m         \u001b[0mdf\u001b[0m\u001b[0;34m[\u001b[0m\u001b[0mi\u001b[0m\u001b[0;34m]\u001b[0m \u001b[0;34m=\u001b[0m \u001b[0md\u001b[0m\u001b[0;34m\u001b[0m\u001b[0m\n\u001b[1;32m     11\u001b[0m         \u001b[0mi\u001b[0m \u001b[0;34m+=\u001b[0m \u001b[0;36m1\u001b[0m\u001b[0;34m\u001b[0m\u001b[0m\n",
            "\u001b[0;32m<ipython-input-124-08dc9a39a90e>\u001b[0m in \u001b[0;36mparse\u001b[0;34m(path)\u001b[0m\n\u001b[1;32m      1\u001b[0m \u001b[0;32mdef\u001b[0m \u001b[0mparse\u001b[0m\u001b[0;34m(\u001b[0m\u001b[0mpath\u001b[0m\u001b[0;34m)\u001b[0m\u001b[0;34m:\u001b[0m\u001b[0;34m\u001b[0m\u001b[0m\n\u001b[0;32m----> 2\u001b[0;31m     \u001b[0mg\u001b[0m \u001b[0;34m=\u001b[0m \u001b[0mgzip\u001b[0m\u001b[0;34m.\u001b[0m\u001b[0mopen\u001b[0m\u001b[0;34m(\u001b[0m\u001b[0mpath\u001b[0m\u001b[0;34m,\u001b[0m \u001b[0;34m'rb'\u001b[0m\u001b[0;34m)\u001b[0m\u001b[0;34m\u001b[0m\u001b[0m\n\u001b[0m\u001b[1;32m      3\u001b[0m     \u001b[0;32mfor\u001b[0m \u001b[0ml\u001b[0m \u001b[0;32min\u001b[0m \u001b[0mg\u001b[0m\u001b[0;34m:\u001b[0m\u001b[0;34m\u001b[0m\u001b[0m\n\u001b[1;32m      4\u001b[0m         \u001b[0;32myield\u001b[0m \u001b[0meval\u001b[0m\u001b[0;34m(\u001b[0m\u001b[0ml\u001b[0m\u001b[0;34m)\u001b[0m\u001b[0;34m\u001b[0m\u001b[0m\n\u001b[1;32m      5\u001b[0m \u001b[0;34m\u001b[0m\u001b[0m\n",
            "\u001b[0;32m/usr/lib/python3.6/gzip.py\u001b[0m in \u001b[0;36mopen\u001b[0;34m(filename, mode, compresslevel, encoding, errors, newline)\u001b[0m\n\u001b[1;32m     51\u001b[0m     \u001b[0mgz_mode\u001b[0m \u001b[0;34m=\u001b[0m \u001b[0mmode\u001b[0m\u001b[0;34m.\u001b[0m\u001b[0mreplace\u001b[0m\u001b[0;34m(\u001b[0m\u001b[0;34m\"t\"\u001b[0m\u001b[0;34m,\u001b[0m \u001b[0;34m\"\"\u001b[0m\u001b[0;34m)\u001b[0m\u001b[0;34m\u001b[0m\u001b[0m\n\u001b[1;32m     52\u001b[0m     \u001b[0;32mif\u001b[0m \u001b[0misinstance\u001b[0m\u001b[0;34m(\u001b[0m\u001b[0mfilename\u001b[0m\u001b[0;34m,\u001b[0m \u001b[0;34m(\u001b[0m\u001b[0mstr\u001b[0m\u001b[0;34m,\u001b[0m \u001b[0mbytes\u001b[0m\u001b[0;34m,\u001b[0m \u001b[0mos\u001b[0m\u001b[0;34m.\u001b[0m\u001b[0mPathLike\u001b[0m\u001b[0;34m)\u001b[0m\u001b[0;34m)\u001b[0m\u001b[0;34m:\u001b[0m\u001b[0;34m\u001b[0m\u001b[0m\n\u001b[0;32m---> 53\u001b[0;31m         \u001b[0mbinary_file\u001b[0m \u001b[0;34m=\u001b[0m \u001b[0mGzipFile\u001b[0m\u001b[0;34m(\u001b[0m\u001b[0mfilename\u001b[0m\u001b[0;34m,\u001b[0m \u001b[0mgz_mode\u001b[0m\u001b[0;34m,\u001b[0m \u001b[0mcompresslevel\u001b[0m\u001b[0;34m)\u001b[0m\u001b[0;34m\u001b[0m\u001b[0m\n\u001b[0m\u001b[1;32m     54\u001b[0m     \u001b[0;32melif\u001b[0m \u001b[0mhasattr\u001b[0m\u001b[0;34m(\u001b[0m\u001b[0mfilename\u001b[0m\u001b[0;34m,\u001b[0m \u001b[0;34m\"read\"\u001b[0m\u001b[0;34m)\u001b[0m \u001b[0;32mor\u001b[0m \u001b[0mhasattr\u001b[0m\u001b[0;34m(\u001b[0m\u001b[0mfilename\u001b[0m\u001b[0;34m,\u001b[0m \u001b[0;34m\"write\"\u001b[0m\u001b[0;34m)\u001b[0m\u001b[0;34m:\u001b[0m\u001b[0;34m\u001b[0m\u001b[0m\n\u001b[1;32m     55\u001b[0m         \u001b[0mbinary_file\u001b[0m \u001b[0;34m=\u001b[0m \u001b[0mGzipFile\u001b[0m\u001b[0;34m(\u001b[0m\u001b[0;32mNone\u001b[0m\u001b[0;34m,\u001b[0m \u001b[0mgz_mode\u001b[0m\u001b[0;34m,\u001b[0m \u001b[0mcompresslevel\u001b[0m\u001b[0;34m,\u001b[0m \u001b[0mfilename\u001b[0m\u001b[0;34m)\u001b[0m\u001b[0;34m\u001b[0m\u001b[0m\n",
            "\u001b[0;32m/usr/lib/python3.6/gzip.py\u001b[0m in \u001b[0;36m__init__\u001b[0;34m(self, filename, mode, compresslevel, fileobj, mtime)\u001b[0m\n\u001b[1;32m    161\u001b[0m             \u001b[0mmode\u001b[0m \u001b[0;34m+=\u001b[0m \u001b[0;34m'b'\u001b[0m\u001b[0;34m\u001b[0m\u001b[0m\n\u001b[1;32m    162\u001b[0m         \u001b[0;32mif\u001b[0m \u001b[0mfileobj\u001b[0m \u001b[0;32mis\u001b[0m \u001b[0;32mNone\u001b[0m\u001b[0;34m:\u001b[0m\u001b[0;34m\u001b[0m\u001b[0m\n\u001b[0;32m--> 163\u001b[0;31m             \u001b[0mfileobj\u001b[0m \u001b[0;34m=\u001b[0m \u001b[0mself\u001b[0m\u001b[0;34m.\u001b[0m\u001b[0mmyfileobj\u001b[0m \u001b[0;34m=\u001b[0m \u001b[0mbuiltins\u001b[0m\u001b[0;34m.\u001b[0m\u001b[0mopen\u001b[0m\u001b[0;34m(\u001b[0m\u001b[0mfilename\u001b[0m\u001b[0;34m,\u001b[0m \u001b[0mmode\u001b[0m \u001b[0;32mor\u001b[0m \u001b[0;34m'rb'\u001b[0m\u001b[0;34m)\u001b[0m\u001b[0;34m\u001b[0m\u001b[0m\n\u001b[0m\u001b[1;32m    164\u001b[0m         \u001b[0;32mif\u001b[0m \u001b[0mfilename\u001b[0m \u001b[0;32mis\u001b[0m \u001b[0;32mNone\u001b[0m\u001b[0;34m:\u001b[0m\u001b[0;34m\u001b[0m\u001b[0m\n\u001b[1;32m    165\u001b[0m             \u001b[0mfilename\u001b[0m \u001b[0;34m=\u001b[0m \u001b[0mgetattr\u001b[0m\u001b[0;34m(\u001b[0m\u001b[0mfileobj\u001b[0m\u001b[0;34m,\u001b[0m \u001b[0;34m'name'\u001b[0m\u001b[0;34m,\u001b[0m \u001b[0;34m''\u001b[0m\u001b[0;34m)\u001b[0m\u001b[0;34m\u001b[0m\u001b[0m\n",
            "\u001b[0;31mFileNotFoundError\u001b[0m: [Errno 2] No such file or directory: 'reviews_Amazon_Instant_Video_5.json.gz'"
          ]
        }
      ]
    },
    {
      "metadata": {
        "id": "6jPi-T6fqtgv",
        "colab_type": "code",
        "colab": {}
      },
      "cell_type": "code",
      "source": [
        "from sklearn import svm\n",
        "from sklearn import datasets\n"
      ],
      "execution_count": 0,
      "outputs": []
    },
    {
      "metadata": {
        "id": "ojf7LxFPYUwu",
        "colab_type": "code",
        "colab": {}
      },
      "cell_type": "code",
      "source": [
        "iris=datasets.load_iris()"
      ],
      "execution_count": 0,
      "outputs": []
    },
    {
      "metadata": {
        "id": "e1Lila-RrIGM",
        "colab_type": "code",
        "colab": {
          "base_uri": "https://localhost:8080/",
          "height": 2717
        },
        "outputId": "83a34718-91c3-410b-87aa-987fa5f58475"
      },
      "cell_type": "code",
      "source": [
        "iris.data"
      ],
      "execution_count": 129,
      "outputs": [
        {
          "output_type": "execute_result",
          "data": {
            "text/plain": [
              "array([[5.1, 3.5, 1.4, 0.2],\n",
              "       [4.9, 3. , 1.4, 0.2],\n",
              "       [4.7, 3.2, 1.3, 0.2],\n",
              "       [4.6, 3.1, 1.5, 0.2],\n",
              "       [5. , 3.6, 1.4, 0.2],\n",
              "       [5.4, 3.9, 1.7, 0.4],\n",
              "       [4.6, 3.4, 1.4, 0.3],\n",
              "       [5. , 3.4, 1.5, 0.2],\n",
              "       [4.4, 2.9, 1.4, 0.2],\n",
              "       [4.9, 3.1, 1.5, 0.1],\n",
              "       [5.4, 3.7, 1.5, 0.2],\n",
              "       [4.8, 3.4, 1.6, 0.2],\n",
              "       [4.8, 3. , 1.4, 0.1],\n",
              "       [4.3, 3. , 1.1, 0.1],\n",
              "       [5.8, 4. , 1.2, 0.2],\n",
              "       [5.7, 4.4, 1.5, 0.4],\n",
              "       [5.4, 3.9, 1.3, 0.4],\n",
              "       [5.1, 3.5, 1.4, 0.3],\n",
              "       [5.7, 3.8, 1.7, 0.3],\n",
              "       [5.1, 3.8, 1.5, 0.3],\n",
              "       [5.4, 3.4, 1.7, 0.2],\n",
              "       [5.1, 3.7, 1.5, 0.4],\n",
              "       [4.6, 3.6, 1. , 0.2],\n",
              "       [5.1, 3.3, 1.7, 0.5],\n",
              "       [4.8, 3.4, 1.9, 0.2],\n",
              "       [5. , 3. , 1.6, 0.2],\n",
              "       [5. , 3.4, 1.6, 0.4],\n",
              "       [5.2, 3.5, 1.5, 0.2],\n",
              "       [5.2, 3.4, 1.4, 0.2],\n",
              "       [4.7, 3.2, 1.6, 0.2],\n",
              "       [4.8, 3.1, 1.6, 0.2],\n",
              "       [5.4, 3.4, 1.5, 0.4],\n",
              "       [5.2, 4.1, 1.5, 0.1],\n",
              "       [5.5, 4.2, 1.4, 0.2],\n",
              "       [4.9, 3.1, 1.5, 0.1],\n",
              "       [5. , 3.2, 1.2, 0.2],\n",
              "       [5.5, 3.5, 1.3, 0.2],\n",
              "       [4.9, 3.1, 1.5, 0.1],\n",
              "       [4.4, 3. , 1.3, 0.2],\n",
              "       [5.1, 3.4, 1.5, 0.2],\n",
              "       [5. , 3.5, 1.3, 0.3],\n",
              "       [4.5, 2.3, 1.3, 0.3],\n",
              "       [4.4, 3.2, 1.3, 0.2],\n",
              "       [5. , 3.5, 1.6, 0.6],\n",
              "       [5.1, 3.8, 1.9, 0.4],\n",
              "       [4.8, 3. , 1.4, 0.3],\n",
              "       [5.1, 3.8, 1.6, 0.2],\n",
              "       [4.6, 3.2, 1.4, 0.2],\n",
              "       [5.3, 3.7, 1.5, 0.2],\n",
              "       [5. , 3.3, 1.4, 0.2],\n",
              "       [7. , 3.2, 4.7, 1.4],\n",
              "       [6.4, 3.2, 4.5, 1.5],\n",
              "       [6.9, 3.1, 4.9, 1.5],\n",
              "       [5.5, 2.3, 4. , 1.3],\n",
              "       [6.5, 2.8, 4.6, 1.5],\n",
              "       [5.7, 2.8, 4.5, 1.3],\n",
              "       [6.3, 3.3, 4.7, 1.6],\n",
              "       [4.9, 2.4, 3.3, 1. ],\n",
              "       [6.6, 2.9, 4.6, 1.3],\n",
              "       [5.2, 2.7, 3.9, 1.4],\n",
              "       [5. , 2. , 3.5, 1. ],\n",
              "       [5.9, 3. , 4.2, 1.5],\n",
              "       [6. , 2.2, 4. , 1. ],\n",
              "       [6.1, 2.9, 4.7, 1.4],\n",
              "       [5.6, 2.9, 3.6, 1.3],\n",
              "       [6.7, 3.1, 4.4, 1.4],\n",
              "       [5.6, 3. , 4.5, 1.5],\n",
              "       [5.8, 2.7, 4.1, 1. ],\n",
              "       [6.2, 2.2, 4.5, 1.5],\n",
              "       [5.6, 2.5, 3.9, 1.1],\n",
              "       [5.9, 3.2, 4.8, 1.8],\n",
              "       [6.1, 2.8, 4. , 1.3],\n",
              "       [6.3, 2.5, 4.9, 1.5],\n",
              "       [6.1, 2.8, 4.7, 1.2],\n",
              "       [6.4, 2.9, 4.3, 1.3],\n",
              "       [6.6, 3. , 4.4, 1.4],\n",
              "       [6.8, 2.8, 4.8, 1.4],\n",
              "       [6.7, 3. , 5. , 1.7],\n",
              "       [6. , 2.9, 4.5, 1.5],\n",
              "       [5.7, 2.6, 3.5, 1. ],\n",
              "       [5.5, 2.4, 3.8, 1.1],\n",
              "       [5.5, 2.4, 3.7, 1. ],\n",
              "       [5.8, 2.7, 3.9, 1.2],\n",
              "       [6. , 2.7, 5.1, 1.6],\n",
              "       [5.4, 3. , 4.5, 1.5],\n",
              "       [6. , 3.4, 4.5, 1.6],\n",
              "       [6.7, 3.1, 4.7, 1.5],\n",
              "       [6.3, 2.3, 4.4, 1.3],\n",
              "       [5.6, 3. , 4.1, 1.3],\n",
              "       [5.5, 2.5, 4. , 1.3],\n",
              "       [5.5, 2.6, 4.4, 1.2],\n",
              "       [6.1, 3. , 4.6, 1.4],\n",
              "       [5.8, 2.6, 4. , 1.2],\n",
              "       [5. , 2.3, 3.3, 1. ],\n",
              "       [5.6, 2.7, 4.2, 1.3],\n",
              "       [5.7, 3. , 4.2, 1.2],\n",
              "       [5.7, 2.9, 4.2, 1.3],\n",
              "       [6.2, 2.9, 4.3, 1.3],\n",
              "       [5.1, 2.5, 3. , 1.1],\n",
              "       [5.7, 2.8, 4.1, 1.3],\n",
              "       [6.3, 3.3, 6. , 2.5],\n",
              "       [5.8, 2.7, 5.1, 1.9],\n",
              "       [7.1, 3. , 5.9, 2.1],\n",
              "       [6.3, 2.9, 5.6, 1.8],\n",
              "       [6.5, 3. , 5.8, 2.2],\n",
              "       [7.6, 3. , 6.6, 2.1],\n",
              "       [4.9, 2.5, 4.5, 1.7],\n",
              "       [7.3, 2.9, 6.3, 1.8],\n",
              "       [6.7, 2.5, 5.8, 1.8],\n",
              "       [7.2, 3.6, 6.1, 2.5],\n",
              "       [6.5, 3.2, 5.1, 2. ],\n",
              "       [6.4, 2.7, 5.3, 1.9],\n",
              "       [6.8, 3. , 5.5, 2.1],\n",
              "       [5.7, 2.5, 5. , 2. ],\n",
              "       [5.8, 2.8, 5.1, 2.4],\n",
              "       [6.4, 3.2, 5.3, 2.3],\n",
              "       [6.5, 3. , 5.5, 1.8],\n",
              "       [7.7, 3.8, 6.7, 2.2],\n",
              "       [7.7, 2.6, 6.9, 2.3],\n",
              "       [6. , 2.2, 5. , 1.5],\n",
              "       [6.9, 3.2, 5.7, 2.3],\n",
              "       [5.6, 2.8, 4.9, 2. ],\n",
              "       [7.7, 2.8, 6.7, 2. ],\n",
              "       [6.3, 2.7, 4.9, 1.8],\n",
              "       [6.7, 3.3, 5.7, 2.1],\n",
              "       [7.2, 3.2, 6. , 1.8],\n",
              "       [6.2, 2.8, 4.8, 1.8],\n",
              "       [6.1, 3. , 4.9, 1.8],\n",
              "       [6.4, 2.8, 5.6, 2.1],\n",
              "       [7.2, 3. , 5.8, 1.6],\n",
              "       [7.4, 2.8, 6.1, 1.9],\n",
              "       [7.9, 3.8, 6.4, 2. ],\n",
              "       [6.4, 2.8, 5.6, 2.2],\n",
              "       [6.3, 2.8, 5.1, 1.5],\n",
              "       [6.1, 2.6, 5.6, 1.4],\n",
              "       [7.7, 3. , 6.1, 2.3],\n",
              "       [6.3, 3.4, 5.6, 2.4],\n",
              "       [6.4, 3.1, 5.5, 1.8],\n",
              "       [6. , 3. , 4.8, 1.8],\n",
              "       [6.9, 3.1, 5.4, 2.1],\n",
              "       [6.7, 3.1, 5.6, 2.4],\n",
              "       [6.9, 3.1, 5.1, 2.3],\n",
              "       [5.8, 2.7, 5.1, 1.9],\n",
              "       [6.8, 3.2, 5.9, 2.3],\n",
              "       [6.7, 3.3, 5.7, 2.5],\n",
              "       [6.7, 3. , 5.2, 2.3],\n",
              "       [6.3, 2.5, 5. , 1.9],\n",
              "       [6.5, 3. , 5.2, 2. ],\n",
              "       [6.2, 3.4, 5.4, 2.3],\n",
              "       [5.9, 3. , 5.1, 1.8]])"
            ]
          },
          "metadata": {
            "tags": []
          },
          "execution_count": 129
        }
      ]
    },
    {
      "metadata": {
        "id": "QnQJjE9prPmB",
        "colab_type": "code",
        "colab": {
          "base_uri": "https://localhost:8080/",
          "height": 89
        },
        "outputId": "417ebf76-1a49-411c-f5f8-38b827f88dcd"
      },
      "cell_type": "code",
      "source": [
        "iris.feature_names\n"
      ],
      "execution_count": 131,
      "outputs": [
        {
          "output_type": "execute_result",
          "data": {
            "text/plain": [
              "['sepal length (cm)',\n",
              " 'sepal width (cm)',\n",
              " 'petal length (cm)',\n",
              " 'petal width (cm)']"
            ]
          },
          "metadata": {
            "tags": []
          },
          "execution_count": 131
        }
      ]
    },
    {
      "metadata": {
        "id": "lnk3b54Gsfmj",
        "colab_type": "code",
        "colab": {
          "base_uri": "https://localhost:8080/",
          "height": 2717
        },
        "outputId": "768ac98f-b87d-46b2-b82c-e5dcc23bd055"
      },
      "cell_type": "code",
      "source": [
        "iris.data"
      ],
      "execution_count": 132,
      "outputs": [
        {
          "output_type": "execute_result",
          "data": {
            "text/plain": [
              "array([[5.1, 3.5, 1.4, 0.2],\n",
              "       [4.9, 3. , 1.4, 0.2],\n",
              "       [4.7, 3.2, 1.3, 0.2],\n",
              "       [4.6, 3.1, 1.5, 0.2],\n",
              "       [5. , 3.6, 1.4, 0.2],\n",
              "       [5.4, 3.9, 1.7, 0.4],\n",
              "       [4.6, 3.4, 1.4, 0.3],\n",
              "       [5. , 3.4, 1.5, 0.2],\n",
              "       [4.4, 2.9, 1.4, 0.2],\n",
              "       [4.9, 3.1, 1.5, 0.1],\n",
              "       [5.4, 3.7, 1.5, 0.2],\n",
              "       [4.8, 3.4, 1.6, 0.2],\n",
              "       [4.8, 3. , 1.4, 0.1],\n",
              "       [4.3, 3. , 1.1, 0.1],\n",
              "       [5.8, 4. , 1.2, 0.2],\n",
              "       [5.7, 4.4, 1.5, 0.4],\n",
              "       [5.4, 3.9, 1.3, 0.4],\n",
              "       [5.1, 3.5, 1.4, 0.3],\n",
              "       [5.7, 3.8, 1.7, 0.3],\n",
              "       [5.1, 3.8, 1.5, 0.3],\n",
              "       [5.4, 3.4, 1.7, 0.2],\n",
              "       [5.1, 3.7, 1.5, 0.4],\n",
              "       [4.6, 3.6, 1. , 0.2],\n",
              "       [5.1, 3.3, 1.7, 0.5],\n",
              "       [4.8, 3.4, 1.9, 0.2],\n",
              "       [5. , 3. , 1.6, 0.2],\n",
              "       [5. , 3.4, 1.6, 0.4],\n",
              "       [5.2, 3.5, 1.5, 0.2],\n",
              "       [5.2, 3.4, 1.4, 0.2],\n",
              "       [4.7, 3.2, 1.6, 0.2],\n",
              "       [4.8, 3.1, 1.6, 0.2],\n",
              "       [5.4, 3.4, 1.5, 0.4],\n",
              "       [5.2, 4.1, 1.5, 0.1],\n",
              "       [5.5, 4.2, 1.4, 0.2],\n",
              "       [4.9, 3.1, 1.5, 0.1],\n",
              "       [5. , 3.2, 1.2, 0.2],\n",
              "       [5.5, 3.5, 1.3, 0.2],\n",
              "       [4.9, 3.1, 1.5, 0.1],\n",
              "       [4.4, 3. , 1.3, 0.2],\n",
              "       [5.1, 3.4, 1.5, 0.2],\n",
              "       [5. , 3.5, 1.3, 0.3],\n",
              "       [4.5, 2.3, 1.3, 0.3],\n",
              "       [4.4, 3.2, 1.3, 0.2],\n",
              "       [5. , 3.5, 1.6, 0.6],\n",
              "       [5.1, 3.8, 1.9, 0.4],\n",
              "       [4.8, 3. , 1.4, 0.3],\n",
              "       [5.1, 3.8, 1.6, 0.2],\n",
              "       [4.6, 3.2, 1.4, 0.2],\n",
              "       [5.3, 3.7, 1.5, 0.2],\n",
              "       [5. , 3.3, 1.4, 0.2],\n",
              "       [7. , 3.2, 4.7, 1.4],\n",
              "       [6.4, 3.2, 4.5, 1.5],\n",
              "       [6.9, 3.1, 4.9, 1.5],\n",
              "       [5.5, 2.3, 4. , 1.3],\n",
              "       [6.5, 2.8, 4.6, 1.5],\n",
              "       [5.7, 2.8, 4.5, 1.3],\n",
              "       [6.3, 3.3, 4.7, 1.6],\n",
              "       [4.9, 2.4, 3.3, 1. ],\n",
              "       [6.6, 2.9, 4.6, 1.3],\n",
              "       [5.2, 2.7, 3.9, 1.4],\n",
              "       [5. , 2. , 3.5, 1. ],\n",
              "       [5.9, 3. , 4.2, 1.5],\n",
              "       [6. , 2.2, 4. , 1. ],\n",
              "       [6.1, 2.9, 4.7, 1.4],\n",
              "       [5.6, 2.9, 3.6, 1.3],\n",
              "       [6.7, 3.1, 4.4, 1.4],\n",
              "       [5.6, 3. , 4.5, 1.5],\n",
              "       [5.8, 2.7, 4.1, 1. ],\n",
              "       [6.2, 2.2, 4.5, 1.5],\n",
              "       [5.6, 2.5, 3.9, 1.1],\n",
              "       [5.9, 3.2, 4.8, 1.8],\n",
              "       [6.1, 2.8, 4. , 1.3],\n",
              "       [6.3, 2.5, 4.9, 1.5],\n",
              "       [6.1, 2.8, 4.7, 1.2],\n",
              "       [6.4, 2.9, 4.3, 1.3],\n",
              "       [6.6, 3. , 4.4, 1.4],\n",
              "       [6.8, 2.8, 4.8, 1.4],\n",
              "       [6.7, 3. , 5. , 1.7],\n",
              "       [6. , 2.9, 4.5, 1.5],\n",
              "       [5.7, 2.6, 3.5, 1. ],\n",
              "       [5.5, 2.4, 3.8, 1.1],\n",
              "       [5.5, 2.4, 3.7, 1. ],\n",
              "       [5.8, 2.7, 3.9, 1.2],\n",
              "       [6. , 2.7, 5.1, 1.6],\n",
              "       [5.4, 3. , 4.5, 1.5],\n",
              "       [6. , 3.4, 4.5, 1.6],\n",
              "       [6.7, 3.1, 4.7, 1.5],\n",
              "       [6.3, 2.3, 4.4, 1.3],\n",
              "       [5.6, 3. , 4.1, 1.3],\n",
              "       [5.5, 2.5, 4. , 1.3],\n",
              "       [5.5, 2.6, 4.4, 1.2],\n",
              "       [6.1, 3. , 4.6, 1.4],\n",
              "       [5.8, 2.6, 4. , 1.2],\n",
              "       [5. , 2.3, 3.3, 1. ],\n",
              "       [5.6, 2.7, 4.2, 1.3],\n",
              "       [5.7, 3. , 4.2, 1.2],\n",
              "       [5.7, 2.9, 4.2, 1.3],\n",
              "       [6.2, 2.9, 4.3, 1.3],\n",
              "       [5.1, 2.5, 3. , 1.1],\n",
              "       [5.7, 2.8, 4.1, 1.3],\n",
              "       [6.3, 3.3, 6. , 2.5],\n",
              "       [5.8, 2.7, 5.1, 1.9],\n",
              "       [7.1, 3. , 5.9, 2.1],\n",
              "       [6.3, 2.9, 5.6, 1.8],\n",
              "       [6.5, 3. , 5.8, 2.2],\n",
              "       [7.6, 3. , 6.6, 2.1],\n",
              "       [4.9, 2.5, 4.5, 1.7],\n",
              "       [7.3, 2.9, 6.3, 1.8],\n",
              "       [6.7, 2.5, 5.8, 1.8],\n",
              "       [7.2, 3.6, 6.1, 2.5],\n",
              "       [6.5, 3.2, 5.1, 2. ],\n",
              "       [6.4, 2.7, 5.3, 1.9],\n",
              "       [6.8, 3. , 5.5, 2.1],\n",
              "       [5.7, 2.5, 5. , 2. ],\n",
              "       [5.8, 2.8, 5.1, 2.4],\n",
              "       [6.4, 3.2, 5.3, 2.3],\n",
              "       [6.5, 3. , 5.5, 1.8],\n",
              "       [7.7, 3.8, 6.7, 2.2],\n",
              "       [7.7, 2.6, 6.9, 2.3],\n",
              "       [6. , 2.2, 5. , 1.5],\n",
              "       [6.9, 3.2, 5.7, 2.3],\n",
              "       [5.6, 2.8, 4.9, 2. ],\n",
              "       [7.7, 2.8, 6.7, 2. ],\n",
              "       [6.3, 2.7, 4.9, 1.8],\n",
              "       [6.7, 3.3, 5.7, 2.1],\n",
              "       [7.2, 3.2, 6. , 1.8],\n",
              "       [6.2, 2.8, 4.8, 1.8],\n",
              "       [6.1, 3. , 4.9, 1.8],\n",
              "       [6.4, 2.8, 5.6, 2.1],\n",
              "       [7.2, 3. , 5.8, 1.6],\n",
              "       [7.4, 2.8, 6.1, 1.9],\n",
              "       [7.9, 3.8, 6.4, 2. ],\n",
              "       [6.4, 2.8, 5.6, 2.2],\n",
              "       [6.3, 2.8, 5.1, 1.5],\n",
              "       [6.1, 2.6, 5.6, 1.4],\n",
              "       [7.7, 3. , 6.1, 2.3],\n",
              "       [6.3, 3.4, 5.6, 2.4],\n",
              "       [6.4, 3.1, 5.5, 1.8],\n",
              "       [6. , 3. , 4.8, 1.8],\n",
              "       [6.9, 3.1, 5.4, 2.1],\n",
              "       [6.7, 3.1, 5.6, 2.4],\n",
              "       [6.9, 3.1, 5.1, 2.3],\n",
              "       [5.8, 2.7, 5.1, 1.9],\n",
              "       [6.8, 3.2, 5.9, 2.3],\n",
              "       [6.7, 3.3, 5.7, 2.5],\n",
              "       [6.7, 3. , 5.2, 2.3],\n",
              "       [6.3, 2.5, 5. , 1.9],\n",
              "       [6.5, 3. , 5.2, 2. ],\n",
              "       [6.2, 3.4, 5.4, 2.3],\n",
              "       [5.9, 3. , 5.1, 1.8]])"
            ]
          },
          "metadata": {
            "tags": []
          },
          "execution_count": 132
        }
      ]
    },
    {
      "metadata": {
        "id": "SMY4vxGZspPO",
        "colab_type": "code",
        "colab": {}
      },
      "cell_type": "code",
      "source": [
        "x=iris.data[:,2]"
      ],
      "execution_count": 0,
      "outputs": []
    },
    {
      "metadata": {
        "id": "e3UV8zeZsu5B",
        "colab_type": "code",
        "colab": {
          "base_uri": "https://localhost:8080/",
          "height": 233
        },
        "outputId": "0d66d8f2-fc07-4c60-8bd4-e1b447f5b8b9"
      },
      "cell_type": "code",
      "source": [
        "x"
      ],
      "execution_count": 134,
      "outputs": [
        {
          "output_type": "execute_result",
          "data": {
            "text/plain": [
              "array([1.4, 1.4, 1.3, 1.5, 1.4, 1.7, 1.4, 1.5, 1.4, 1.5, 1.5, 1.6, 1.4,\n",
              "       1.1, 1.2, 1.5, 1.3, 1.4, 1.7, 1.5, 1.7, 1.5, 1. , 1.7, 1.9, 1.6,\n",
              "       1.6, 1.5, 1.4, 1.6, 1.6, 1.5, 1.5, 1.4, 1.5, 1.2, 1.3, 1.5, 1.3,\n",
              "       1.5, 1.3, 1.3, 1.3, 1.6, 1.9, 1.4, 1.6, 1.4, 1.5, 1.4, 4.7, 4.5,\n",
              "       4.9, 4. , 4.6, 4.5, 4.7, 3.3, 4.6, 3.9, 3.5, 4.2, 4. , 4.7, 3.6,\n",
              "       4.4, 4.5, 4.1, 4.5, 3.9, 4.8, 4. , 4.9, 4.7, 4.3, 4.4, 4.8, 5. ,\n",
              "       4.5, 3.5, 3.8, 3.7, 3.9, 5.1, 4.5, 4.5, 4.7, 4.4, 4.1, 4. , 4.4,\n",
              "       4.6, 4. , 3.3, 4.2, 4.2, 4.2, 4.3, 3. , 4.1, 6. , 5.1, 5.9, 5.6,\n",
              "       5.8, 6.6, 4.5, 6.3, 5.8, 6.1, 5.1, 5.3, 5.5, 5. , 5.1, 5.3, 5.5,\n",
              "       6.7, 6.9, 5. , 5.7, 4.9, 6.7, 4.9, 5.7, 6. , 4.8, 4.9, 5.6, 5.8,\n",
              "       6.1, 6.4, 5.6, 5.1, 5.6, 6.1, 5.6, 5.5, 4.8, 5.4, 5.6, 5.1, 5.1,\n",
              "       5.9, 5.7, 5.2, 5. , 5.2, 5.4, 5.1])"
            ]
          },
          "metadata": {
            "tags": []
          },
          "execution_count": 134
        }
      ]
    },
    {
      "metadata": {
        "id": "AJY3r8rAtAi9",
        "colab_type": "code",
        "colab": {}
      },
      "cell_type": "code",
      "source": [
        "y=iris.target"
      ],
      "execution_count": 0,
      "outputs": []
    },
    {
      "metadata": {
        "id": "wYpaZFV6tDtW",
        "colab_type": "code",
        "colab": {
          "base_uri": "https://localhost:8080/",
          "height": 143
        },
        "outputId": "0d0ba453-6817-4c9a-ec0a-355429c92ad7"
      },
      "cell_type": "code",
      "source": [
        "y"
      ],
      "execution_count": 136,
      "outputs": [
        {
          "output_type": "execute_result",
          "data": {
            "text/plain": [
              "array([0, 0, 0, 0, 0, 0, 0, 0, 0, 0, 0, 0, 0, 0, 0, 0, 0, 0, 0, 0, 0, 0,\n",
              "       0, 0, 0, 0, 0, 0, 0, 0, 0, 0, 0, 0, 0, 0, 0, 0, 0, 0, 0, 0, 0, 0,\n",
              "       0, 0, 0, 0, 0, 0, 1, 1, 1, 1, 1, 1, 1, 1, 1, 1, 1, 1, 1, 1, 1, 1,\n",
              "       1, 1, 1, 1, 1, 1, 1, 1, 1, 1, 1, 1, 1, 1, 1, 1, 1, 1, 1, 1, 1, 1,\n",
              "       1, 1, 1, 1, 1, 1, 1, 1, 1, 1, 1, 1, 2, 2, 2, 2, 2, 2, 2, 2, 2, 2,\n",
              "       2, 2, 2, 2, 2, 2, 2, 2, 2, 2, 2, 2, 2, 2, 2, 2, 2, 2, 2, 2, 2, 2,\n",
              "       2, 2, 2, 2, 2, 2, 2, 2, 2, 2, 2, 2, 2, 2, 2, 2, 2, 2])"
            ]
          },
          "metadata": {
            "tags": []
          },
          "execution_count": 136
        }
      ]
    },
    {
      "metadata": {
        "id": "5b-voHoDtOdn",
        "colab_type": "code",
        "colab": {}
      },
      "cell_type": "code",
      "source": [
        "from sklearn.cross_validation import train_test_split\n",
        "x_train,x_test,y_train,y_test=train_test_split(x,y,test_size=0.2, random_state=4)"
      ],
      "execution_count": 0,
      "outputs": []
    },
    {
      "metadata": {
        "id": "GjMN2qKRuYnj",
        "colab_type": "code",
        "colab": {}
      },
      "cell_type": "code",
      "source": [
        "model=svm.SVC(kernel='linear')"
      ],
      "execution_count": 0,
      "outputs": []
    },
    {
      "metadata": {
        "id": "ATq2medAtxCi",
        "colab_type": "code",
        "colab": {
          "base_uri": "https://localhost:8080/",
          "height": 675
        },
        "outputId": "252dfe12-2994-43a8-90ad-0f2e6e8626cf"
      },
      "cell_type": "code",
      "source": [
        "model.fit(x_train,y_train)"
      ],
      "execution_count": 142,
      "outputs": [
        {
          "output_type": "error",
          "ename": "ValueError",
          "evalue": "ignored",
          "traceback": [
            "\u001b[0;31m---------------------------------------------------------------------------\u001b[0m",
            "\u001b[0;31mValueError\u001b[0m                                Traceback (most recent call last)",
            "\u001b[0;32m<ipython-input-142-4719cf73997a>\u001b[0m in \u001b[0;36m<module>\u001b[0;34m()\u001b[0m\n\u001b[0;32m----> 1\u001b[0;31m \u001b[0mmodel\u001b[0m\u001b[0;34m.\u001b[0m\u001b[0mfit\u001b[0m\u001b[0;34m(\u001b[0m\u001b[0mx_train\u001b[0m\u001b[0;34m,\u001b[0m\u001b[0my_train\u001b[0m\u001b[0;34m)\u001b[0m\u001b[0;34m\u001b[0m\u001b[0m\n\u001b[0m",
            "\u001b[0;32m/usr/local/lib/python3.6/dist-packages/sklearn/svm/base.py\u001b[0m in \u001b[0;36mfit\u001b[0;34m(self, X, y, sample_weight)\u001b[0m\n\u001b[1;32m    147\u001b[0m         \u001b[0mself\u001b[0m\u001b[0;34m.\u001b[0m\u001b[0m_sparse\u001b[0m \u001b[0;34m=\u001b[0m \u001b[0msparse\u001b[0m \u001b[0;32mand\u001b[0m \u001b[0;32mnot\u001b[0m \u001b[0mcallable\u001b[0m\u001b[0;34m(\u001b[0m\u001b[0mself\u001b[0m\u001b[0;34m.\u001b[0m\u001b[0mkernel\u001b[0m\u001b[0;34m)\u001b[0m\u001b[0;34m\u001b[0m\u001b[0m\n\u001b[1;32m    148\u001b[0m \u001b[0;34m\u001b[0m\u001b[0m\n\u001b[0;32m--> 149\u001b[0;31m         \u001b[0mX\u001b[0m\u001b[0;34m,\u001b[0m \u001b[0my\u001b[0m \u001b[0;34m=\u001b[0m \u001b[0mcheck_X_y\u001b[0m\u001b[0;34m(\u001b[0m\u001b[0mX\u001b[0m\u001b[0;34m,\u001b[0m \u001b[0my\u001b[0m\u001b[0;34m,\u001b[0m \u001b[0mdtype\u001b[0m\u001b[0;34m=\u001b[0m\u001b[0mnp\u001b[0m\u001b[0;34m.\u001b[0m\u001b[0mfloat64\u001b[0m\u001b[0;34m,\u001b[0m \u001b[0morder\u001b[0m\u001b[0;34m=\u001b[0m\u001b[0;34m'C'\u001b[0m\u001b[0;34m,\u001b[0m \u001b[0maccept_sparse\u001b[0m\u001b[0;34m=\u001b[0m\u001b[0;34m'csr'\u001b[0m\u001b[0;34m)\u001b[0m\u001b[0;34m\u001b[0m\u001b[0m\n\u001b[0m\u001b[1;32m    150\u001b[0m         \u001b[0my\u001b[0m \u001b[0;34m=\u001b[0m \u001b[0mself\u001b[0m\u001b[0;34m.\u001b[0m\u001b[0m_validate_targets\u001b[0m\u001b[0;34m(\u001b[0m\u001b[0my\u001b[0m\u001b[0;34m)\u001b[0m\u001b[0;34m\u001b[0m\u001b[0m\n\u001b[1;32m    151\u001b[0m \u001b[0;34m\u001b[0m\u001b[0m\n",
            "\u001b[0;32m/usr/local/lib/python3.6/dist-packages/sklearn/utils/validation.py\u001b[0m in \u001b[0;36mcheck_X_y\u001b[0;34m(X, y, accept_sparse, dtype, order, copy, force_all_finite, ensure_2d, allow_nd, multi_output, ensure_min_samples, ensure_min_features, y_numeric, warn_on_dtype, estimator)\u001b[0m\n\u001b[1;32m    571\u001b[0m     X = check_array(X, accept_sparse, dtype, order, copy, force_all_finite,\n\u001b[1;32m    572\u001b[0m                     \u001b[0mensure_2d\u001b[0m\u001b[0;34m,\u001b[0m \u001b[0mallow_nd\u001b[0m\u001b[0;34m,\u001b[0m \u001b[0mensure_min_samples\u001b[0m\u001b[0;34m,\u001b[0m\u001b[0;34m\u001b[0m\u001b[0m\n\u001b[0;32m--> 573\u001b[0;31m                     ensure_min_features, warn_on_dtype, estimator)\n\u001b[0m\u001b[1;32m    574\u001b[0m     \u001b[0;32mif\u001b[0m \u001b[0mmulti_output\u001b[0m\u001b[0;34m:\u001b[0m\u001b[0;34m\u001b[0m\u001b[0m\n\u001b[1;32m    575\u001b[0m         y = check_array(y, 'csr', force_all_finite=True, ensure_2d=False,\n",
            "\u001b[0;32m/usr/local/lib/python3.6/dist-packages/sklearn/utils/validation.py\u001b[0m in \u001b[0;36mcheck_array\u001b[0;34m(array, accept_sparse, dtype, order, copy, force_all_finite, ensure_2d, allow_nd, ensure_min_samples, ensure_min_features, warn_on_dtype, estimator)\u001b[0m\n\u001b[1;32m    439\u001b[0m                     \u001b[0;34m\"Reshape your data either using array.reshape(-1, 1) if \"\u001b[0m\u001b[0;34m\u001b[0m\u001b[0m\n\u001b[1;32m    440\u001b[0m                     \u001b[0;34m\"your data has a single feature or array.reshape(1, -1) \"\u001b[0m\u001b[0;34m\u001b[0m\u001b[0m\n\u001b[0;32m--> 441\u001b[0;31m                     \"if it contains a single sample.\".format(array))\n\u001b[0m\u001b[1;32m    442\u001b[0m             \u001b[0marray\u001b[0m \u001b[0;34m=\u001b[0m \u001b[0mnp\u001b[0m\u001b[0;34m.\u001b[0m\u001b[0matleast_2d\u001b[0m\u001b[0;34m(\u001b[0m\u001b[0marray\u001b[0m\u001b[0;34m)\u001b[0m\u001b[0;34m\u001b[0m\u001b[0m\n\u001b[1;32m    443\u001b[0m             \u001b[0;31m# To ensure that array flags are maintained\u001b[0m\u001b[0;34m\u001b[0m\u001b[0;34m\u001b[0m\u001b[0m\n",
            "\u001b[0;31mValueError\u001b[0m: Expected 2D array, got 1D array instead:\narray=[1. 0. 2. 0. 1. 2. 2. 1. 1. 0. 2. 0. 1. 0. 2. 0. 0. 1. 1. 2. 0. 1. 2. 2.\n 1. 1. 0. 1. 2. 1. 0. 1. 0. 1. 2. 1. 2. 1. 0. 2. 2. 0. 1. 2. 0. 2. 1. 2.\n 1. 0. 2. 1. 2. 0. 2. 1. 2. 1. 2. 1. 1. 2. 1. 1. 2. 1. 1. 0. 2. 0. 1. 0.\n 1. 1. 1. 1. 0. 2. 2. 1. 1. 1. 0. 0. 2. 2. 0. 0. 0. 2. 0. 0. 2. 2. 1. 0.\n 0. 0. 2. 1. 0. 0. 2. 1. 2. 0. 0. 2. 1. 1. 1. 2. 2. 1. 2. 1. 1. 2. 2. 2.].\nReshape your data either using array.reshape(-1, 1) if your data has a single feature or array.reshape(1, -1) if it contains a single sample."
          ]
        }
      ]
    },
    {
      "metadata": {
        "id": "rv3V1fvLvmmP",
        "colab_type": "code",
        "colab": {
          "base_uri": "https://localhost:8080/",
          "height": 233
        },
        "outputId": "8c94740f-7a29-4a11-f16b-519fab1262ab"
      },
      "cell_type": "code",
      "source": [
        "x"
      ],
      "execution_count": 143,
      "outputs": [
        {
          "output_type": "execute_result",
          "data": {
            "text/plain": [
              "array([1.4, 1.4, 1.3, 1.5, 1.4, 1.7, 1.4, 1.5, 1.4, 1.5, 1.5, 1.6, 1.4,\n",
              "       1.1, 1.2, 1.5, 1.3, 1.4, 1.7, 1.5, 1.7, 1.5, 1. , 1.7, 1.9, 1.6,\n",
              "       1.6, 1.5, 1.4, 1.6, 1.6, 1.5, 1.5, 1.4, 1.5, 1.2, 1.3, 1.5, 1.3,\n",
              "       1.5, 1.3, 1.3, 1.3, 1.6, 1.9, 1.4, 1.6, 1.4, 1.5, 1.4, 4.7, 4.5,\n",
              "       4.9, 4. , 4.6, 4.5, 4.7, 3.3, 4.6, 3.9, 3.5, 4.2, 4. , 4.7, 3.6,\n",
              "       4.4, 4.5, 4.1, 4.5, 3.9, 4.8, 4. , 4.9, 4.7, 4.3, 4.4, 4.8, 5. ,\n",
              "       4.5, 3.5, 3.8, 3.7, 3.9, 5.1, 4.5, 4.5, 4.7, 4.4, 4.1, 4. , 4.4,\n",
              "       4.6, 4. , 3.3, 4.2, 4.2, 4.2, 4.3, 3. , 4.1, 6. , 5.1, 5.9, 5.6,\n",
              "       5.8, 6.6, 4.5, 6.3, 5.8, 6.1, 5.1, 5.3, 5.5, 5. , 5.1, 5.3, 5.5,\n",
              "       6.7, 6.9, 5. , 5.7, 4.9, 6.7, 4.9, 5.7, 6. , 4.8, 4.9, 5.6, 5.8,\n",
              "       6.1, 6.4, 5.6, 5.1, 5.6, 6.1, 5.6, 5.5, 4.8, 5.4, 5.6, 5.1, 5.1,\n",
              "       5.9, 5.7, 5.2, 5. , 5.2, 5.4, 5.1])"
            ]
          },
          "metadata": {
            "tags": []
          },
          "execution_count": 143
        }
      ]
    },
    {
      "metadata": {
        "id": "UFKLUtZUvwv2",
        "colab_type": "code",
        "colab": {
          "base_uri": "https://localhost:8080/",
          "height": 143
        },
        "outputId": "b5ddfa33-2333-4737-ae8e-9aac28e8068d"
      },
      "cell_type": "code",
      "source": [
        "y"
      ],
      "execution_count": 144,
      "outputs": [
        {
          "output_type": "execute_result",
          "data": {
            "text/plain": [
              "array([0, 0, 0, 0, 0, 0, 0, 0, 0, 0, 0, 0, 0, 0, 0, 0, 0, 0, 0, 0, 0, 0,\n",
              "       0, 0, 0, 0, 0, 0, 0, 0, 0, 0, 0, 0, 0, 0, 0, 0, 0, 0, 0, 0, 0, 0,\n",
              "       0, 0, 0, 0, 0, 0, 1, 1, 1, 1, 1, 1, 1, 1, 1, 1, 1, 1, 1, 1, 1, 1,\n",
              "       1, 1, 1, 1, 1, 1, 1, 1, 1, 1, 1, 1, 1, 1, 1, 1, 1, 1, 1, 1, 1, 1,\n",
              "       1, 1, 1, 1, 1, 1, 1, 1, 1, 1, 1, 1, 2, 2, 2, 2, 2, 2, 2, 2, 2, 2,\n",
              "       2, 2, 2, 2, 2, 2, 2, 2, 2, 2, 2, 2, 2, 2, 2, 2, 2, 2, 2, 2, 2, 2,\n",
              "       2, 2, 2, 2, 2, 2, 2, 2, 2, 2, 2, 2, 2, 2, 2, 2, 2, 2])"
            ]
          },
          "metadata": {
            "tags": []
          },
          "execution_count": 144
        }
      ]
    },
    {
      "metadata": {
        "id": "43KIDYbUvzyk",
        "colab_type": "code",
        "colab": {}
      },
      "cell_type": "code",
      "source": [
        "yy=y.reshape(-1,1)"
      ],
      "execution_count": 0,
      "outputs": []
    },
    {
      "metadata": {
        "id": "RijyeyqCxGMv",
        "colab_type": "text"
      },
      "cell_type": "markdown",
      "source": [
        ""
      ]
    },
    {
      "metadata": {
        "id": "63WnBXDXwASu",
        "colab_type": "code",
        "colab": {}
      },
      "cell_type": "code",
      "source": [
        "from sklearn.neighbors import KNeighborsClassifier\n"
      ],
      "execution_count": 0,
      "outputs": []
    },
    {
      "metadata": {
        "id": "H9gTHyOUxNJh",
        "colab_type": "code",
        "colab": {}
      },
      "cell_type": "code",
      "source": [
        "xx=x.reshape(-1,1)"
      ],
      "execution_count": 0,
      "outputs": []
    },
    {
      "metadata": {
        "id": "FOkjVO5OwRvx",
        "colab_type": "code",
        "colab": {
          "base_uri": "https://localhost:8080/",
          "height": 71
        },
        "outputId": "b6acb677-9c5b-4b41-a444-022a57b96aaa"
      },
      "cell_type": "code",
      "source": [
        "knn = KNeighborsClassifier(n_neighbors=1)\n",
        "knn"
      ],
      "execution_count": 153,
      "outputs": [
        {
          "output_type": "execute_result",
          "data": {
            "text/plain": [
              "KNeighborsClassifier(algorithm='auto', leaf_size=30, metric='minkowski',\n",
              "           metric_params=None, n_jobs=1, n_neighbors=1, p=2,\n",
              "           weights='uniform')"
            ]
          },
          "metadata": {
            "tags": []
          },
          "execution_count": 153
        }
      ]
    },
    {
      "metadata": {
        "id": "4XH7lzTQwol4",
        "colab_type": "code",
        "colab": {
          "base_uri": "https://localhost:8080/",
          "height": 127
        },
        "outputId": "19988643-f7e7-4dce-9a17-015ad117f46b"
      },
      "cell_type": "code",
      "source": [
        "knn.fit(xx,yy)"
      ],
      "execution_count": 157,
      "outputs": [
        {
          "output_type": "stream",
          "text": [
            "/usr/local/lib/python3.6/dist-packages/ipykernel_launcher.py:1: DataConversionWarning: A column-vector y was passed when a 1d array was expected. Please change the shape of y to (n_samples, ), for example using ravel().\n",
            "  \"\"\"Entry point for launching an IPython kernel.\n"
          ],
          "name": "stderr"
        },
        {
          "output_type": "execute_result",
          "data": {
            "text/plain": [
              "KNeighborsClassifier(algorithm='auto', leaf_size=30, metric='minkowski',\n",
              "           metric_params=None, n_jobs=1, n_neighbors=1, p=2,\n",
              "           weights='uniform')"
            ]
          },
          "metadata": {
            "tags": []
          },
          "execution_count": 157
        }
      ]
    },
    {
      "metadata": {
        "id": "2EZn9NxGyste",
        "colab_type": "code",
        "colab": {}
      },
      "cell_type": "code",
      "source": [
        "import numpy as np"
      ],
      "execution_count": 0,
      "outputs": []
    },
    {
      "metadata": {
        "id": "p-aPhkWGyhCj",
        "colab_type": "code",
        "colab": {
          "base_uri": "https://localhost:8080/",
          "height": 35
        },
        "outputId": "af93f604-4e96-4390-a6be-7e2bb3f857b3"
      },
      "cell_type": "code",
      "source": [
        "knn.predict(np.array([1,2,3,4]).reshape(-1,1))"
      ],
      "execution_count": 159,
      "outputs": [
        {
          "output_type": "execute_result",
          "data": {
            "text/plain": [
              "array([0, 0, 1, 1])"
            ]
          },
          "metadata": {
            "tags": []
          },
          "execution_count": 159
        }
      ]
    },
    {
      "metadata": {
        "id": "2KTtFCuE3ctO",
        "colab_type": "code",
        "colab": {}
      },
      "cell_type": "code",
      "source": [
        "import pandas as pd\n",
        "from sklearn.cluster import KMeans\n"
      ],
      "execution_count": 0,
      "outputs": []
    },
    {
      "metadata": {
        "id": "yV2zyUR_38wj",
        "colab_type": "code",
        "colab": {}
      },
      "cell_type": "code",
      "source": [
        "df=pd.DataFrame({\n",
        "    'x': [1,2,3,4,5,6,7,8,9,10],\n",
        "    'y': [1,2,3,4,5,16,17,18,19,20]\n",
        "})"
      ],
      "execution_count": 0,
      "outputs": []
    },
    {
      "metadata": {
        "id": "V8Bmqtab4pv3",
        "colab_type": "code",
        "colab": {}
      },
      "cell_type": "code",
      "source": [
        "kmeans=KMeans(n_clusters=3)"
      ],
      "execution_count": 0,
      "outputs": []
    },
    {
      "metadata": {
        "id": "7TL82ysY4zlH",
        "colab_type": "code",
        "colab": {
          "base_uri": "https://localhost:8080/",
          "height": 71
        },
        "outputId": "f2256e14-4c45-4e04-8d6a-7faa554e2f33"
      },
      "cell_type": "code",
      "source": [
        "kmeans.fit(df)"
      ],
      "execution_count": 169,
      "outputs": [
        {
          "output_type": "execute_result",
          "data": {
            "text/plain": [
              "KMeans(algorithm='auto', copy_x=True, init='k-means++', max_iter=300,\n",
              "    n_clusters=3, n_init=10, n_jobs=1, precompute_distances='auto',\n",
              "    random_state=None, tol=0.0001, verbose=0)"
            ]
          },
          "metadata": {
            "tags": []
          },
          "execution_count": 169
        }
      ]
    },
    {
      "metadata": {
        "id": "6QJrguOG47Y-",
        "colab_type": "code",
        "colab": {}
      },
      "cell_type": "code",
      "source": [
        "labels=kmeans.predict(df)\n",
        "centroids=kmeans.cluster_centers_"
      ],
      "execution_count": 0,
      "outputs": []
    },
    {
      "metadata": {
        "id": "HCQ2V9y45SNw",
        "colab_type": "code",
        "colab": {
          "base_uri": "https://localhost:8080/",
          "height": 313
        },
        "outputId": "1ff93240-859e-4988-8127-cb5d5a58bf23"
      },
      "cell_type": "code",
      "source": [
        "fig = plt.figure(figsize=(5,5))\n",
        "colors=map(lambda x: colmap[x+1],labels)\n",
        "colors1=list(colors)"
      ],
      "execution_count": 172,
      "outputs": [
        {
          "output_type": "error",
          "ename": "NameError",
          "evalue": "ignored",
          "traceback": [
            "\u001b[0;31m---------------------------------------------------------------------------\u001b[0m",
            "\u001b[0;31mNameError\u001b[0m                                 Traceback (most recent call last)",
            "\u001b[0;32m<ipython-input-172-b5a1f97eaf4c>\u001b[0m in \u001b[0;36m<module>\u001b[0;34m()\u001b[0m\n\u001b[1;32m      1\u001b[0m \u001b[0mfig\u001b[0m \u001b[0;34m=\u001b[0m \u001b[0mplt\u001b[0m\u001b[0;34m.\u001b[0m\u001b[0mfigure\u001b[0m\u001b[0;34m(\u001b[0m\u001b[0mfigsize\u001b[0m\u001b[0;34m=\u001b[0m\u001b[0;34m(\u001b[0m\u001b[0;36m5\u001b[0m\u001b[0;34m,\u001b[0m\u001b[0;36m5\u001b[0m\u001b[0;34m)\u001b[0m\u001b[0;34m)\u001b[0m\u001b[0;34m\u001b[0m\u001b[0m\n\u001b[1;32m      2\u001b[0m \u001b[0mcolors\u001b[0m\u001b[0;34m=\u001b[0m\u001b[0mmap\u001b[0m\u001b[0;34m(\u001b[0m\u001b[0;32mlambda\u001b[0m \u001b[0mx\u001b[0m\u001b[0;34m:\u001b[0m \u001b[0mcolmap\u001b[0m\u001b[0;34m[\u001b[0m\u001b[0mx\u001b[0m\u001b[0;34m+\u001b[0m\u001b[0;36m1\u001b[0m\u001b[0;34m]\u001b[0m\u001b[0;34m,\u001b[0m\u001b[0mlabels\u001b[0m\u001b[0;34m)\u001b[0m\u001b[0;34m\u001b[0m\u001b[0m\n\u001b[0;32m----> 3\u001b[0;31m \u001b[0mcolors1\u001b[0m\u001b[0;34m=\u001b[0m\u001b[0mlist\u001b[0m\u001b[0;34m(\u001b[0m\u001b[0mcolors\u001b[0m\u001b[0;34m)\u001b[0m\u001b[0;34m\u001b[0m\u001b[0m\n\u001b[0m",
            "\u001b[0;32m<ipython-input-172-b5a1f97eaf4c>\u001b[0m in \u001b[0;36m<lambda>\u001b[0;34m(x)\u001b[0m\n\u001b[1;32m      1\u001b[0m \u001b[0mfig\u001b[0m \u001b[0;34m=\u001b[0m \u001b[0mplt\u001b[0m\u001b[0;34m.\u001b[0m\u001b[0mfigure\u001b[0m\u001b[0;34m(\u001b[0m\u001b[0mfigsize\u001b[0m\u001b[0;34m=\u001b[0m\u001b[0;34m(\u001b[0m\u001b[0;36m5\u001b[0m\u001b[0;34m,\u001b[0m\u001b[0;36m5\u001b[0m\u001b[0;34m)\u001b[0m\u001b[0;34m)\u001b[0m\u001b[0;34m\u001b[0m\u001b[0m\n\u001b[0;32m----> 2\u001b[0;31m \u001b[0mcolors\u001b[0m\u001b[0;34m=\u001b[0m\u001b[0mmap\u001b[0m\u001b[0;34m(\u001b[0m\u001b[0;32mlambda\u001b[0m \u001b[0mx\u001b[0m\u001b[0;34m:\u001b[0m \u001b[0mcolmap\u001b[0m\u001b[0;34m[\u001b[0m\u001b[0mx\u001b[0m\u001b[0;34m+\u001b[0m\u001b[0;36m1\u001b[0m\u001b[0;34m]\u001b[0m\u001b[0;34m,\u001b[0m\u001b[0mlabels\u001b[0m\u001b[0;34m)\u001b[0m\u001b[0;34m\u001b[0m\u001b[0m\n\u001b[0m\u001b[1;32m      3\u001b[0m \u001b[0mcolors1\u001b[0m\u001b[0;34m=\u001b[0m\u001b[0mlist\u001b[0m\u001b[0;34m(\u001b[0m\u001b[0mcolors\u001b[0m\u001b[0;34m)\u001b[0m\u001b[0;34m\u001b[0m\u001b[0m\n",
            "\u001b[0;31mNameError\u001b[0m: name 'colmap' is not defined"
          ]
        },
        {
          "output_type": "display_data",
          "data": {
            "text/plain": [
              "<matplotlib.figure.Figure at 0x7f0150f4e048>"
            ]
          },
          "metadata": {
            "tags": []
          }
        }
      ]
    },
    {
      "metadata": {
        "id": "il5Erd45Db-Q",
        "colab_type": "code",
        "colab": {}
      },
      "cell_type": "code",
      "source": [
        "import logging\n",
        "logging.basicConfig(format='%(asctime)s : %(levelname)s : %(message)s', level=logging.INFO)"
      ],
      "execution_count": 0,
      "outputs": []
    },
    {
      "metadata": {
        "id": "OgJg9BgZDtUM",
        "colab_type": "code",
        "colab": {
          "base_uri": "https://localhost:8080/",
          "height": 35
        },
        "outputId": "2fdb4652-a109-429b-95f3-043b9eba0c90"
      },
      "cell_type": "code",
      "source": [
        "import os\n",
        "import tempfile\n",
        "TEMP_FOLDER = tempfile.gettempdir()\n",
        "print('Folder \"{}\" will be used to save temporary dictionary and corpus.'.format(TEMP_FOLDER))\n"
      ],
      "execution_count": 174,
      "outputs": [
        {
          "output_type": "stream",
          "text": [
            "Folder \"/tmp\" will be used to save temporary dictionary and corpus.\n"
          ],
          "name": "stdout"
        }
      ]
    },
    {
      "metadata": {
        "id": "27uqjmuDEF_a",
        "colab_type": "code",
        "colab": {
          "base_uri": "https://localhost:8080/",
          "height": 775
        },
        "outputId": "6e94b410-696d-4d83-f941-21090aa1bb49"
      },
      "cell_type": "code",
      "source": [
        "!pip install gensim"
      ],
      "execution_count": 176,
      "outputs": [
        {
          "output_type": "stream",
          "text": [
            "Collecting gensim\n",
            "\u001b[?25l  Downloading https://files.pythonhosted.org/packages/27/a4/d10c0acc8528d838cda5eede0ee9c784caa598dbf40bd0911ff8d067a7eb/gensim-3.6.0-cp36-cp36m-manylinux1_x86_64.whl (23.6MB)\n",
            "\u001b[K    100% |████████████████████████████████| 23.6MB 1.4MB/s \n",
            "\u001b[?25hRequirement already satisfied: numpy>=1.11.3 in /usr/local/lib/python3.6/dist-packages (from gensim) (1.14.6)\n",
            "Collecting smart-open>=1.2.1 (from gensim)\n",
            "  Downloading https://files.pythonhosted.org/packages/4b/1f/6f27e3682124de63ac97a0a5876da6186de6c19410feab66c1543afab055/smart_open-1.7.1.tar.gz\n",
            "Requirement already satisfied: scipy>=0.18.1 in /usr/local/lib/python3.6/dist-packages (from gensim) (1.1.0)\n",
            "Requirement already satisfied: six>=1.5.0 in /usr/local/lib/python3.6/dist-packages (from gensim) (1.11.0)\n",
            "Collecting boto>=2.32 (from smart-open>=1.2.1->gensim)\n",
            "\u001b[?25l  Downloading https://files.pythonhosted.org/packages/23/10/c0b78c27298029e4454a472a1919bde20cb182dab1662cec7f2ca1dcc523/boto-2.49.0-py2.py3-none-any.whl (1.4MB)\n",
            "\u001b[K    100% |████████████████████████████████| 1.4MB 13.4MB/s \n",
            "\u001b[?25hCollecting bz2file (from smart-open>=1.2.1->gensim)\n",
            "  Downloading https://files.pythonhosted.org/packages/61/39/122222b5e85cd41c391b68a99ee296584b2a2d1d233e7ee32b4532384f2d/bz2file-0.98.tar.gz\n",
            "Requirement already satisfied: requests in /usr/local/lib/python3.6/dist-packages (from smart-open>=1.2.1->gensim) (2.18.4)\n",
            "Collecting boto3 (from smart-open>=1.2.1->gensim)\n",
            "\u001b[?25l  Downloading https://files.pythonhosted.org/packages/da/d9/5c892a943fede7db0c0d3bd653570208ffb3c163bc57c1a9354acd65c921/boto3-1.9.42-py2.py3-none-any.whl (128kB)\n",
            "\u001b[K    100% |████████████████████████████████| 133kB 28.8MB/s \n",
            "\u001b[?25hRequirement already satisfied: idna<2.7,>=2.5 in /usr/local/lib/python3.6/dist-packages (from requests->smart-open>=1.2.1->gensim) (2.6)\n",
            "Requirement already satisfied: certifi>=2017.4.17 in /usr/local/lib/python3.6/dist-packages (from requests->smart-open>=1.2.1->gensim) (2018.10.15)\n",
            "Requirement already satisfied: urllib3<1.23,>=1.21.1 in /usr/local/lib/python3.6/dist-packages (from requests->smart-open>=1.2.1->gensim) (1.22)\n",
            "Requirement already satisfied: chardet<3.1.0,>=3.0.2 in /usr/local/lib/python3.6/dist-packages (from requests->smart-open>=1.2.1->gensim) (3.0.4)\n",
            "Collecting botocore<1.13.0,>=1.12.42 (from boto3->smart-open>=1.2.1->gensim)\n",
            "\u001b[?25l  Downloading https://files.pythonhosted.org/packages/6f/ad/706263fda4a8c673fd58c1cf03160dfdcf093d6614130193d3ce12a81fad/botocore-1.12.42-py2.py3-none-any.whl (4.8MB)\n",
            "\u001b[K    100% |████████████████████████████████| 4.8MB 6.6MB/s \n",
            "\u001b[?25hCollecting s3transfer<0.2.0,>=0.1.10 (from boto3->smart-open>=1.2.1->gensim)\n",
            "\u001b[?25l  Downloading https://files.pythonhosted.org/packages/d7/14/2a0004d487464d120c9fb85313a75cd3d71a7506955be458eebfe19a6b1d/s3transfer-0.1.13-py2.py3-none-any.whl (59kB)\n",
            "\u001b[K    100% |████████████████████████████████| 61kB 23.4MB/s \n",
            "\u001b[?25hCollecting jmespath<1.0.0,>=0.7.1 (from boto3->smart-open>=1.2.1->gensim)\n",
            "  Downloading https://files.pythonhosted.org/packages/b7/31/05c8d001f7f87f0f07289a5fc0fc3832e9a57f2dbd4d3b0fee70e0d51365/jmespath-0.9.3-py2.py3-none-any.whl\n",
            "Collecting docutils>=0.10 (from botocore<1.13.0,>=1.12.42->boto3->smart-open>=1.2.1->gensim)\n",
            "\u001b[?25l  Downloading https://files.pythonhosted.org/packages/36/fa/08e9e6e0e3cbd1d362c3bbee8d01d0aedb2155c4ac112b19ef3cae8eed8d/docutils-0.14-py3-none-any.whl (543kB)\n",
            "\u001b[K    100% |████████████████████████████████| 552kB 25.9MB/s \n",
            "\u001b[?25hRequirement already satisfied: python-dateutil<3.0.0,>=2.1; python_version >= \"2.7\" in /usr/local/lib/python3.6/dist-packages (from botocore<1.13.0,>=1.12.42->boto3->smart-open>=1.2.1->gensim) (2.5.3)\n",
            "Building wheels for collected packages: smart-open, bz2file\n",
            "  Running setup.py bdist_wheel for smart-open ... \u001b[?25l-\b \bdone\n",
            "\u001b[?25h  Stored in directory: /root/.cache/pip/wheels/23/00/44/e5b939f7a80c04e32297dbd6d96fa3065af89ecf57e2b5f89f\n",
            "  Running setup.py bdist_wheel for bz2file ... \u001b[?25l-\b \b\\\b \bdone\n",
            "\u001b[?25h  Stored in directory: /root/.cache/pip/wheels/81/75/d6/e1317bf09bf1af5a30befc2a007869fa6e1f516b8f7c591cb9\n",
            "Successfully built smart-open bz2file\n",
            "Installing collected packages: boto, bz2file, docutils, jmespath, botocore, s3transfer, boto3, smart-open, gensim\n",
            "Successfully installed boto-2.49.0 boto3-1.9.42 botocore-1.12.42 bz2file-0.98 docutils-0.14 gensim-3.6.0 jmespath-0.9.3 s3transfer-0.1.13 smart-open-1.7.1\n"
          ],
          "name": "stdout"
        }
      ]
    },
    {
      "metadata": {
        "id": "2EOGMaPIEbhK",
        "colab_type": "code",
        "colab": {
          "base_uri": "https://localhost:8080/",
          "height": 361
        },
        "outputId": "c91dc6fe-d3c0-4177-a9ce-2e9bf203cc68"
      },
      "cell_type": "code",
      "source": [
        "!pip install --upgrade gensim"
      ],
      "execution_count": 179,
      "outputs": [
        {
          "output_type": "stream",
          "text": [
            "Requirement already up-to-date: gensim in /usr/local/lib/python3.6/dist-packages (3.6.0)\n",
            "Requirement already satisfied, skipping upgrade: numpy>=1.11.3 in /usr/local/lib/python3.6/dist-packages (from gensim) (1.14.6)\n",
            "Requirement already satisfied, skipping upgrade: smart-open>=1.2.1 in /usr/local/lib/python3.6/dist-packages (from gensim) (1.7.1)\n",
            "Requirement already satisfied, skipping upgrade: scipy>=0.18.1 in /usr/local/lib/python3.6/dist-packages (from gensim) (1.1.0)\n",
            "Requirement already satisfied, skipping upgrade: six>=1.5.0 in /usr/local/lib/python3.6/dist-packages (from gensim) (1.11.0)\n",
            "Requirement already satisfied, skipping upgrade: boto>=2.32 in /usr/local/lib/python3.6/dist-packages (from smart-open>=1.2.1->gensim) (2.49.0)\n",
            "Requirement already satisfied, skipping upgrade: bz2file in /usr/local/lib/python3.6/dist-packages (from smart-open>=1.2.1->gensim) (0.98)\n",
            "Requirement already satisfied, skipping upgrade: boto3 in /usr/local/lib/python3.6/dist-packages (from smart-open>=1.2.1->gensim) (1.9.42)\n",
            "Requirement already satisfied, skipping upgrade: requests in /usr/local/lib/python3.6/dist-packages (from smart-open>=1.2.1->gensim) (2.18.4)\n",
            "Requirement already satisfied, skipping upgrade: s3transfer<0.2.0,>=0.1.10 in /usr/local/lib/python3.6/dist-packages (from boto3->smart-open>=1.2.1->gensim) (0.1.13)\n",
            "Requirement already satisfied, skipping upgrade: jmespath<1.0.0,>=0.7.1 in /usr/local/lib/python3.6/dist-packages (from boto3->smart-open>=1.2.1->gensim) (0.9.3)\n",
            "Requirement already satisfied, skipping upgrade: botocore<1.13.0,>=1.12.42 in /usr/local/lib/python3.6/dist-packages (from boto3->smart-open>=1.2.1->gensim) (1.12.42)\n",
            "Requirement already satisfied, skipping upgrade: idna<2.7,>=2.5 in /usr/local/lib/python3.6/dist-packages (from requests->smart-open>=1.2.1->gensim) (2.6)\n",
            "Requirement already satisfied, skipping upgrade: urllib3<1.23,>=1.21.1 in /usr/local/lib/python3.6/dist-packages (from requests->smart-open>=1.2.1->gensim) (1.22)\n",
            "Requirement already satisfied, skipping upgrade: certifi>=2017.4.17 in /usr/local/lib/python3.6/dist-packages (from requests->smart-open>=1.2.1->gensim) (2018.10.15)\n",
            "Requirement already satisfied, skipping upgrade: chardet<3.1.0,>=3.0.2 in /usr/local/lib/python3.6/dist-packages (from requests->smart-open>=1.2.1->gensim) (3.0.4)\n",
            "Requirement already satisfied, skipping upgrade: docutils>=0.10 in /usr/local/lib/python3.6/dist-packages (from botocore<1.13.0,>=1.12.42->boto3->smart-open>=1.2.1->gensim) (0.14)\n",
            "Requirement already satisfied, skipping upgrade: python-dateutil<3.0.0,>=2.1; python_version >= \"2.7\" in /usr/local/lib/python3.6/dist-packages (from botocore<1.13.0,>=1.12.42->boto3->smart-open>=1.2.1->gensim) (2.5.3)\n"
          ],
          "name": "stdout"
        }
      ]
    },
    {
      "metadata": {
        "id": "R7ne1AfqEA1x",
        "colab_type": "code",
        "colab": {}
      },
      "cell_type": "code",
      "source": [
        "from gensim import corpora"
      ],
      "execution_count": 0,
      "outputs": []
    },
    {
      "metadata": {
        "id": "Q_Eq7GjeEnTE",
        "colab_type": "code",
        "colab": {}
      },
      "cell_type": "code",
      "source": [
        "documents = [\"Human machine interface for lab abc computer applications\",\n",
        "             \"A survey of user opinion of computer system response time\",\n",
        "             \"The EPS user interface management system\",\n",
        "             \"System and human system engineering testing of EPS\",              \n",
        "             \"Relation of user perceived response time to error measurement\",\n",
        "             \"The generation of random binary unordered trees\",\n",
        "             \"The intersection graph of paths in trees\",\n",
        "             \"Graph minors IV Widths of trees and well quasi ordering\",\n",
        "             \"Graph minors A survey\"]"
      ],
      "execution_count": 0,
      "outputs": []
    },
    {
      "metadata": {
        "id": "OVpKk5_sEqxp",
        "colab_type": "code",
        "colab": {
          "base_uri": "https://localhost:8080/",
          "height": 179
        },
        "outputId": "a24de144-ca0d-4f81-f445-6352d7140948"
      },
      "cell_type": "code",
      "source": [
        "stoplist = set('for a of the and to in'.split())\n",
        "texts = [[word for word in document.lower().split() if word not in stoplist]\n",
        "         for document in documents]\n",
        "# remove words that appear only once\n",
        "from collections import defaultdict\n",
        "frequency = defaultdict(int)\n",
        "for text in texts:\n",
        "    for token in text:\n",
        "        frequency[token] += 1\n",
        "        \n",
        "texts = [[token for token in text if frequency[token] > 1] for text in texts]\n",
        "\n",
        "from pprint import pprint  # pretty-printer\n",
        "pprint(texts)"
      ],
      "execution_count": 189,
      "outputs": [
        {
          "output_type": "stream",
          "text": [
            "[['human', 'interface', 'computer'],\n",
            " ['survey', 'user', 'computer', 'system', 'response', 'time'],\n",
            " ['eps', 'user', 'interface', 'system'],\n",
            " ['system', 'human', 'system', 'eps'],\n",
            " ['user', 'response', 'time'],\n",
            " ['trees'],\n",
            " ['graph', 'trees'],\n",
            " ['graph', 'minors', 'trees'],\n",
            " ['graph', 'minors', 'survey']]\n"
          ],
          "name": "stdout"
        }
      ]
    },
    {
      "metadata": {
        "id": "g_yPTFNdKY1B",
        "colab_type": "code",
        "colab": {
          "base_uri": "https://localhost:8080/",
          "height": 127
        },
        "outputId": "a73fa806-80a9-4c46-b08c-6a70e83a59e7"
      },
      "cell_type": "code",
      "source": [
        "dictionary = corpora.Dictionary(texts)\n",
        "dictionary.save(os.path.join(TEMP_FOLDER, 'deerwester.dict'))  # store the dictionary, for future reference\n",
        "print(dictionary)"
      ],
      "execution_count": 190,
      "outputs": [
        {
          "output_type": "stream",
          "text": [
            "2018-11-11 19:05:17,423 : INFO : adding document #0 to Dictionary(0 unique tokens: [])\n",
            "2018-11-11 19:05:17,425 : INFO : built Dictionary(12 unique tokens: ['computer', 'human', 'interface', 'response', 'survey']...) from 9 documents (total 29 corpus positions)\n",
            "2018-11-11 19:05:17,427 : INFO : saving Dictionary object under /tmp/deerwester.dict, separately None\n",
            "2018-11-11 19:05:17,430 : INFO : saved /tmp/deerwester.dict\n"
          ],
          "name": "stderr"
        },
        {
          "output_type": "stream",
          "text": [
            "Dictionary(12 unique tokens: ['computer', 'human', 'interface', 'response', 'survey']...)\n"
          ],
          "name": "stdout"
        }
      ]
    },
    {
      "metadata": {
        "id": "11UxhzrYK702",
        "colab_type": "code",
        "colab": {
          "base_uri": "https://localhost:8080/",
          "height": 55
        },
        "outputId": "063562d0-348c-4b81-8baa-25d1e3ff8d58"
      },
      "cell_type": "code",
      "source": [
        "\n",
        "print(dictionary.token2id)"
      ],
      "execution_count": 191,
      "outputs": [
        {
          "output_type": "stream",
          "text": [
            "{'computer': 0, 'human': 1, 'interface': 2, 'response': 3, 'survey': 4, 'system': 5, 'time': 6, 'user': 7, 'eps': 8, 'trees': 9, 'graph': 10, 'minors': 11}\n"
          ],
          "name": "stdout"
        }
      ]
    },
    {
      "metadata": {
        "id": "BhFo2uBRLPe7",
        "colab_type": "code",
        "colab": {
          "base_uri": "https://localhost:8080/",
          "height": 35
        },
        "outputId": "d5968589-e7d7-44d0-9932-b224943eee60"
      },
      "cell_type": "code",
      "source": [
        "\n",
        "new_doc = \"Human computer interaction\"\n",
        "new_vec = dictionary.doc2bow(new_doc.lower().split())\n",
        "print(new_vec)\n"
      ],
      "execution_count": 192,
      "outputs": [
        {
          "output_type": "stream",
          "text": [
            "[(0, 1), (1, 1)]\n"
          ],
          "name": "stdout"
        }
      ]
    },
    {
      "metadata": {
        "id": "no0j5INELnq_",
        "colab_type": "code",
        "colab": {
          "base_uri": "https://localhost:8080/",
          "height": 289
        },
        "outputId": "c1f30520-f524-45e0-d350-802aa4868ee6"
      },
      "cell_type": "code",
      "source": [
        "corpus = [dictionary.doc2bow(text) for text in texts]\n",
        "corpora.MmCorpus.serialize(os.path.join(TEMP_FOLDER, 'deerwester.mm'), corpus)  # store to disk, for later use\n",
        "for c in corpus:\n",
        "    print(c)"
      ],
      "execution_count": 193,
      "outputs": [
        {
          "output_type": "stream",
          "text": [
            "2018-11-11 19:15:54,934 : INFO : storing corpus in Matrix Market format to /tmp/deerwester.mm\n",
            "2018-11-11 19:15:54,937 : INFO : saving sparse matrix to /tmp/deerwester.mm\n",
            "2018-11-11 19:15:54,938 : INFO : PROGRESS: saving document #0\n",
            "2018-11-11 19:15:54,939 : INFO : saved 9x12 matrix, density=25.926% (28/108)\n",
            "2018-11-11 19:15:54,940 : INFO : saving MmCorpus index to /tmp/deerwester.mm.index\n"
          ],
          "name": "stderr"
        },
        {
          "output_type": "stream",
          "text": [
            "[(0, 1), (1, 1), (2, 1)]\n",
            "[(0, 1), (3, 1), (4, 1), (5, 1), (6, 1), (7, 1)]\n",
            "[(2, 1), (5, 1), (7, 1), (8, 1)]\n",
            "[(1, 1), (5, 2), (8, 1)]\n",
            "[(3, 1), (6, 1), (7, 1)]\n",
            "[(9, 1)]\n",
            "[(9, 1), (10, 1)]\n",
            "[(9, 1), (10, 1), (11, 1)]\n",
            "[(4, 1), (10, 1), (11, 1)]\n"
          ],
          "name": "stdout"
        }
      ]
    },
    {
      "metadata": {
        "id": "EIQVbVaZN61t",
        "colab_type": "code",
        "colab": {}
      },
      "cell_type": "code",
      "source": [
        "from smart_open import smart_open\n",
        "class MyCorpus(object):\n",
        "    def __iter__(self):\n",
        "        for line in smart_open('datasets/mycorpus.txt', 'rb'):\n",
        "            # assume there's one document per line, tokens separated by whitespace\n",
        "            yield dictionary.doc2bow(line.lower().split())"
      ],
      "execution_count": 0,
      "outputs": []
    },
    {
      "metadata": {
        "id": "AqTB8Wu3ObG0",
        "colab_type": "code",
        "colab": {
          "base_uri": "https://localhost:8080/",
          "height": 35
        },
        "outputId": "f4314602-b0d7-4693-fc05-c7890a8e6f6a"
      },
      "cell_type": "code",
      "source": [
        "corpus_memory_friendly = MyCorpus()\n",
        "print(corpus_memory_friendly)"
      ],
      "execution_count": 205,
      "outputs": [
        {
          "output_type": "stream",
          "text": [
            "<__main__.MyCorpus object at 0x7f014d2bec50>\n"
          ],
          "name": "stdout"
        }
      ]
    },
    {
      "metadata": {
        "id": "xV2Ek5qKOkR4",
        "colab_type": "code",
        "colab": {
          "base_uri": "https://localhost:8080/",
          "height": 585
        },
        "outputId": "d9b86134-b5b5-452b-9a50-a5d0d539b8c3"
      },
      "cell_type": "code",
      "source": [
        "for vector in corpus_memory_friendly:  # load one vector into memory at a time\n",
        "    print(vector)"
      ],
      "execution_count": 206,
      "outputs": [
        {
          "output_type": "error",
          "ename": "FileNotFoundError",
          "evalue": "ignored",
          "traceback": [
            "\u001b[0;31m---------------------------------------------------------------------------\u001b[0m",
            "\u001b[0;31mFileNotFoundError\u001b[0m                         Traceback (most recent call last)",
            "\u001b[0;32m<ipython-input-206-c4d5e3c574a1>\u001b[0m in \u001b[0;36m<module>\u001b[0;34m()\u001b[0m\n\u001b[0;32m----> 1\u001b[0;31m \u001b[0;32mfor\u001b[0m \u001b[0mvector\u001b[0m \u001b[0;32min\u001b[0m \u001b[0mcorpus_memory_friendly\u001b[0m\u001b[0;34m:\u001b[0m  \u001b[0;31m# load one vector into memory at a time\u001b[0m\u001b[0;34m\u001b[0m\u001b[0m\n\u001b[0m\u001b[1;32m      2\u001b[0m     \u001b[0mprint\u001b[0m\u001b[0;34m(\u001b[0m\u001b[0mvector\u001b[0m\u001b[0;34m)\u001b[0m\u001b[0;34m\u001b[0m\u001b[0m\n",
            "\u001b[0;32m<ipython-input-204-444a08be26c8>\u001b[0m in \u001b[0;36m__iter__\u001b[0;34m(self)\u001b[0m\n\u001b[1;32m      2\u001b[0m \u001b[0;32mclass\u001b[0m \u001b[0mMyCorpus\u001b[0m\u001b[0;34m(\u001b[0m\u001b[0mobject\u001b[0m\u001b[0;34m)\u001b[0m\u001b[0;34m:\u001b[0m\u001b[0;34m\u001b[0m\u001b[0m\n\u001b[1;32m      3\u001b[0m     \u001b[0;32mdef\u001b[0m \u001b[0m__iter__\u001b[0m\u001b[0;34m(\u001b[0m\u001b[0mself\u001b[0m\u001b[0;34m)\u001b[0m\u001b[0;34m:\u001b[0m\u001b[0;34m\u001b[0m\u001b[0m\n\u001b[0;32m----> 4\u001b[0;31m         \u001b[0;32mfor\u001b[0m \u001b[0mline\u001b[0m \u001b[0;32min\u001b[0m \u001b[0msmart_open\u001b[0m\u001b[0;34m(\u001b[0m\u001b[0;34m'datasets/mycorpus.txt'\u001b[0m\u001b[0;34m,\u001b[0m \u001b[0;34m'rb'\u001b[0m\u001b[0;34m)\u001b[0m\u001b[0;34m:\u001b[0m\u001b[0;34m\u001b[0m\u001b[0m\n\u001b[0m\u001b[1;32m      5\u001b[0m             \u001b[0;31m# assume there's one document per line, tokens separated by whitespace\u001b[0m\u001b[0;34m\u001b[0m\u001b[0;34m\u001b[0m\u001b[0m\n\u001b[1;32m      6\u001b[0m             \u001b[0;32myield\u001b[0m \u001b[0mdictionary\u001b[0m\u001b[0;34m.\u001b[0m\u001b[0mdoc2bow\u001b[0m\u001b[0;34m(\u001b[0m\u001b[0mline\u001b[0m\u001b[0;34m.\u001b[0m\u001b[0mlower\u001b[0m\u001b[0;34m(\u001b[0m\u001b[0;34m)\u001b[0m\u001b[0;34m.\u001b[0m\u001b[0msplit\u001b[0m\u001b[0;34m(\u001b[0m\u001b[0;34m)\u001b[0m\u001b[0;34m)\u001b[0m\u001b[0;34m\u001b[0m\u001b[0m\n",
            "\u001b[0;32m/usr/local/lib/python3.6/dist-packages/smart_open/smart_open_lib.py\u001b[0m in \u001b[0;36msmart_open\u001b[0;34m(uri, mode, **kw)\u001b[0m\n\u001b[1;32m    179\u001b[0m         \u001b[0;32mraise\u001b[0m \u001b[0mTypeError\u001b[0m\u001b[0;34m(\u001b[0m\u001b[0;34m'mode should be a string'\u001b[0m\u001b[0;34m)\u001b[0m\u001b[0;34m\u001b[0m\u001b[0m\n\u001b[1;32m    180\u001b[0m \u001b[0;34m\u001b[0m\u001b[0m\n\u001b[0;32m--> 181\u001b[0;31m     \u001b[0mfobj\u001b[0m \u001b[0;34m=\u001b[0m \u001b[0m_shortcut_open\u001b[0m\u001b[0;34m(\u001b[0m\u001b[0muri\u001b[0m\u001b[0;34m,\u001b[0m \u001b[0mmode\u001b[0m\u001b[0;34m,\u001b[0m \u001b[0;34m**\u001b[0m\u001b[0mkw\u001b[0m\u001b[0;34m)\u001b[0m\u001b[0;34m\u001b[0m\u001b[0m\n\u001b[0m\u001b[1;32m    182\u001b[0m     \u001b[0;32mif\u001b[0m \u001b[0mfobj\u001b[0m \u001b[0;32mis\u001b[0m \u001b[0;32mnot\u001b[0m \u001b[0;32mNone\u001b[0m\u001b[0;34m:\u001b[0m\u001b[0;34m\u001b[0m\u001b[0m\n\u001b[1;32m    183\u001b[0m         \u001b[0;32mreturn\u001b[0m \u001b[0mfobj\u001b[0m\u001b[0;34m\u001b[0m\u001b[0m\n",
            "\u001b[0;32m/usr/local/lib/python3.6/dist-packages/smart_open/smart_open_lib.py\u001b[0m in \u001b[0;36m_shortcut_open\u001b[0;34m(uri, mode, **kw)\u001b[0m\n\u001b[1;32m    299\u001b[0m     \u001b[0;31m#\u001b[0m\u001b[0;34m\u001b[0m\u001b[0;34m\u001b[0m\u001b[0m\n\u001b[1;32m    300\u001b[0m     \u001b[0;32mif\u001b[0m \u001b[0msix\u001b[0m\u001b[0;34m.\u001b[0m\u001b[0mPY3\u001b[0m\u001b[0;34m:\u001b[0m\u001b[0;34m\u001b[0m\u001b[0m\n\u001b[0;32m--> 301\u001b[0;31m         \u001b[0;32mreturn\u001b[0m \u001b[0mopen\u001b[0m\u001b[0;34m(\u001b[0m\u001b[0mparsed_uri\u001b[0m\u001b[0;34m.\u001b[0m\u001b[0muri_path\u001b[0m\u001b[0;34m,\u001b[0m \u001b[0mmode\u001b[0m\u001b[0;34m,\u001b[0m \u001b[0mbuffering\u001b[0m\u001b[0;34m=\u001b[0m\u001b[0mbuffering\u001b[0m\u001b[0;34m,\u001b[0m \u001b[0;34m**\u001b[0m\u001b[0mopen_kwargs\u001b[0m\u001b[0;34m)\u001b[0m\u001b[0;34m\u001b[0m\u001b[0m\n\u001b[0m\u001b[1;32m    302\u001b[0m     \u001b[0;32melif\u001b[0m \u001b[0;32mnot\u001b[0m \u001b[0mopen_kwargs\u001b[0m\u001b[0;34m:\u001b[0m\u001b[0;34m\u001b[0m\u001b[0m\n\u001b[1;32m    303\u001b[0m         \u001b[0;32mreturn\u001b[0m \u001b[0mopen\u001b[0m\u001b[0;34m(\u001b[0m\u001b[0mparsed_uri\u001b[0m\u001b[0;34m.\u001b[0m\u001b[0muri_path\u001b[0m\u001b[0;34m,\u001b[0m \u001b[0mmode\u001b[0m\u001b[0;34m,\u001b[0m \u001b[0mbuffering\u001b[0m\u001b[0;34m=\u001b[0m\u001b[0mbuffering\u001b[0m\u001b[0;34m)\u001b[0m\u001b[0;34m\u001b[0m\u001b[0m\n",
            "\u001b[0;31mFileNotFoundError\u001b[0m: [Errno 2] No such file or directory: 'datasets/mycorpus.txt'"
          ]
        }
      ]
    },
    {
      "metadata": {
        "id": "qJUFL5kkRqXn",
        "colab_type": "code",
        "colab": {
          "base_uri": "https://localhost:8080/",
          "height": 187
        },
        "outputId": "29730ef8-a5a9-4de7-f2fe-ced386401279"
      },
      "cell_type": "code",
      "source": [
        ""
      ],
      "execution_count": 207,
      "outputs": [
        {
          "output_type": "error",
          "ename": "NameError",
          "evalue": "ignored",
          "traceback": [
            "\u001b[0;31m---------------------------------------------------------------------------\u001b[0m",
            "\u001b[0;31mNameError\u001b[0m                                 Traceback (most recent call last)",
            "\u001b[0;32m<ipython-input-207-c0190327fb22>\u001b[0m in \u001b[0;36m<module>\u001b[0;34m()\u001b[0m\n\u001b[0;32m----> 1\u001b[0;31m \u001b[0mlibrary\u001b[0m\u001b[0;34m(\u001b[0m\u001b[0mstringr\u001b[0m\u001b[0;34m)\u001b[0m\u001b[0;34m\u001b[0m\u001b[0m\n\u001b[0m\u001b[1;32m      2\u001b[0m \u001b[0mlibrary\u001b[0m\u001b[0;34m(\u001b[0m\u001b[0mtext2vec\u001b[0m\u001b[0;34m)\u001b[0m\u001b[0;34m\u001b[0m\u001b[0m\n",
            "\u001b[0;31mNameError\u001b[0m: name 'library' is not defined"
          ]
        }
      ]
    }
  ]
}