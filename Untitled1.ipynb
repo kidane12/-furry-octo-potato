{
  "nbformat": 4,
  "nbformat_minor": 0,
  "metadata": {
    "colab": {
      "name": "Untitled1.ipynb",
      "version": "0.3.2",
      "provenance": [],
      "include_colab_link": true
    },
    "kernelspec": {
      "name": "python3",
      "display_name": "Python 3"
    }
  },
  "cells": [
    {
      "cell_type": "markdown",
      "metadata": {
        "id": "view-in-github",
        "colab_type": "text"
      },
      "source": [
        "<a href=\"https://colab.research.google.com/github/kidane12/-furry-octo-potato/blob/master/Untitled1.ipynb\" target=\"_parent\"><img src=\"https://colab.research.google.com/assets/colab-badge.svg\" alt=\"Open In Colab\"/></a>"
      ]
    },
    {
      "metadata": {
        "id": "nrbNSU4qFpio",
        "colab_type": "code",
        "colab": {
          "base_uri": "https://localhost:8080/",
          "height": 361
        },
        "outputId": "75435270-4d8a-4a65-bd39-039f33aa2f26"
      },
      "cell_type": "code",
      "source": [
        "!pip install -U gensim\n"
      ],
      "execution_count": 1,
      "outputs": [
        {
          "output_type": "stream",
          "text": [
            "Requirement already up-to-date: gensim in /usr/local/lib/python3.6/dist-packages (3.6.0)\n",
            "Requirement already satisfied, skipping upgrade: smart-open>=1.2.1 in /usr/local/lib/python3.6/dist-packages (from gensim) (1.7.1)\n",
            "Requirement already satisfied, skipping upgrade: six>=1.5.0 in /usr/local/lib/python3.6/dist-packages (from gensim) (1.11.0)\n",
            "Requirement already satisfied, skipping upgrade: scipy>=0.18.1 in /usr/local/lib/python3.6/dist-packages (from gensim) (1.1.0)\n",
            "Requirement already satisfied, skipping upgrade: numpy>=1.11.3 in /usr/local/lib/python3.6/dist-packages (from gensim) (1.14.6)\n",
            "Requirement already satisfied, skipping upgrade: requests in /usr/local/lib/python3.6/dist-packages (from smart-open>=1.2.1->gensim) (2.18.4)\n",
            "Requirement already satisfied, skipping upgrade: bz2file in /usr/local/lib/python3.6/dist-packages (from smart-open>=1.2.1->gensim) (0.98)\n",
            "Requirement already satisfied, skipping upgrade: boto3 in /usr/local/lib/python3.6/dist-packages (from smart-open>=1.2.1->gensim) (1.9.42)\n",
            "Requirement already satisfied, skipping upgrade: boto>=2.32 in /usr/local/lib/python3.6/dist-packages (from smart-open>=1.2.1->gensim) (2.49.0)\n",
            "Requirement already satisfied, skipping upgrade: urllib3<1.23,>=1.21.1 in /usr/local/lib/python3.6/dist-packages (from requests->smart-open>=1.2.1->gensim) (1.22)\n",
            "Requirement already satisfied, skipping upgrade: certifi>=2017.4.17 in /usr/local/lib/python3.6/dist-packages (from requests->smart-open>=1.2.1->gensim) (2018.10.15)\n",
            "Requirement already satisfied, skipping upgrade: chardet<3.1.0,>=3.0.2 in /usr/local/lib/python3.6/dist-packages (from requests->smart-open>=1.2.1->gensim) (3.0.4)\n",
            "Requirement already satisfied, skipping upgrade: idna<2.7,>=2.5 in /usr/local/lib/python3.6/dist-packages (from requests->smart-open>=1.2.1->gensim) (2.6)\n",
            "Requirement already satisfied, skipping upgrade: jmespath<1.0.0,>=0.7.1 in /usr/local/lib/python3.6/dist-packages (from boto3->smart-open>=1.2.1->gensim) (0.9.3)\n",
            "Requirement already satisfied, skipping upgrade: s3transfer<0.2.0,>=0.1.10 in /usr/local/lib/python3.6/dist-packages (from boto3->smart-open>=1.2.1->gensim) (0.1.13)\n",
            "Requirement already satisfied, skipping upgrade: botocore<1.13.0,>=1.12.42 in /usr/local/lib/python3.6/dist-packages (from boto3->smart-open>=1.2.1->gensim) (1.12.42)\n",
            "Requirement already satisfied, skipping upgrade: docutils>=0.10 in /usr/local/lib/python3.6/dist-packages (from botocore<1.13.0,>=1.12.42->boto3->smart-open>=1.2.1->gensim) (0.14)\n",
            "Requirement already satisfied, skipping upgrade: python-dateutil<3.0.0,>=2.1; python_version >= \"2.7\" in /usr/local/lib/python3.6/dist-packages (from botocore<1.13.0,>=1.12.42->boto3->smart-open>=1.2.1->gensim) (2.5.3)\n"
          ],
          "name": "stdout"
        }
      ]
    },
    {
      "metadata": {
        "id": "QUtFMy0mFsiH",
        "colab_type": "code",
        "colab": {
          "base_uri": "https://localhost:8080/",
          "height": 559
        },
        "outputId": "e5fdae7a-5fd9-429f-94a4-e946912d5a22"
      },
      "cell_type": "code",
      "source": [
        "!python -m gensim.scripts.make_wiki\n"
      ],
      "execution_count": 4,
      "outputs": [
        {
          "output_type": "stream",
          "text": [
            "2018-11-11 23:28:31,444 : INFO : running /usr/local/lib/python3.6/dist-packages/gensim/scripts/make_wiki.py\n",
            "\n",
            "USAGE: make_wiki.py WIKI_XML_DUMP OUTPUT_PREFIX [VOCABULARY_SIZE]\n",
            "\n",
            "Convert articles from a Wikipedia dump to (sparse) vectors. The input is a\n",
            "bz2-compressed dump of Wikipedia articles, in XML format.\n",
            "\n",
            "This actually creates three files:\n",
            "\n",
            "* `OUTPUT_PREFIX_wordids.txt`: mapping between words and their integer ids\n",
            "* `OUTPUT_PREFIX_bow.mm`: bag-of-words (word counts) representation, in\n",
            "  Matrix Matrix format\n",
            "* `OUTPUT_PREFIX_tfidf.mm`: TF-IDF representation\n",
            "* `OUTPUT_PREFIX.tfidf_model`: TF-IDF model dump\n",
            "\n",
            "The output Matrix Market files can then be compressed (e.g., by bzip2) to save\n",
            "disk space; gensim's corpus iterators can work with compressed input, too.\n",
            "\n",
            "`VOCABULARY_SIZE` controls how many of the most frequent words to keep (after\n",
            "removing tokens that appear in more than 10% of all documents). Defaults to\n",
            "100,000.\n",
            "\n",
            "If you have the `pattern` package installed, this script will use a fancy\n",
            "lemmatization to get a lemma of each token (instead of plain alphabetic\n",
            "tokenizer). The package is available at https://github.com/clips/pattern .\n",
            "\n",
            "Example:\n",
            "  python -m gensim.scripts.make_wikicorpus ~/gensim/results/enwiki-latest-pages-articles.xml.bz2 ~/gensim/results/wiki\n",
            "\n"
          ],
          "name": "stdout"
        }
      ]
    },
    {
      "metadata": {
        "id": "rtMqrftuJHyV",
        "colab_type": "code",
        "colab": {}
      },
      "cell_type": "code",
      "source": [
        ""
      ],
      "execution_count": 0,
      "outputs": []
    },
    {
      "metadata": {
        "id": "1SMSMC5BHWF5",
        "colab_type": "code",
        "colab": {
          "base_uri": "https://localhost:8080/",
          "height": 153
        },
        "outputId": "23846752-2d68-4264-dd72-7c39604e77c9"
      },
      "cell_type": "code",
      "source": [
        "  python -m gensim.scripts.make_wikicorpus ~/gensim/results/enwiki-latest-pages-articles.xml.bz2 ~/gensim/results/wiki\n"
      ],
      "execution_count": 5,
      "outputs": [
        {
          "output_type": "error",
          "ename": "SyntaxError",
          "evalue": "ignored",
          "traceback": [
            "\u001b[0;36m  File \u001b[0;32m\"<ipython-input-5-1641dbf72116>\"\u001b[0;36m, line \u001b[0;32m1\u001b[0m\n\u001b[0;31m    python -m gensim.scripts.make_wikicorpus ~/gensim/results/enwiki-latest-pages-articles.xml.bz2 ~/gensim/results/wiki\u001b[0m\n\u001b[0m                   ^\u001b[0m\n\u001b[0;31mSyntaxError\u001b[0m\u001b[0;31m:\u001b[0m invalid syntax\n"
          ]
        }
      ]
    },
    {
      "metadata": {
        "id": "GeprE1qOJIkP",
        "colab_type": "code",
        "colab": {}
      },
      "cell_type": "code",
      "source": [
        "import numpy as np"
      ],
      "execution_count": 0,
      "outputs": []
    },
    {
      "metadata": {
        "id": "SPFbeLWGKnYX",
        "colab_type": "code",
        "colab": {
          "base_uri": "https://localhost:8080/",
          "height": 35
        },
        "outputId": "1dbef9dd-922f-4b86-950d-994044afb4cc"
      },
      "cell_type": "code",
      "source": [
        "a = np.array([1,2,3])\n",
        "a=np.arange(1,12,2)\n",
        "a"
      ],
      "execution_count": 6,
      "outputs": [
        {
          "output_type": "execute_result",
          "data": {
            "text/plain": [
              "array([ 1,  3,  5,  7,  9, 11])"
            ]
          },
          "metadata": {
            "tags": []
          },
          "execution_count": 6
        }
      ]
    },
    {
      "metadata": {
        "id": "EKJmZ2mbLYL4",
        "colab_type": "code",
        "colab": {
          "base_uri": "https://localhost:8080/",
          "height": 73
        },
        "outputId": "f119d6cc-4e84-4d84-b520-8fdfef5296f1"
      },
      "cell_type": "code",
      "source": [
        "a=np.linspace(1,12,10)\n",
        "a"
      ],
      "execution_count": 7,
      "outputs": [
        {
          "output_type": "execute_result",
          "data": {
            "text/plain": [
              "array([ 1.        ,  2.22222222,  3.44444444,  4.66666667,  5.88888889,\n",
              "        7.11111111,  8.33333333,  9.55555556, 10.77777778, 12.        ])"
            ]
          },
          "metadata": {
            "tags": []
          },
          "execution_count": 7
        }
      ]
    },
    {
      "metadata": {
        "id": "JAtpdu8hLxZb",
        "colab_type": "code",
        "colab": {
          "base_uri": "https://localhost:8080/",
          "height": 107
        },
        "outputId": "f6b9828d-89e9-4b4d-f035-3c73388bea79"
      },
      "cell_type": "code",
      "source": [
        "a.reshape(5,2)"
      ],
      "execution_count": 17,
      "outputs": [
        {
          "output_type": "execute_result",
          "data": {
            "text/plain": [
              "array([[ 1.        ,  2.22222222],\n",
              "       [ 3.44444444,  4.66666667],\n",
              "       [ 5.88888889,  7.11111111],\n",
              "       [ 8.33333333,  9.55555556],\n",
              "       [10.77777778, 12.        ]])"
            ]
          },
          "metadata": {
            "tags": []
          },
          "execution_count": 17
        }
      ]
    },
    {
      "metadata": {
        "id": "HKJ4euzPMJCQ",
        "colab_type": "code",
        "colab": {
          "base_uri": "https://localhost:8080/",
          "height": 169
        },
        "outputId": "1e4a3cd9-0c94-4a0c-fcd0-55079f2d7a3a"
      },
      "cell_type": "code",
      "source": [
        "a.shape"
      ],
      "execution_count": 3,
      "outputs": [
        {
          "output_type": "error",
          "ename": "NameError",
          "evalue": "ignored",
          "traceback": [
            "\u001b[0;31m---------------------------------------------------------------------------\u001b[0m",
            "\u001b[0;31mNameError\u001b[0m                                 Traceback (most recent call last)",
            "\u001b[0;32m<ipython-input-3-d74f1bcdd37c>\u001b[0m in \u001b[0;36m<module>\u001b[0;34m()\u001b[0m\n\u001b[0;32m----> 1\u001b[0;31m \u001b[0ma\u001b[0m\u001b[0;34m.\u001b[0m\u001b[0mshape\u001b[0m\u001b[0;34m\u001b[0m\u001b[0m\n\u001b[0m",
            "\u001b[0;31mNameError\u001b[0m: name 'a' is not defined"
          ]
        }
      ]
    },
    {
      "metadata": {
        "id": "JvL3rvfYMrkq",
        "colab_type": "code",
        "colab": {
          "base_uri": "https://localhost:8080/",
          "height": 53
        },
        "outputId": "be1564cb-dd3d-42ae-8add-149b0aa482c8"
      },
      "cell_type": "code",
      "source": [
        "a*3"
      ],
      "execution_count": 8,
      "outputs": [
        {
          "output_type": "execute_result",
          "data": {
            "text/plain": [
              "array([ 3.        ,  6.66666667, 10.33333333, 14.        , 17.66666667,\n",
              "       21.33333333, 25.        , 28.66666667, 32.33333333, 36.        ])"
            ]
          },
          "metadata": {
            "tags": []
          },
          "execution_count": 8
        }
      ]
    },
    {
      "metadata": {
        "id": "s3zcWIGENRs1",
        "colab_type": "code",
        "colab": {
          "base_uri": "https://localhost:8080/",
          "height": 53
        },
        "outputId": "5727b03a-fdc9-427d-dc9f-cd429064e379"
      },
      "cell_type": "code",
      "source": [
        "np.random.random((2,3))"
      ],
      "execution_count": 11,
      "outputs": [
        {
          "output_type": "execute_result",
          "data": {
            "text/plain": [
              "array([[0.59431041, 0.48505042, 0.91379739],\n",
              "       [0.71731849, 0.79504114, 0.30634871]])"
            ]
          },
          "metadata": {
            "tags": []
          },
          "execution_count": 11
        }
      ]
    },
    {
      "metadata": {
        "id": "MuHo_7NTNtmf",
        "colab_type": "text"
      },
      "cell_type": "markdown",
      "source": [
        "# New Section"
      ]
    },
    {
      "metadata": {
        "id": "YyhdjkskNw19",
        "colab_type": "code",
        "colab": {
          "base_uri": "https://localhost:8080/",
          "height": 35
        },
        "outputId": "380d3c5b-9627-4ce1-d9a4-5c475ec8de55"
      },
      "cell_type": "code",
      "source": [
        "a.var()"
      ],
      "execution_count": 16,
      "outputs": [
        {
          "output_type": "execute_result",
          "data": {
            "text/plain": [
              "12.324074074074076"
            ]
          },
          "metadata": {
            "tags": []
          },
          "execution_count": 16
        }
      ]
    },
    {
      "metadata": {
        "id": "rNVdFfEKOv1w",
        "colab_type": "code",
        "colab": {
          "base_uri": "https://localhost:8080/",
          "height": 1817
        },
        "outputId": "8b73a514-e631-493e-ff50-49c8354a5be4"
      },
      "cell_type": "code",
      "source": [
        "a=np.loadtxt('cluster00_100_2_2.dat',dtype=np.str, delimiter=';', skiprows=1,usecols =(0,1))\n",
        "a"
      ],
      "execution_count": 33,
      "outputs": [
        {
          "output_type": "execute_result",
          "data": {
            "text/plain": [
              "array([['0.7858218914665223', '0.9506279201197162'],\n",
              "       ['0.8891222824568827', '0.5866023549685591'],\n",
              "       ['0.8009481241821915', '0.919178705136175'],\n",
              "       ['0.7180951541691747', '0.9879223305266862'],\n",
              "       ['1.2779285285991637', '0.8119032323121382'],\n",
              "       ['0.7710071720551247', '0.5916433434333311'],\n",
              "       ['1.1492305737354078', '0.8231967128313816'],\n",
              "       ['1.241507922879664', '0.9654752619462502'],\n",
              "       ['0.6215365949803924', '1.013451397322168'],\n",
              "       ['0.3932403647558615', '0.5359616142079897'],\n",
              "       ['1.0707252825952518', '0.7067109520106308'],\n",
              "       ['0.9665627760219125', '0.6142332465571857'],\n",
              "       ['1.0348061275064921', '0.8575843367827801'],\n",
              "       ['0.41917967263287165', '0.8875768776651289'],\n",
              "       ['0.7525671949411257', '0.7237976820144686'],\n",
              "       ['0.8414795494628673', '0.8326699973370882'],\n",
              "       ['0.9586815606039837', '1.0342342924312062'],\n",
              "       ['0.956412583158689', '0.6846398077588424'],\n",
              "       ['0.9085112778112926', '0.7752455995499019'],\n",
              "       ['0.7699843366823993', '1.0647688604796792'],\n",
              "       ['0.7713819512892943', '0.8169881826793476'],\n",
              "       ['0.5454332587571652', '0.8953147228705005'],\n",
              "       ['0.9393393257939396', '0.8689216550052287'],\n",
              "       ['0.691026084219051', '1.1831454602774016'],\n",
              "       ['0.8451517389973804', '0.6537505981501559'],\n",
              "       ['0.8408559435222466', '0.6441144788054934'],\n",
              "       ['0.438055710617932', '0.6290054467048347'],\n",
              "       ['0.8209853259641816', '0.7748650767907371'],\n",
              "       ['1.123069181191729', '0.5759480290843939'],\n",
              "       ['0.89487543097268', '0.5396438575619069'],\n",
              "       ['1.0285835010224624', '1.0633145338668728'],\n",
              "       ['1.0489566468854044', '0.8209473389899726'],\n",
              "       ['0.9565132570932434', '0.5676049918734458'],\n",
              "       ['0.8343787583051331', '0.5888478159040041'],\n",
              "       ['0.9135446895392886', '0.7336167841159817'],\n",
              "       ['0.7505861140126322', '0.9708322112280644'],\n",
              "       ['0.7456356003121216', '0.5060283350035071'],\n",
              "       ['0.5154518813609213', '0.6049539123086424'],\n",
              "       ['0.9246657102737603', '0.8580091535483857'],\n",
              "       ['0.8265866478428846', '0.612975545332094'],\n",
              "       ['0.9697981811675725', '1.104524102082303'],\n",
              "       ['0.8826266953493646', '1.084668025205533'],\n",
              "       ['0.9489097236804855', '0.7336554385505489'],\n",
              "       ['0.6550620916444923', '0.7700803149179432'],\n",
              "       ['1.2496730824609998', '0.9140813672297045'],\n",
              "       ['0.7698646138198488', '0.4912759306724505'],\n",
              "       ['1.0905583223860007', '0.9994930346618098'],\n",
              "       ['1.0502815959673313', '0.6694727789459175'],\n",
              "       ['0.7263833282972', '0.8034166391181936'],\n",
              "       ['0.18774457072628895', '1.170832221456433'],\n",
              "       ['0.1690752516880138', '1.1174771020928271'],\n",
              "       ['0.409426614027251', '1.535070863819438'],\n",
              "       ['0.3141197869054183', '1.141074541700902'],\n",
              "       ['0.1238403051127879', '1.4420003462420452'],\n",
              "       ['0.7346237226640336', '1.205485753736527'],\n",
              "       ['0.1650039056606043', '1.4411570663693491'],\n",
              "       ['0.04306412892412348', '1.6018780039418905'],\n",
              "       ['0.5184669642282227', '1.1283488339468635'],\n",
              "       ['0.20973797410837444', '1.307943204067007'],\n",
              "       ['-0.04117555408755835', '1.24548197235515'],\n",
              "       ['0.2055678224772097', '1.3238498814374644'],\n",
              "       ['0.15259715295563842', '1.2509664248324464'],\n",
              "       ['-0.12098241950248606', '1.3454670190432256'],\n",
              "       ['0.23382682162234106', '1.4215318293297567'],\n",
              "       ['0.3020937416768314', '0.7264536999489227'],\n",
              "       ['0.3613266497400084', '1.3228622711240916'],\n",
              "       ['0.13251570263939055', '1.009874108020474'],\n",
              "       ['0.4626134700525317', '1.338506547789993'],\n",
              "       ['0.22988903741100036', '1.3338639752869623'],\n",
              "       ['0.024964295530360975', '1.256798840799506'],\n",
              "       ['0.4120949302710989', '1.363915387126929'],\n",
              "       ['0.5144625418066144', '1.5792366013942032'],\n",
              "       ['0.34978083222127615', '1.4361833838613203'],\n",
              "       ['0.25850475805351697', '1.3931105617680395'],\n",
              "       ['0.11434197015965705', '1.3562608688747995'],\n",
              "       ['0.5220147103392296', '1.2579426345949944'],\n",
              "       ['0.5276122746342342', '1.415585605399676'],\n",
              "       ['0.1527396209222882', '1.212648297384282'],\n",
              "       ['0.23330478231496896', '1.5249690806488425'],\n",
              "       ['0.1416708201467876', '1.2050038263496243'],\n",
              "       ['0.3063550307064313', '1.0931983067328104'],\n",
              "       ['0.12711224077168057', '1.2371861897014182'],\n",
              "       ['0.25615695362697205', '1.4227723332042836'],\n",
              "       ['-0.08566379940217211', '1.1864720203102959'],\n",
              "       ['0.07614777321089661', '1.1498829027123376'],\n",
              "       ['0.05927928768302229', '1.455233713221709'],\n",
              "       ['0.437655767377205', '1.5669592880397358'],\n",
              "       ['0.43958429082138706', '1.1457739055368101'],\n",
              "       ['0.5650482387014347', '1.232427609632309'],\n",
              "       ['0.10373728707390609', '1.3210163775693609'],\n",
              "       ['0.84721737270677', '-0.3472338546617187'],\n",
              "       ['-0.2411631818527432', '0.865558205840246'],\n",
              "       ['0.980605976497464', '3.859418526192761'],\n",
              "       ['0.08631918452695553', '2.396344512895289'],\n",
              "       ['0.6016751378865468', '2.362067717150087'],\n",
              "       ['3.168779912290517', '3.9048888282460323'],\n",
              "       ['-0.04096400593282229', '-0.4320577202113432'],\n",
              "       ['3.9955886040533812', '-0.3091040319175372'],\n",
              "       ['2.6960422316314707', '3.3759741402739802'],\n",
              "       ['1.7534396342543266', '1.723449506784521']], dtype='<U20')"
            ]
          },
          "metadata": {
            "tags": []
          },
          "execution_count": 33
        }
      ]
    },
    {
      "metadata": {
        "id": "vPMYYxU8Qun0",
        "colab_type": "code",
        "colab": {}
      },
      "cell_type": "code",
      "source": [
        "y = a.astype(np.float)"
      ],
      "execution_count": 0,
      "outputs": []
    },
    {
      "metadata": {
        "id": "WkL9b8DCSprk",
        "colab_type": "code",
        "colab": {
          "base_uri": "https://localhost:8080/",
          "height": 1817
        },
        "outputId": "32c03613-62ca-4f68-a1ed-bcdab7d0511f"
      },
      "cell_type": "code",
      "source": [
        "y"
      ],
      "execution_count": 35,
      "outputs": [
        {
          "output_type": "execute_result",
          "data": {
            "text/plain": [
              "array([[ 0.78582189,  0.95062792],\n",
              "       [ 0.88912228,  0.58660235],\n",
              "       [ 0.80094812,  0.91917871],\n",
              "       [ 0.71809515,  0.98792233],\n",
              "       [ 1.27792853,  0.81190323],\n",
              "       [ 0.77100717,  0.59164334],\n",
              "       [ 1.14923057,  0.82319671],\n",
              "       [ 1.24150792,  0.96547526],\n",
              "       [ 0.62153659,  1.0134514 ],\n",
              "       [ 0.39324036,  0.53596161],\n",
              "       [ 1.07072528,  0.70671095],\n",
              "       [ 0.96656278,  0.61423325],\n",
              "       [ 1.03480613,  0.85758434],\n",
              "       [ 0.41917967,  0.88757688],\n",
              "       [ 0.75256719,  0.72379768],\n",
              "       [ 0.84147955,  0.83267   ],\n",
              "       [ 0.95868156,  1.03423429],\n",
              "       [ 0.95641258,  0.68463981],\n",
              "       [ 0.90851128,  0.7752456 ],\n",
              "       [ 0.76998434,  1.06476886],\n",
              "       [ 0.77138195,  0.81698818],\n",
              "       [ 0.54543326,  0.89531472],\n",
              "       [ 0.93933933,  0.86892166],\n",
              "       [ 0.69102608,  1.18314546],\n",
              "       [ 0.84515174,  0.6537506 ],\n",
              "       [ 0.84085594,  0.64411448],\n",
              "       [ 0.43805571,  0.62900545],\n",
              "       [ 0.82098533,  0.77486508],\n",
              "       [ 1.12306918,  0.57594803],\n",
              "       [ 0.89487543,  0.53964386],\n",
              "       [ 1.0285835 ,  1.06331453],\n",
              "       [ 1.04895665,  0.82094734],\n",
              "       [ 0.95651326,  0.56760499],\n",
              "       [ 0.83437876,  0.58884782],\n",
              "       [ 0.91354469,  0.73361678],\n",
              "       [ 0.75058611,  0.97083221],\n",
              "       [ 0.7456356 ,  0.50602834],\n",
              "       [ 0.51545188,  0.60495391],\n",
              "       [ 0.92466571,  0.85800915],\n",
              "       [ 0.82658665,  0.61297555],\n",
              "       [ 0.96979818,  1.1045241 ],\n",
              "       [ 0.8826267 ,  1.08466803],\n",
              "       [ 0.94890972,  0.73365544],\n",
              "       [ 0.65506209,  0.77008031],\n",
              "       [ 1.24967308,  0.91408137],\n",
              "       [ 0.76986461,  0.49127593],\n",
              "       [ 1.09055832,  0.99949303],\n",
              "       [ 1.0502816 ,  0.66947278],\n",
              "       [ 0.72638333,  0.80341664],\n",
              "       [ 0.18774457,  1.17083222],\n",
              "       [ 0.16907525,  1.1174771 ],\n",
              "       [ 0.40942661,  1.53507086],\n",
              "       [ 0.31411979,  1.14107454],\n",
              "       [ 0.12384031,  1.44200035],\n",
              "       [ 0.73462372,  1.20548575],\n",
              "       [ 0.16500391,  1.44115707],\n",
              "       [ 0.04306413,  1.601878  ],\n",
              "       [ 0.51846696,  1.12834883],\n",
              "       [ 0.20973797,  1.3079432 ],\n",
              "       [-0.04117555,  1.24548197],\n",
              "       [ 0.20556782,  1.32384988],\n",
              "       [ 0.15259715,  1.25096642],\n",
              "       [-0.12098242,  1.34546702],\n",
              "       [ 0.23382682,  1.42153183],\n",
              "       [ 0.30209374,  0.7264537 ],\n",
              "       [ 0.36132665,  1.32286227],\n",
              "       [ 0.1325157 ,  1.00987411],\n",
              "       [ 0.46261347,  1.33850655],\n",
              "       [ 0.22988904,  1.33386398],\n",
              "       [ 0.0249643 ,  1.25679884],\n",
              "       [ 0.41209493,  1.36391539],\n",
              "       [ 0.51446254,  1.5792366 ],\n",
              "       [ 0.34978083,  1.43618338],\n",
              "       [ 0.25850476,  1.39311056],\n",
              "       [ 0.11434197,  1.35626087],\n",
              "       [ 0.52201471,  1.25794263],\n",
              "       [ 0.52761227,  1.41558561],\n",
              "       [ 0.15273962,  1.2126483 ],\n",
              "       [ 0.23330478,  1.52496908],\n",
              "       [ 0.14167082,  1.20500383],\n",
              "       [ 0.30635503,  1.09319831],\n",
              "       [ 0.12711224,  1.23718619],\n",
              "       [ 0.25615695,  1.42277233],\n",
              "       [-0.0856638 ,  1.18647202],\n",
              "       [ 0.07614777,  1.1498829 ],\n",
              "       [ 0.05927929,  1.45523371],\n",
              "       [ 0.43765577,  1.56695929],\n",
              "       [ 0.43958429,  1.14577391],\n",
              "       [ 0.56504824,  1.23242761],\n",
              "       [ 0.10373729,  1.32101638],\n",
              "       [ 0.84721737, -0.34723385],\n",
              "       [-0.24116318,  0.86555821],\n",
              "       [ 0.98060598,  3.85941853],\n",
              "       [ 0.08631918,  2.39634451],\n",
              "       [ 0.60167514,  2.36206772],\n",
              "       [ 3.16877991,  3.90488883],\n",
              "       [-0.04096401, -0.43205772],\n",
              "       [ 3.9955886 , -0.30910403],\n",
              "       [ 2.69604223,  3.37597414],\n",
              "       [ 1.75343963,  1.72344951]])"
            ]
          },
          "metadata": {
            "tags": []
          },
          "execution_count": 35
        }
      ]
    },
    {
      "metadata": {
        "id": "6Qb3_uo6StIj",
        "colab_type": "code",
        "colab": {
          "base_uri": "https://localhost:8080/",
          "height": 1799
        },
        "outputId": "0ec99b47-78cb-4eca-e0f2-a5cb657109c5"
      },
      "cell_type": "code",
      "source": [
        "a[1:]"
      ],
      "execution_count": 39,
      "outputs": [
        {
          "output_type": "execute_result",
          "data": {
            "text/plain": [
              "array([['0.8891222824568827', '0.5866023549685591'],\n",
              "       ['0.8009481241821915', '0.919178705136175'],\n",
              "       ['0.7180951541691747', '0.9879223305266862'],\n",
              "       ['1.2779285285991637', '0.8119032323121382'],\n",
              "       ['0.7710071720551247', '0.5916433434333311'],\n",
              "       ['1.1492305737354078', '0.8231967128313816'],\n",
              "       ['1.241507922879664', '0.9654752619462502'],\n",
              "       ['0.6215365949803924', '1.013451397322168'],\n",
              "       ['0.3932403647558615', '0.5359616142079897'],\n",
              "       ['1.0707252825952518', '0.7067109520106308'],\n",
              "       ['0.9665627760219125', '0.6142332465571857'],\n",
              "       ['1.0348061275064921', '0.8575843367827801'],\n",
              "       ['0.41917967263287165', '0.8875768776651289'],\n",
              "       ['0.7525671949411257', '0.7237976820144686'],\n",
              "       ['0.8414795494628673', '0.8326699973370882'],\n",
              "       ['0.9586815606039837', '1.0342342924312062'],\n",
              "       ['0.956412583158689', '0.6846398077588424'],\n",
              "       ['0.9085112778112926', '0.7752455995499019'],\n",
              "       ['0.7699843366823993', '1.0647688604796792'],\n",
              "       ['0.7713819512892943', '0.8169881826793476'],\n",
              "       ['0.5454332587571652', '0.8953147228705005'],\n",
              "       ['0.9393393257939396', '0.8689216550052287'],\n",
              "       ['0.691026084219051', '1.1831454602774016'],\n",
              "       ['0.8451517389973804', '0.6537505981501559'],\n",
              "       ['0.8408559435222466', '0.6441144788054934'],\n",
              "       ['0.438055710617932', '0.6290054467048347'],\n",
              "       ['0.8209853259641816', '0.7748650767907371'],\n",
              "       ['1.123069181191729', '0.5759480290843939'],\n",
              "       ['0.89487543097268', '0.5396438575619069'],\n",
              "       ['1.0285835010224624', '1.0633145338668728'],\n",
              "       ['1.0489566468854044', '0.8209473389899726'],\n",
              "       ['0.9565132570932434', '0.5676049918734458'],\n",
              "       ['0.8343787583051331', '0.5888478159040041'],\n",
              "       ['0.9135446895392886', '0.7336167841159817'],\n",
              "       ['0.7505861140126322', '0.9708322112280644'],\n",
              "       ['0.7456356003121216', '0.5060283350035071'],\n",
              "       ['0.5154518813609213', '0.6049539123086424'],\n",
              "       ['0.9246657102737603', '0.8580091535483857'],\n",
              "       ['0.8265866478428846', '0.612975545332094'],\n",
              "       ['0.9697981811675725', '1.104524102082303'],\n",
              "       ['0.8826266953493646', '1.084668025205533'],\n",
              "       ['0.9489097236804855', '0.7336554385505489'],\n",
              "       ['0.6550620916444923', '0.7700803149179432'],\n",
              "       ['1.2496730824609998', '0.9140813672297045'],\n",
              "       ['0.7698646138198488', '0.4912759306724505'],\n",
              "       ['1.0905583223860007', '0.9994930346618098'],\n",
              "       ['1.0502815959673313', '0.6694727789459175'],\n",
              "       ['0.7263833282972', '0.8034166391181936'],\n",
              "       ['0.18774457072628895', '1.170832221456433'],\n",
              "       ['0.1690752516880138', '1.1174771020928271'],\n",
              "       ['0.409426614027251', '1.535070863819438'],\n",
              "       ['0.3141197869054183', '1.141074541700902'],\n",
              "       ['0.1238403051127879', '1.4420003462420452'],\n",
              "       ['0.7346237226640336', '1.205485753736527'],\n",
              "       ['0.1650039056606043', '1.4411570663693491'],\n",
              "       ['0.04306412892412348', '1.6018780039418905'],\n",
              "       ['0.5184669642282227', '1.1283488339468635'],\n",
              "       ['0.20973797410837444', '1.307943204067007'],\n",
              "       ['-0.04117555408755835', '1.24548197235515'],\n",
              "       ['0.2055678224772097', '1.3238498814374644'],\n",
              "       ['0.15259715295563842', '1.2509664248324464'],\n",
              "       ['-0.12098241950248606', '1.3454670190432256'],\n",
              "       ['0.23382682162234106', '1.4215318293297567'],\n",
              "       ['0.3020937416768314', '0.7264536999489227'],\n",
              "       ['0.3613266497400084', '1.3228622711240916'],\n",
              "       ['0.13251570263939055', '1.009874108020474'],\n",
              "       ['0.4626134700525317', '1.338506547789993'],\n",
              "       ['0.22988903741100036', '1.3338639752869623'],\n",
              "       ['0.024964295530360975', '1.256798840799506'],\n",
              "       ['0.4120949302710989', '1.363915387126929'],\n",
              "       ['0.5144625418066144', '1.5792366013942032'],\n",
              "       ['0.34978083222127615', '1.4361833838613203'],\n",
              "       ['0.25850475805351697', '1.3931105617680395'],\n",
              "       ['0.11434197015965705', '1.3562608688747995'],\n",
              "       ['0.5220147103392296', '1.2579426345949944'],\n",
              "       ['0.5276122746342342', '1.415585605399676'],\n",
              "       ['0.1527396209222882', '1.212648297384282'],\n",
              "       ['0.23330478231496896', '1.5249690806488425'],\n",
              "       ['0.1416708201467876', '1.2050038263496243'],\n",
              "       ['0.3063550307064313', '1.0931983067328104'],\n",
              "       ['0.12711224077168057', '1.2371861897014182'],\n",
              "       ['0.25615695362697205', '1.4227723332042836'],\n",
              "       ['-0.08566379940217211', '1.1864720203102959'],\n",
              "       ['0.07614777321089661', '1.1498829027123376'],\n",
              "       ['0.05927928768302229', '1.455233713221709'],\n",
              "       ['0.437655767377205', '1.5669592880397358'],\n",
              "       ['0.43958429082138706', '1.1457739055368101'],\n",
              "       ['0.5650482387014347', '1.232427609632309'],\n",
              "       ['0.10373728707390609', '1.3210163775693609'],\n",
              "       ['0.84721737270677', '-0.3472338546617187'],\n",
              "       ['-0.2411631818527432', '0.865558205840246'],\n",
              "       ['0.980605976497464', '3.859418526192761'],\n",
              "       ['0.08631918452695553', '2.396344512895289'],\n",
              "       ['0.6016751378865468', '2.362067717150087'],\n",
              "       ['3.168779912290517', '3.9048888282460323'],\n",
              "       ['-0.04096400593282229', '-0.4320577202113432'],\n",
              "       ['3.9955886040533812', '-0.3091040319175372'],\n",
              "       ['2.6960422316314707', '3.3759741402739802'],\n",
              "       ['1.7534396342543266', '1.723449506784521']], dtype='<U20')"
            ]
          },
          "metadata": {
            "tags": []
          },
          "execution_count": 39
        }
      ]
    },
    {
      "metadata": {
        "id": "9z-oSYcaVNUo",
        "colab_type": "code",
        "colab": {}
      },
      "cell_type": "code",
      "source": [
        "import matplotlib.pyplot as plt"
      ],
      "execution_count": 0,
      "outputs": []
    },
    {
      "metadata": {
        "id": "aA3oNBCcXEkG",
        "colab_type": "code",
        "colab": {
          "base_uri": "https://localhost:8080/",
          "height": 35
        },
        "outputId": "b9b0a906-dcf5-4ad7-ad45-7b746f1b4cba"
      },
      "cell_type": "code",
      "source": [
        "x=a[:,0]\n",
        "y=a[:,1]\n",
        "len(x)"
      ],
      "execution_count": 47,
      "outputs": [
        {
          "output_type": "execute_result",
          "data": {
            "text/plain": [
              "100"
            ]
          },
          "metadata": {
            "tags": []
          },
          "execution_count": 47
        }
      ]
    },
    {
      "metadata": {
        "id": "pKdRPY34VOsu",
        "colab_type": "code",
        "colab": {
          "base_uri": "https://localhost:8080/",
          "height": 347
        },
        "outputId": "9f6c6289-0b50-40b9-eca0-d526e57f33cf"
      },
      "cell_type": "code",
      "source": [
        "l = plt.plot(x, y, 'ro')\n",
        "plt.setp(l, markersize=10)\n",
        "plt.setp(l, markerfacecolor='C0')\n",
        "plt.show()\n"
      ],
      "execution_count": 50,
      "outputs": [
        {
          "output_type": "display_data",
          "data": {
            "image/png": "[encoded data removed]",
            "text/plain": [
              "<matplotlib.figure.Figure at 0x7fa751b6cb00>"
            ]
          },
          "metadata": {
            "tags": []
          }
        }
      ]
    },
    {
      "metadata": {
        "id": "YB4sPdCmYf6k",
        "colab_type": "code",
        "colab": {}
      },
      "cell_type": "code",
      "source": [
        "from sklearn.metrics import jaccard_similarity_score"
      ],
      "execution_count": 0,
      "outputs": []
    },
    {
      "metadata": {
        "id": "-NKXNi-5YjQc",
        "colab_type": "code",
        "colab": {
          "base_uri": "https://localhost:8080/",
          "height": 35
        },
        "outputId": "7cef552f-4739-49f9-b066-f0913bef7f53"
      },
      "cell_type": "code",
      "source": [
        "jaccard_similarity_score(x, y)"
      ],
      "execution_count": 56,
      "outputs": [
        {
          "output_type": "execute_result",
          "data": {
            "text/plain": [
              "0.0"
            ]
          },
          "metadata": {
            "tags": []
          },
          "execution_count": 56
        }
      ]
    },
    {
      "metadata": {
        "id": "8jytalWNY0NK",
        "colab_type": "code",
        "colab": {
          "base_uri": "https://localhost:8080/",
          "height": 35
        },
        "outputId": "7a3da713-695b-4987-ce96-d181184457e8"
      },
      "cell_type": "code",
      "source": [
        "jaccard_similarity_score(x, y, normalize=False)"
      ],
      "execution_count": 59,
      "outputs": [
        {
          "output_type": "execute_result",
          "data": {
            "text/plain": [
              "0"
            ]
          },
          "metadata": {
            "tags": []
          },
          "execution_count": 59
        }
      ]
    }
  ]
}