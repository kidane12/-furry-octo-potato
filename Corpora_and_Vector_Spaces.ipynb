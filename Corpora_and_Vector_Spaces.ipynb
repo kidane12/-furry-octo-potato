{
  "nbformat": 4,
  "nbformat_minor": 0,
  "metadata": {
    "colab": {
      "name": "Corpora and Vector Spaces.ipynb",
      "version": "0.3.2",
      "provenance": [],
      "include_colab_link": true
    },
    "kernelspec": {
      "name": "python3",
      "display_name": "Python 3"
    }
  },
  "cells": [
    {
      "cell_type": "markdown",
      "metadata": {
        "id": "view-in-github",
        "colab_type": "text"
      },
      "source": [
        "<a href=\"https://colab.research.google.com/github/kidane12/-furry-octo-potato/blob/master/Corpora_and_Vector_Spaces.ipynb\" target=\"_parent\"><img src=\"https://colab.research.google.com/assets/colab-badge.svg\" alt=\"Open In Colab\"/></a>"
      ]
    },
    {
      "metadata": {
        "id": "wAgW1UkRxpgo",
        "colab_type": "code",
        "colab": {}
      },
      "cell_type": "code",
      "source": [
        "import logging\n",
        "logging.basicConfig(format='%(asctime)s : %(levelname)s : %(message)s', level=logging.INFO)"
      ],
      "execution_count": 0,
      "outputs": []
    },
    {
      "metadata": {
        "id": "RDQJgXIlx3XX",
        "colab_type": "code",
        "colab": {
          "base_uri": "https://localhost:8080/",
          "height": 35
        },
        "outputId": "c26aed26-d6b1-4b32-d54b-7d856ee4b1eb"
      },
      "cell_type": "code",
      "source": [
        "\n",
        "import os\n",
        "import tempfile\n",
        "TEMP_FOLDER = tempfile.gettempdir()\n",
        "print('Folder \"{}\" will be used to save temporary dictionary and corpus.'.format(TEMP_FOLDER))"
      ],
      "execution_count": 2,
      "outputs": [
        {
          "output_type": "stream",
          "text": [
            "Folder \"/tmp\" will be used to save temporary dictionary and corpus.\n"
          ],
          "name": "stdout"
        }
      ]
    },
    {
      "metadata": {
        "id": "vylpvMtNyDxL",
        "colab_type": "code",
        "colab": {}
      },
      "cell_type": "code",
      "source": [
        "\n",
        "from gensim import corpora"
      ],
      "execution_count": 0,
      "outputs": []
    },
    {
      "metadata": {
        "id": "ZZXqdJRHyP39",
        "colab_type": "code",
        "colab": {
          "base_uri": "https://localhost:8080/",
          "height": 361
        },
        "outputId": "ccd5f5cc-dcd3-493e-8302-a373425c5ae3"
      },
      "cell_type": "code",
      "source": [
        "\n",
        "!pip install -U gensim"
      ],
      "execution_count": 5,
      "outputs": [
        {
          "output_type": "stream",
          "text": [
            "Requirement already up-to-date: gensim in /usr/local/lib/python3.6/dist-packages (3.6.0)\n",
            "Requirement already satisfied, skipping upgrade: numpy>=1.11.3 in /usr/local/lib/python3.6/dist-packages (from gensim) (1.14.6)\n",
            "Requirement already satisfied, skipping upgrade: smart-open>=1.2.1 in /usr/local/lib/python3.6/dist-packages (from gensim) (1.7.1)\n",
            "Requirement already satisfied, skipping upgrade: scipy>=0.18.1 in /usr/local/lib/python3.6/dist-packages (from gensim) (1.1.0)\n",
            "Requirement already satisfied, skipping upgrade: six>=1.5.0 in /usr/local/lib/python3.6/dist-packages (from gensim) (1.11.0)\n",
            "Requirement already satisfied, skipping upgrade: boto3 in /usr/local/lib/python3.6/dist-packages (from smart-open>=1.2.1->gensim) (1.9.42)\n",
            "Requirement already satisfied, skipping upgrade: requests in /usr/local/lib/python3.6/dist-packages (from smart-open>=1.2.1->gensim) (2.18.4)\n",
            "Requirement already satisfied, skipping upgrade: bz2file in /usr/local/lib/python3.6/dist-packages (from smart-open>=1.2.1->gensim) (0.98)\n",
            "Requirement already satisfied, skipping upgrade: boto>=2.32 in /usr/local/lib/python3.6/dist-packages (from smart-open>=1.2.1->gensim) (2.49.0)\n",
            "Requirement already satisfied, skipping upgrade: botocore<1.13.0,>=1.12.42 in /usr/local/lib/python3.6/dist-packages (from boto3->smart-open>=1.2.1->gensim) (1.12.42)\n",
            "Requirement already satisfied, skipping upgrade: s3transfer<0.2.0,>=0.1.10 in /usr/local/lib/python3.6/dist-packages (from boto3->smart-open>=1.2.1->gensim) (0.1.13)\n",
            "Requirement already satisfied, skipping upgrade: jmespath<1.0.0,>=0.7.1 in /usr/local/lib/python3.6/dist-packages (from boto3->smart-open>=1.2.1->gensim) (0.9.3)\n",
            "Requirement already satisfied, skipping upgrade: certifi>=2017.4.17 in /usr/local/lib/python3.6/dist-packages (from requests->smart-open>=1.2.1->gensim) (2018.10.15)\n",
            "Requirement already satisfied, skipping upgrade: chardet<3.1.0,>=3.0.2 in /usr/local/lib/python3.6/dist-packages (from requests->smart-open>=1.2.1->gensim) (3.0.4)\n",
            "Requirement already satisfied, skipping upgrade: urllib3<1.23,>=1.21.1 in /usr/local/lib/python3.6/dist-packages (from requests->smart-open>=1.2.1->gensim) (1.22)\n",
            "Requirement already satisfied, skipping upgrade: idna<2.7,>=2.5 in /usr/local/lib/python3.6/dist-packages (from requests->smart-open>=1.2.1->gensim) (2.6)\n",
            "Requirement already satisfied, skipping upgrade: docutils>=0.10 in /usr/local/lib/python3.6/dist-packages (from botocore<1.13.0,>=1.12.42->boto3->smart-open>=1.2.1->gensim) (0.14)\n",
            "Requirement already satisfied, skipping upgrade: python-dateutil<3.0.0,>=2.1; python_version >= \"2.7\" in /usr/local/lib/python3.6/dist-packages (from botocore<1.13.0,>=1.12.42->boto3->smart-open>=1.2.1->gensim) (2.5.3)\n"
          ],
          "name": "stdout"
        }
      ]
    },
    {
      "metadata": {
        "id": "qmbfBZQNyqze",
        "colab_type": "code",
        "colab": {}
      },
      "cell_type": "code",
      "source": [
        "documents = [\"Human machine interface for lab abc computer applications\",\n",
        "             \"A survey of user opinion of computer system response time\",\n",
        "             \"The EPS user interface management system\",\n",
        "             \"System and human system engineering testing of EPS\",              \n",
        "             \"Relation of user perceived response time to error measurement\",\n",
        "             \"The generation of random binary unordered trees\",\n",
        "             \"The intersection graph of paths in trees\",\n",
        "             \"Graph minors IV Widths of trees and well quasi ordering\",\n",
        "             \"Graph minors A survey\"]"
      ],
      "execution_count": 0,
      "outputs": []
    },
    {
      "metadata": {
        "id": "atNxKD0aA9yR",
        "colab_type": "code",
        "colab": {}
      },
      "cell_type": "code",
      "source": [
        ""
      ],
      "execution_count": 0,
      "outputs": []
    },
    {
      "metadata": {
        "id": "zj7xA4y1yy7n",
        "colab_type": "code",
        "colab": {}
      },
      "cell_type": "code",
      "source": [
        "stoplist = set('for a of the and to in'.split())\n",
        "texts = [[word for word in document.lower().split() if word not in stoplist]\n",
        "         for document in documents]\n",
        "\n",
        "from collections import defaultdict\n",
        "frequency = defaultdict(int)\n",
        "for text in texts:\n",
        "    for token in text:\n",
        "        frequency[token] += 1\n",
        "\n",
        "texts = [[token for token in text if frequency[token] > 1] for text in texts]\n",
        "\n",
        "from pprint import pprint\n",
        "\n"
      ],
      "execution_count": 0,
      "outputs": []
    },
    {
      "metadata": {
        "id": "gUp_JWsbzdah",
        "colab_type": "code",
        "colab": {
          "base_uri": "https://localhost:8080/",
          "height": 107
        },
        "outputId": "47a70e4d-e7f5-4598-84ec-5511998f72ef"
      },
      "cell_type": "code",
      "source": [
        "dictionary = corpora.Dictionary(texts)\n",
        "dictionary.save(os.path.join(TEMP_FOLDER, 'deerwester.dict'))  # store the dictionary, for future reference\n",
        "print(dictionary)"
      ],
      "execution_count": 10,
      "outputs": [
        {
          "output_type": "stream",
          "text": [
            "2018-11-11 22:04:22,198 : INFO : adding document #0 to Dictionary(0 unique tokens: [])\n",
            "2018-11-11 22:04:22,200 : INFO : built Dictionary(12 unique tokens: ['computer', 'human', 'interface', 'response', 'survey']...) from 9 documents (total 29 corpus positions)\n",
            "2018-11-11 22:04:22,202 : INFO : saving Dictionary object under /tmp/deerwester.dict, separately None\n",
            "2018-11-11 22:04:22,203 : INFO : saved /tmp/deerwester.dict\n"
          ],
          "name": "stderr"
        },
        {
          "output_type": "stream",
          "text": [
            "Dictionary(12 unique tokens: ['computer', 'human', 'interface', 'response', 'survey']...)\n"
          ],
          "name": "stdout"
        }
      ]
    },
    {
      "metadata": {
        "id": "HvDBkLiBzm4R",
        "colab_type": "code",
        "colab": {}
      },
      "cell_type": "code",
      "source": [
        "new_doc = \"Human computer interaction\"\n",
        "new_vec = dictionary.doc2bow(new_doc.lower().split())"
      ],
      "execution_count": 0,
      "outputs": []
    },
    {
      "metadata": {
        "id": "jUiGXi1Tz2Sr",
        "colab_type": "code",
        "colab": {
          "base_uri": "https://localhost:8080/",
          "height": 107
        },
        "outputId": "b5976b0f-858a-4033-ada9-54a08b954714"
      },
      "cell_type": "code",
      "source": [
        "corpus = [dictionary.doc2bow(text) for text in texts]\n",
        "corpora.MmCorpus.serialize(os.path.join(TEMP_FOLDER, 'deerwester.mm'), corpus)  # store to disk, for later use"
      ],
      "execution_count": 12,
      "outputs": [
        {
          "output_type": "stream",
          "text": [
            "2018-11-11 22:06:02,442 : INFO : storing corpus in Matrix Market format to /tmp/deerwester.mm\n",
            "2018-11-11 22:06:02,445 : INFO : saving sparse matrix to /tmp/deerwester.mm\n",
            "2018-11-11 22:06:02,447 : INFO : PROGRESS: saving document #0\n",
            "2018-11-11 22:06:02,450 : INFO : saved 9x12 matrix, density=25.926% (28/108)\n",
            "2018-11-11 22:06:02,452 : INFO : saving MmCorpus index to /tmp/deerwester.mm.index\n"
          ],
          "name": "stderr"
        }
      ]
    },
    {
      "metadata": {
        "id": "aO7_yW3x1FGV",
        "colab_type": "code",
        "colab": {
          "base_uri": "https://localhost:8080/",
          "height": 179
        },
        "outputId": "20d0c54a-8266-498d-8a15-9bf8b4919694"
      },
      "cell_type": "code",
      "source": [
        "for c in corpus:\n",
        "    print(c)"
      ],
      "execution_count": 13,
      "outputs": [
        {
          "output_type": "stream",
          "text": [
            "[(0, 1), (1, 1), (2, 1)]\n",
            "[(0, 1), (3, 1), (4, 1), (5, 1), (6, 1), (7, 1)]\n",
            "[(2, 1), (5, 1), (7, 1), (8, 1)]\n",
            "[(1, 1), (5, 2), (8, 1)]\n",
            "[(3, 1), (6, 1), (7, 1)]\n",
            "[(9, 1)]\n",
            "[(9, 1), (10, 1)]\n",
            "[(9, 1), (10, 1), (11, 1)]\n",
            "[(4, 1), (10, 1), (11, 1)]\n"
          ],
          "name": "stdout"
        }
      ]
    },
    {
      "metadata": {
        "id": "XBLnVy5D1H-v",
        "colab_type": "code",
        "colab": {}
      },
      "cell_type": "code",
      "source": [
        "from smart_open import smart_open\n",
        "class MyCorpus(object):\n",
        "    def __iter__(self):\n",
        "        for line in smart_open('mycorpus.txt', 'rb'):\n",
        "            # assume there's one document per line, tokens separated by whitespace\n",
        "            yield dictionary.doc2bow(line.lower().split())"
      ],
      "execution_count": 0,
      "outputs": []
    },
    {
      "metadata": {
        "id": "wA3bNHcL1OUU",
        "colab_type": "code",
        "colab": {
          "base_uri": "https://localhost:8080/",
          "height": 35
        },
        "outputId": "7eed2db9-19a5-42ed-8635-8e4874f891db"
      },
      "cell_type": "code",
      "source": [
        "corpus_memory_friendly = MyCorpus() # doesn't load the corpus into memory!\n",
        "print(corpus_memory_friendly)"
      ],
      "execution_count": 29,
      "outputs": [
        {
          "output_type": "stream",
          "text": [
            "<__main__.MyCorpus object at 0x7fb1b276be48>\n"
          ],
          "name": "stdout"
        }
      ]
    },
    {
      "metadata": {
        "id": "25ROnV3b1RDY",
        "colab_type": "code",
        "colab": {
          "base_uri": "https://localhost:8080/",
          "height": 179
        },
        "outputId": "3b172d37-f729-4f24-a09d-896ddfba00b6"
      },
      "cell_type": "code",
      "source": [
        "for vector in corpus_memory_friendly:  # load one vector into memory at a time\n",
        "    print(vector)"
      ],
      "execution_count": 31,
      "outputs": [
        {
          "output_type": "stream",
          "text": [
            "[(0, 1), (2, 1)]\n",
            "[(0, 1), (3, 1), (4, 1), (5, 1), (7, 1)]\n",
            "[(2, 1), (7, 1), (8, 1)]\n",
            "[(1, 1), (5, 1)]\n",
            "[(3, 1), (6, 1), (7, 1)]\n",
            "[]\n",
            "[(10, 1)]\n",
            "[(9, 1), (11, 1)]\n",
            "[(11, 1)]\n"
          ],
          "name": "stdout"
        }
      ]
    },
    {
      "metadata": {
        "id": "Yo9FLeNY7Yge",
        "colab_type": "code",
        "colab": {}
      },
      "cell_type": "code",
      "source": [
        "from six import iteritems\n",
        "from smart_open import smart_open"
      ],
      "execution_count": 0,
      "outputs": []
    },
    {
      "metadata": {
        "id": "mLalTdXi6bQd",
        "colab_type": "code",
        "colab": {
          "base_uri": "https://localhost:8080/",
          "height": 53
        },
        "outputId": "ac31df1e-0900-46e6-8596-d83ad2e92189"
      },
      "cell_type": "code",
      "source": [
        "dictionary = corpora.Dictionary(line.lower().split() for line in smart_open('mycorpus.txt', 'rb'))"
      ],
      "execution_count": 36,
      "outputs": [
        {
          "output_type": "stream",
          "text": [
            "2018-11-11 22:42:04,564 : INFO : adding document #0 to Dictionary(0 unique tokens: [])\n",
            "2018-11-11 22:42:04,567 : INFO : built Dictionary(53 unique tokens: ['=', '[\"human', 'abc', 'applications\",', 'computer']...) from 9 documents (total 71 corpus positions)\n"
          ],
          "name": "stderr"
        }
      ]
    },
    {
      "metadata": {
        "id": "ZIvH6Rsx7xox",
        "colab_type": "code",
        "colab": {
          "base_uri": "https://localhost:8080/",
          "height": 35
        },
        "outputId": "2c09e85c-0407-4a2e-ba51-00e9384974a8"
      },
      "cell_type": "code",
      "source": [
        "# remove stop words and words that appear only once\n",
        "stop_ids = [dictionary.token2id[stopword] for stopword in stoplist \n",
        "            if stopword in dictionary.token2id]\n",
        "once_ids = [tokenid for tokenid, docfreq in iteritems(dictionary.dfs) if docfreq == 1]\n",
        "\n",
        "# remove stop words and words that appear only once\n",
        "dictionary.filter_tokens(stop_ids + once_ids)\n",
        "print(dictionary)"
      ],
      "execution_count": 37,
      "outputs": [
        {
          "output_type": "stream",
          "text": [
            "Dictionary(9 unique tokens: ['computer', 'interface', 'response', 'system', 'user']...)\n"
          ],
          "name": "stdout"
        }
      ]
    },
    {
      "metadata": {
        "id": "0vc_AnfZ8L_p",
        "colab_type": "code",
        "colab": {
          "base_uri": "https://localhost:8080/",
          "height": 107
        },
        "outputId": "49c68c2e-ecaf-42fc-ace1-f90936d01412"
      },
      "cell_type": "code",
      "source": [
        "# create a toy corpus of 2 documents, as a plain Python list\n",
        "corpus = [[(1, 0.5)], []]  # make one document empty, for the heck of it\n",
        "\n",
        "corpora.MmCorpus.serialize(os.path.join(TEMP_FOLDER, 'corpus.mm'), corpus)"
      ],
      "execution_count": 38,
      "outputs": [
        {
          "output_type": "stream",
          "text": [
            "2018-11-11 22:44:39,536 : INFO : storing corpus in Matrix Market format to /tmp/corpus.mm\n",
            "2018-11-11 22:44:39,538 : INFO : saving sparse matrix to /tmp/corpus.mm\n",
            "2018-11-11 22:44:39,540 : INFO : PROGRESS: saving document #0\n",
            "2018-11-11 22:44:39,541 : INFO : saved 2x2 matrix, density=25.000% (1/4)\n",
            "2018-11-11 22:44:39,542 : INFO : saving MmCorpus index to /tmp/corpus.mm.index\n"
          ],
          "name": "stderr"
        }
      ]
    },
    {
      "metadata": {
        "id": "bPwFRptr8ve7",
        "colab_type": "code",
        "colab": {
          "base_uri": "https://localhost:8080/",
          "height": 197
        },
        "outputId": "d76f095b-56ae-43fa-8add-4ee31bfecea4"
      },
      "cell_type": "code",
      "source": [
        "corpora.SvmLightCorpus.serialize(os.path.join(TEMP_FOLDER, 'corpus.svmlight'), corpus)\n",
        "corpora.BleiCorpus.serialize(os.path.join(TEMP_FOLDER, 'corpus.lda-c'), corpus)\n",
        "corpora.LowCorpus.serialize(os.path.join(TEMP_FOLDER, 'corpus.low'), corpus)"
      ],
      "execution_count": 39,
      "outputs": [
        {
          "output_type": "stream",
          "text": [
            "2018-11-11 22:45:03,439 : INFO : converting corpus to SVMlight format: /tmp/corpus.svmlight\n",
            "2018-11-11 22:45:03,441 : INFO : saving SvmLightCorpus index to /tmp/corpus.svmlight.index\n",
            "2018-11-11 22:45:03,443 : INFO : no word id mapping provided; initializing from corpus\n",
            "2018-11-11 22:45:03,445 : INFO : storing corpus in Blei's LDA-C format into /tmp/corpus.lda-c\n",
            "2018-11-11 22:45:03,446 : INFO : saving vocabulary of 2 words to /tmp/corpus.lda-c.vocab\n",
            "2018-11-11 22:45:03,448 : INFO : saving BleiCorpus index to /tmp/corpus.lda-c.index\n",
            "2018-11-11 22:45:03,452 : INFO : no word id mapping provided; initializing from corpus\n",
            "2018-11-11 22:45:03,455 : INFO : storing corpus in List-Of-Words format into /tmp/corpus.low\n",
            "2018-11-11 22:45:03,459 : WARNING : List-of-words format can only save vectors with integer elements; 1 float entries were truncated to integer value\n",
            "2018-11-11 22:45:03,460 : INFO : saving LowCorpus index to /tmp/corpus.low.index\n"
          ],
          "name": "stderr"
        }
      ]
    },
    {
      "metadata": {
        "id": "1vD4MTt783o1",
        "colab_type": "code",
        "colab": {
          "base_uri": "https://localhost:8080/",
          "height": 71
        },
        "outputId": "c7984ff6-6316-46c1-bd90-e00e56db5541"
      },
      "cell_type": "code",
      "source": [
        "corpus = corpora.MmCorpus(os.path.join(TEMP_FOLDER, 'corpus.mm'))"
      ],
      "execution_count": 40,
      "outputs": [
        {
          "output_type": "stream",
          "text": [
            "2018-11-11 22:45:28,127 : INFO : loaded corpus index from /tmp/corpus.mm.index\n",
            "2018-11-11 22:45:28,129 : INFO : initializing cython corpus reader from /tmp/corpus.mm\n",
            "2018-11-11 22:45:28,131 : INFO : accepted corpus with 2 documents, 2 features, 1 non-zero entries\n"
          ],
          "name": "stderr"
        }
      ]
    },
    {
      "metadata": {
        "id": "w09YgQM-87F7",
        "colab_type": "code",
        "colab": {
          "base_uri": "https://localhost:8080/",
          "height": 35
        },
        "outputId": "7fc336ea-fa6a-4c35-a7d0-18608dfebd8f"
      },
      "cell_type": "code",
      "source": [
        "print(corpus)\n"
      ],
      "execution_count": 41,
      "outputs": [
        {
          "output_type": "stream",
          "text": [
            "MmCorpus(2 documents, 2 features, 1 non-zero entries)\n"
          ],
          "name": "stdout"
        }
      ]
    },
    {
      "metadata": {
        "id": "VgBGIIwp9HoS",
        "colab_type": "code",
        "colab": {
          "base_uri": "https://localhost:8080/",
          "height": 35
        },
        "outputId": "9e3562f6-aaee-4b33-8586-f0be02296e5f"
      },
      "cell_type": "code",
      "source": [
        "print(list(corpus))"
      ],
      "execution_count": 43,
      "outputs": [
        {
          "output_type": "stream",
          "text": [
            "[[(1, 0.5)], []]\n"
          ],
          "name": "stdout"
        }
      ]
    },
    {
      "metadata": {
        "id": "ZUgbg3809f8z",
        "colab_type": "code",
        "colab": {}
      },
      "cell_type": "code",
      "source": [
        "import gensim\n",
        "import numpy as np\n",
        "numpy_matrix = np.random.randint(10, size=[5,2])\n",
        "corpus = gensim.matutils.Dense2Corpus(numpy_matrix)\n",
        "numpy_matrix_dense = gensim.matutils.corpus2dense(corpus, num_terms=10)"
      ],
      "execution_count": 0,
      "outputs": []
    },
    {
      "metadata": {
        "id": "8CwhjoGM9h9E",
        "colab_type": "code",
        "colab": {
          "base_uri": "https://localhost:8080/",
          "height": 197
        },
        "outputId": "015eaa9b-3d35-454c-aa2c-1658c9027c93"
      },
      "cell_type": "code",
      "source": [
        "print(numpy_matrix_dense)"
      ],
      "execution_count": 45,
      "outputs": [
        {
          "output_type": "stream",
          "text": [
            "[[2. 7.]\n",
            " [1. 8.]\n",
            " [5. 2.]\n",
            " [3. 7.]\n",
            " [2. 0.]\n",
            " [0. 0.]\n",
            " [0. 0.]\n",
            " [0. 0.]\n",
            " [0. 0.]\n",
            " [0. 0.]]\n"
          ],
          "name": "stdout"
        }
      ]
    },
    {
      "metadata": {
        "id": "Vq--waWK9wNe",
        "colab_type": "code",
        "colab": {
          "base_uri": "https://localhost:8080/",
          "height": 125
        },
        "outputId": "33b9a80a-7f72-4825-9781-db49d18aed5f"
      },
      "cell_type": "code",
      "source": [
        "from gensim import corpora, models, similarities\n",
        "if (os.path.exists(\"/tmp/deerwester.dict\")):\n",
        "  dictionary = corpora.Dictionary.load('/tmp/deerwester.dict')\n",
        "  corpus = corpora.MmCorpus('/tmp/deerwester.mm')\n",
        "  print(\"Used files generated from first tutorial\")\n",
        "else:\n",
        "  print(\"Please run first tutorial to generate data set\")"
      ],
      "execution_count": 46,
      "outputs": [
        {
          "output_type": "stream",
          "text": [
            "2018-11-11 22:49:55,428 : INFO : loading Dictionary object from /tmp/deerwester.dict\n",
            "2018-11-11 22:49:55,431 : INFO : loaded /tmp/deerwester.dict\n",
            "2018-11-11 22:49:55,433 : INFO : loaded corpus index from /tmp/deerwester.mm.index\n",
            "2018-11-11 22:49:55,433 : INFO : initializing cython corpus reader from /tmp/deerwester.mm\n",
            "2018-11-11 22:49:55,434 : INFO : accepted corpus with 9 documents, 12 features, 28 non-zero entries\n"
          ],
          "name": "stderr"
        },
        {
          "output_type": "stream",
          "text": [
            "Used files generated from first tutorial\n"
          ],
          "name": "stdout"
        }
      ]
    },
    {
      "metadata": {
        "id": "WEde2GnI9_Vl",
        "colab_type": "code",
        "colab": {
          "base_uri": "https://localhost:8080/",
          "height": 35
        },
        "outputId": "7c186263-2047-4242-fbc6-14555fb3a251"
      },
      "cell_type": "code",
      "source": [
        "print(corpus)"
      ],
      "execution_count": 48,
      "outputs": [
        {
          "output_type": "stream",
          "text": [
            "MmCorpus(9 documents, 12 features, 28 non-zero entries)\n"
          ],
          "name": "stdout"
        }
      ]
    },
    {
      "metadata": {
        "id": "KZ_tHckr-V-s",
        "colab_type": "code",
        "colab": {
          "base_uri": "https://localhost:8080/",
          "height": 71
        },
        "outputId": "9e4bbb4b-d49a-4102-c8d3-4b848f5e48c9"
      },
      "cell_type": "code",
      "source": [
        "tfidf = models.TfidfModel(corpus)"
      ],
      "execution_count": 49,
      "outputs": [
        {
          "output_type": "stream",
          "text": [
            "2018-11-11 22:51:53,462 : INFO : collecting document frequencies\n",
            "2018-11-11 22:51:53,464 : INFO : PROGRESS: processing document #0\n",
            "2018-11-11 22:51:53,467 : INFO : calculating IDF weights for 9 documents and 11 features (28 matrix non-zeros)\n"
          ],
          "name": "stderr"
        }
      ]
    },
    {
      "metadata": {
        "id": "WU8saT2y-YIv",
        "colab_type": "code",
        "colab": {
          "base_uri": "https://localhost:8080/",
          "height": 35
        },
        "outputId": "4dead0b6-1ccb-4071-c4cb-38aa293fc4d5"
      },
      "cell_type": "code",
      "source": [
        "print(tfidf)"
      ],
      "execution_count": 50,
      "outputs": [
        {
          "output_type": "stream",
          "text": [
            "TfidfModel(num_docs=9, num_nnz=28)\n"
          ],
          "name": "stdout"
        }
      ]
    },
    {
      "metadata": {
        "id": "Y4v0ey-w--pW",
        "colab_type": "code",
        "colab": {
          "base_uri": "https://localhost:8080/",
          "height": 35
        },
        "outputId": "baaef379-8c8d-47ed-cefc-a00195a08d22"
      },
      "cell_type": "code",
      "source": [
        "doc_bow = [(0, 1), (1, 1)]\n",
        "print(tfidf[doc_bow]) # step 2 -- use the model to transform vectors"
      ],
      "execution_count": 52,
      "outputs": [
        {
          "output_type": "stream",
          "text": [
            "[(0, 0.7071067811865476), (1, 0.7071067811865476)]\n"
          ],
          "name": "stdout"
        }
      ]
    },
    {
      "metadata": {
        "id": "z9UaGwm0_LGL",
        "colab_type": "code",
        "colab": {
          "base_uri": "https://localhost:8080/",
          "height": 179
        },
        "outputId": "5b16a665-16d3-45f1-a683-8a3127c030ea"
      },
      "cell_type": "code",
      "source": [
        "corpus_tfidf = tfidf[corpus]\n",
        "for doc in corpus_tfidf:\n",
        "  print(doc)"
      ],
      "execution_count": 53,
      "outputs": [
        {
          "output_type": "stream",
          "text": [
            "[(0, 0.5773502691896257), (1, 0.5773502691896257), (2, 0.5773502691896257)]\n",
            "[(0, 0.44424552527467476), (3, 0.44424552527467476), (4, 0.44424552527467476), (5, 0.3244870206138555), (6, 0.44424552527467476), (7, 0.3244870206138555)]\n",
            "[(2, 0.5710059809418182), (5, 0.4170757362022777), (7, 0.4170757362022777), (8, 0.5710059809418182)]\n",
            "[(1, 0.49182558987264147), (5, 0.7184811607083769), (8, 0.49182558987264147)]\n",
            "[(3, 0.6282580468670046), (6, 0.6282580468670046), (7, 0.45889394536615247)]\n",
            "[(9, 1.0)]\n",
            "[(9, 0.7071067811865475), (10, 0.7071067811865475)]\n",
            "[(9, 0.5080429008916749), (10, 0.5080429008916749), (11, 0.695546419520037)]\n",
            "[(4, 0.6282580468670046), (10, 0.45889394536615247), (11, 0.6282580468670046)]\n"
          ],
          "name": "stdout"
        }
      ]
    },
    {
      "metadata": {
        "id": "5N6D11X6_QY4",
        "colab_type": "code",
        "colab": {
          "base_uri": "https://localhost:8080/",
          "height": 253
        },
        "outputId": "f8029d94-9419-4baa-f92f-6a826f7eac4a"
      },
      "cell_type": "code",
      "source": [
        "lsi = models.LsiModel(corpus_tfidf, id2word=dictionary, num_topics=2) # initialize an LSI transformation\n",
        "corpus_lsi = lsi[corpus_tfidf] # create a double wrapper over the original corpus: bow->tfidf->fold-in-lsi"
      ],
      "execution_count": 54,
      "outputs": [
        {
          "output_type": "stream",
          "text": [
            "2018-11-11 22:58:02,973 : INFO : using serial LSI version on this node\n",
            "2018-11-11 22:58:02,975 : INFO : updating model with new documents\n",
            "2018-11-11 22:58:02,978 : INFO : preparing a new chunk of documents\n",
            "2018-11-11 22:58:02,989 : INFO : using 100 extra samples and 2 power iterations\n",
            "2018-11-11 22:58:02,991 : INFO : 1st phase: constructing (12, 102) action matrix\n",
            "2018-11-11 22:58:02,999 : INFO : orthonormalizing (12, 102) action matrix\n",
            "2018-11-11 22:58:03,026 : INFO : 2nd phase: running dense svd on (12, 9) matrix\n",
            "2018-11-11 22:58:03,036 : INFO : computing the final decomposition\n",
            "2018-11-11 22:58:03,038 : INFO : keeping 2 factors (discarding 47.565% of energy spectrum)\n",
            "2018-11-11 22:58:03,045 : INFO : processed documents up to #9\n",
            "2018-11-11 22:58:03,049 : INFO : topic #0(1.594): 0.703*\"trees\" + 0.538*\"graph\" + 0.402*\"minors\" + 0.187*\"survey\" + 0.061*\"system\" + 0.060*\"time\" + 0.060*\"response\" + 0.058*\"user\" + 0.049*\"computer\" + 0.035*\"interface\"\n",
            "2018-11-11 22:58:03,052 : INFO : topic #1(1.476): -0.460*\"system\" + -0.373*\"user\" + -0.332*\"eps\" + -0.328*\"interface\" + -0.320*\"time\" + -0.320*\"response\" + -0.293*\"computer\" + -0.280*\"human\" + -0.171*\"survey\" + 0.161*\"trees\"\n"
          ],
          "name": "stderr"
        }
      ]
    },
    {
      "metadata": {
        "id": "zJdBeBcO_4M6",
        "colab_type": "code",
        "colab": {
          "base_uri": "https://localhost:8080/",
          "height": 145
        },
        "outputId": "7229c044-2c60-419f-c2b2-6d30f5d6d343"
      },
      "cell_type": "code",
      "source": [
        "lsi.print_topics(2)"
      ],
      "execution_count": 55,
      "outputs": [
        {
          "output_type": "stream",
          "text": [
            "2018-11-11 22:58:43,904 : INFO : topic #0(1.594): 0.703*\"trees\" + 0.538*\"graph\" + 0.402*\"minors\" + 0.187*\"survey\" + 0.061*\"system\" + 0.060*\"time\" + 0.060*\"response\" + 0.058*\"user\" + 0.049*\"computer\" + 0.035*\"interface\"\n",
            "2018-11-11 22:58:43,905 : INFO : topic #1(1.476): -0.460*\"system\" + -0.373*\"user\" + -0.332*\"eps\" + -0.328*\"interface\" + -0.320*\"time\" + -0.320*\"response\" + -0.293*\"computer\" + -0.280*\"human\" + -0.171*\"survey\" + 0.161*\"trees\"\n"
          ],
          "name": "stderr"
        },
        {
          "output_type": "execute_result",
          "data": {
            "text/plain": [
              "[(0,\n",
              "  '0.703*\"trees\" + 0.538*\"graph\" + 0.402*\"minors\" + 0.187*\"survey\" + 0.061*\"system\" + 0.060*\"time\" + 0.060*\"response\" + 0.058*\"user\" + 0.049*\"computer\" + 0.035*\"interface\"'),\n",
              " (1,\n",
              "  '-0.460*\"system\" + -0.373*\"user\" + -0.332*\"eps\" + -0.328*\"interface\" + -0.320*\"time\" + -0.320*\"response\" + -0.293*\"computer\" + -0.280*\"human\" + -0.171*\"survey\" + 0.161*\"trees\"')]"
            ]
          },
          "metadata": {
            "tags": []
          },
          "execution_count": 55
        }
      ]
    },
    {
      "metadata": {
        "id": "ZM17A5uiA_jD",
        "colab_type": "code",
        "colab": {
          "base_uri": "https://localhost:8080/",
          "height": 179
        },
        "outputId": "426bd008-c79d-47c4-f084-13c18ec42589"
      },
      "cell_type": "code",
      "source": [
        "for doc in corpus_lsi: # both bow->tfidf and tfidf->lsi transformations are actually executed here, on the fly\n",
        "  print(doc)"
      ],
      "execution_count": 56,
      "outputs": [
        {
          "output_type": "stream",
          "text": [
            "[(0, 0.06600783396090637), (1, -0.5200703306361844)]\n",
            "[(0, 0.19667592859142796), (1, -0.7609563167700043)]\n",
            "[(0, 0.08992639972446795), (1, -0.7241860626752498)]\n",
            "[(0, 0.07585847652178504), (1, -0.6320551586003417)]\n",
            "[(0, 0.10150299184980344), (1, -0.5737308483002957)]\n",
            "[(0, 0.7032108939378303), (1, 0.16115180214026092)]\n",
            "[(0, 0.8774787673119822), (1, 0.1675890686465979)]\n",
            "[(0, 0.9098624686818568), (1, 0.14086553628719403)]\n",
            "[(0, 0.6165825350569277), (1, -0.05392907566389127)]\n"
          ],
          "name": "stdout"
        }
      ]
    },
    {
      "metadata": {
        "id": "F6dxFp6hBKhQ",
        "colab_type": "code",
        "colab": {
          "base_uri": "https://localhost:8080/",
          "height": 125
        },
        "outputId": "9b264444-eae4-4450-b847-2885fb43329d"
      },
      "cell_type": "code",
      "source": [
        "lsi.save('/tmp/model.lsi') # same for tfidf, lda, ..."
      ],
      "execution_count": 57,
      "outputs": [
        {
          "output_type": "stream",
          "text": [
            "2018-11-11 23:04:13,326 : INFO : saving Projection object under /tmp/model.lsi.projection, separately None\n",
            "2018-11-11 23:04:13,329 : INFO : saved /tmp/model.lsi.projection\n",
            "2018-11-11 23:04:13,331 : INFO : saving LsiModel object under /tmp/model.lsi, separately None\n",
            "2018-11-11 23:04:13,333 : INFO : not storing attribute projection\n",
            "2018-11-11 23:04:13,337 : INFO : not storing attribute dispatcher\n",
            "2018-11-11 23:04:13,339 : INFO : saved /tmp/model.lsi\n"
          ],
          "name": "stderr"
        }
      ]
    },
    {
      "metadata": {
        "id": "UuCpcuA7BMJr",
        "colab_type": "code",
        "colab": {
          "base_uri": "https://localhost:8080/",
          "height": 143
        },
        "outputId": "47810fdd-08b7-4cee-a4f5-83f2bbb10102"
      },
      "cell_type": "code",
      "source": [
        "lsi = models.LsiModel.load('/tmp/model.lsi')"
      ],
      "execution_count": 58,
      "outputs": [
        {
          "output_type": "stream",
          "text": [
            "2018-11-11 23:04:26,735 : INFO : loading LsiModel object from /tmp/model.lsi\n",
            "2018-11-11 23:04:26,739 : INFO : loading id2word recursively from /tmp/model.lsi.id2word.* with mmap=None\n",
            "2018-11-11 23:04:26,741 : INFO : setting ignored attribute projection to None\n",
            "2018-11-11 23:04:26,744 : INFO : setting ignored attribute dispatcher to None\n",
            "2018-11-11 23:04:26,748 : INFO : loaded /tmp/model.lsi\n",
            "2018-11-11 23:04:26,749 : INFO : loading LsiModel object from /tmp/model.lsi.projection\n",
            "2018-11-11 23:04:26,751 : INFO : loaded /tmp/model.lsi.projection\n"
          ],
          "name": "stderr"
        }
      ]
    },
    {
      "metadata": {
        "id": "NzXZSvN3CYnX",
        "colab_type": "code",
        "colab": {
          "base_uri": "https://localhost:8080/",
          "height": 125
        },
        "outputId": "118d1e33-76c0-4082-f486-0d1edb707f2d"
      },
      "cell_type": "code",
      "source": [
        "from gensim import corpora, models, similarities\n",
        "dictionary = corpora.Dictionary.load('/tmp/deerwester.dict')\n",
        "corpus = corpora.MmCorpus('/tmp/deerwester.mm') # comes from the first tutorial, \"From strings to vectors\"\n",
        "print(corpus)"
      ],
      "execution_count": 59,
      "outputs": [
        {
          "output_type": "stream",
          "text": [
            "2018-11-11 23:09:44,190 : INFO : loading Dictionary object from /tmp/deerwester.dict\n",
            "2018-11-11 23:09:44,193 : INFO : loaded /tmp/deerwester.dict\n",
            "2018-11-11 23:09:44,194 : INFO : loaded corpus index from /tmp/deerwester.mm.index\n",
            "2018-11-11 23:09:44,195 : INFO : initializing cython corpus reader from /tmp/deerwester.mm\n",
            "2018-11-11 23:09:44,196 : INFO : accepted corpus with 9 documents, 12 features, 28 non-zero entries\n"
          ],
          "name": "stderr"
        },
        {
          "output_type": "stream",
          "text": [
            "MmCorpus(9 documents, 12 features, 28 non-zero entries)\n"
          ],
          "name": "stdout"
        }
      ]
    },
    {
      "metadata": {
        "id": "wld7pTeqCrQp",
        "colab_type": "code",
        "colab": {
          "base_uri": "https://localhost:8080/",
          "height": 253
        },
        "outputId": "575c539e-ebe9-4c9e-aa95-8676e230f143"
      },
      "cell_type": "code",
      "source": [
        "lsi = models.LsiModel(corpus, id2word=dictionary, num_topics=2)"
      ],
      "execution_count": 60,
      "outputs": [
        {
          "output_type": "stream",
          "text": [
            "2018-11-11 23:10:54,292 : INFO : using serial LSI version on this node\n",
            "2018-11-11 23:10:54,294 : INFO : updating model with new documents\n",
            "2018-11-11 23:10:54,295 : INFO : preparing a new chunk of documents\n",
            "2018-11-11 23:10:54,298 : INFO : using 100 extra samples and 2 power iterations\n",
            "2018-11-11 23:10:54,300 : INFO : 1st phase: constructing (12, 102) action matrix\n",
            "2018-11-11 23:10:54,304 : INFO : orthonormalizing (12, 102) action matrix\n",
            "2018-11-11 23:10:54,307 : INFO : 2nd phase: running dense svd on (12, 9) matrix\n",
            "2018-11-11 23:10:54,310 : INFO : computing the final decomposition\n",
            "2018-11-11 23:10:54,312 : INFO : keeping 2 factors (discarding 43.156% of energy spectrum)\n",
            "2018-11-11 23:10:54,314 : INFO : processed documents up to #9\n",
            "2018-11-11 23:10:54,316 : INFO : topic #0(3.341): 0.644*\"system\" + 0.404*\"user\" + 0.301*\"eps\" + 0.265*\"time\" + 0.265*\"response\" + 0.240*\"computer\" + 0.221*\"human\" + 0.206*\"survey\" + 0.198*\"interface\" + 0.036*\"graph\"\n",
            "2018-11-11 23:10:54,318 : INFO : topic #1(2.542): 0.623*\"graph\" + 0.490*\"trees\" + 0.451*\"minors\" + 0.274*\"survey\" + -0.167*\"system\" + -0.141*\"eps\" + -0.113*\"human\" + 0.107*\"response\" + 0.107*\"time\" + -0.072*\"interface\"\n"
          ],
          "name": "stderr"
        }
      ]
    },
    {
      "metadata": {
        "id": "Fl-DtQhYCvkj",
        "colab_type": "code",
        "colab": {}
      },
      "cell_type": "code",
      "source": [
        "doc = \"Human computer interaction\""
      ],
      "execution_count": 0,
      "outputs": []
    },
    {
      "metadata": {
        "id": "8BoVLdGzC3Rn",
        "colab_type": "code",
        "colab": {
          "base_uri": "https://localhost:8080/",
          "height": 35
        },
        "outputId": "7bc83e4b-84e4-46f0-af9e-8a9ae136099b"
      },
      "cell_type": "code",
      "source": [
        "vec_bow = dictionary.doc2bow(doc.lower().split())\n",
        "vec_lsi = lsi[vec_bow] # convert the query to LSI space\n",
        "print(vec_lsi)"
      ],
      "execution_count": 62,
      "outputs": [
        {
          "output_type": "stream",
          "text": [
            "[(0, 0.4618210045327159), (1, -0.07002766527900015)]\n"
          ],
          "name": "stdout"
        }
      ]
    },
    {
      "metadata": {
        "id": "fN9GCEDyDaNL",
        "colab_type": "code",
        "colab": {
          "base_uri": "https://localhost:8080/",
          "height": 109
        },
        "outputId": "d8b98e3e-1044-4c9c-f00d-d01ecb425980"
      },
      "cell_type": "code",
      "source": [
        "index = similarities.MatrixSimilarity(lsi[corpus])"
      ],
      "execution_count": 63,
      "outputs": [
        {
          "output_type": "stream",
          "text": [
            "2018-11-11 23:14:02,277 : WARNING : scanning corpus to determine the number of features (consider setting `num_features` explicitly)\n",
            "2018-11-11 23:14:02,280 : INFO : creating matrix with 9 documents and 2 features\n",
            "/usr/local/lib/python3.6/dist-packages/gensim/matutils.py:737: FutureWarning: Conversion of the second argument of issubdtype from `int` to `np.signedinteger` is deprecated. In future, it will be treated as `np.int64 == np.dtype(int).type`.\n",
            "  if np.issubdtype(vec.dtype, np.int):\n"
          ],
          "name": "stderr"
        }
      ]
    },
    {
      "metadata": {
        "id": "keRZlz44Deo0",
        "colab_type": "code",
        "colab": {
          "base_uri": "https://localhost:8080/",
          "height": 89
        },
        "outputId": "556ae07e-286c-482b-bab2-955b42473363"
      },
      "cell_type": "code",
      "source": [
        "index.save('/tmp/deerwester.index')\n",
        "index = similarities.MatrixSimilarity.load('/tmp/deerwester.index')"
      ],
      "execution_count": 64,
      "outputs": [
        {
          "output_type": "stream",
          "text": [
            "2018-11-11 23:14:51,855 : INFO : saving MatrixSimilarity object under /tmp/deerwester.index, separately None\n",
            "2018-11-11 23:14:51,857 : INFO : saved /tmp/deerwester.index\n",
            "2018-11-11 23:14:51,859 : INFO : loading MatrixSimilarity object from /tmp/deerwester.index\n",
            "2018-11-11 23:14:51,861 : INFO : loaded /tmp/deerwester.index\n"
          ],
          "name": "stderr"
        }
      ]
    },
    {
      "metadata": {
        "id": "LUfiZIjaDoLZ",
        "colab_type": "code",
        "colab": {
          "base_uri": "https://localhost:8080/",
          "height": 35
        },
        "outputId": "d21d7cad-b62b-4321-9d3a-48dfc3bca5c8"
      },
      "cell_type": "code",
      "source": [
        "print(index)"
      ],
      "execution_count": 65,
      "outputs": [
        {
          "output_type": "stream",
          "text": [
            "MatrixSimilarity<9 docs, 2 features>\n"
          ],
          "name": "stdout"
        }
      ]
    },
    {
      "metadata": {
        "id": "TTPENzqiD87p",
        "colab_type": "code",
        "colab": {}
      },
      "cell_type": "code",
      "source": [
        "sims = index[vec_lsi] # perform a similarity query against the corpus"
      ],
      "execution_count": 0,
      "outputs": []
    },
    {
      "metadata": {
        "id": "8kQCzfdmEOBk",
        "colab_type": "code",
        "colab": {
          "base_uri": "https://localhost:8080/",
          "height": 35
        },
        "outputId": "4ee1e2af-40f0-4510-a6bf-8858ce0e5af8"
      },
      "cell_type": "code",
      "source": [
        "print(list(enumerate(sims)))"
      ],
      "execution_count": 67,
      "outputs": [
        {
          "output_type": "stream",
          "text": [
            "[(0, 0.998093), (1, 0.93748635), (2, 0.9984453), (3, 0.9865886), (4, 0.90755945), (5, -0.12416792), (6, -0.10639259), (7, -0.09879464), (8, 0.050041765)]\n"
          ],
          "name": "stdout"
        }
      ]
    },
    {
      "metadata": {
        "id": "MSo8oOGLEt74",
        "colab_type": "code",
        "colab": {}
      },
      "cell_type": "code",
      "source": [
        "sims = sorted(enumerate(sims), key=lambda item: -item[1])"
      ],
      "execution_count": 0,
      "outputs": []
    },
    {
      "metadata": {
        "id": "4ZIA0L_dEyPT",
        "colab_type": "code",
        "colab": {
          "base_uri": "https://localhost:8080/",
          "height": 35
        },
        "outputId": "d837fbd9-3beb-40b9-ecdf-06cdce2dcff9"
      },
      "cell_type": "code",
      "source": [
        "print(sims)"
      ],
      "execution_count": 69,
      "outputs": [
        {
          "output_type": "stream",
          "text": [
            "[(2, 0.9984453), (0, 0.998093), (3, 0.9865886), (1, 0.93748635), (4, 0.90755945), (8, 0.050041765), (7, -0.09879464), (6, -0.10639259), (5, -0.12416792)]\n"
          ],
          "name": "stdout"
        }
      ]
    }
  ]
}