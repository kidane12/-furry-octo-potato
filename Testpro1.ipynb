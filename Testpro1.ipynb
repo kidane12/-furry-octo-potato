{
  "nbformat": 4,
  "nbformat_minor": 0,
  "metadata": {
    "colab": {
      "name": "Testpro1.ipynb",
      "version": "0.3.2",
      "provenance": [],
      "include_colab_link": true
    },
    "kernelspec": {
      "name": "python3",
      "display_name": "Python 3"
    }
  },
  "cells": [
    {
      "cell_type": "markdown",
      "metadata": {
        "id": "view-in-github",
        "colab_type": "text"
      },
      "source": [
        "<a href=\"https://colab.research.google.com/github/kidane12/-furry-octo-potato/blob/master/Testpro1.ipynb\" target=\"_parent\"><img src=\"https://colab.research.google.com/assets/colab-badge.svg\" alt=\"Open In Colab\"/></a>"
      ]
    },
    {
      "metadata": {
        "id": "ttqOM6CJzb-d",
        "colab_type": "code",
        "colab": {
          "base_uri": "https://localhost:8080/",
          "height": 748
        },
        "outputId": "be3f2ba4-58a0-43bf-c14f-62066cb8d594"
      },
      "cell_type": "code",
      "source": [
        "!pip3 install nltk\n",
        "!pip install --upgrade gensim\n"
      ],
      "execution_count": 35,
      "outputs": [
        {
          "output_type": "stream",
          "text": [
            "Requirement already satisfied: nltk in /usr/local/lib/python3.6/dist-packages (3.2.5)\n",
            "Requirement already satisfied: six in /usr/local/lib/python3.6/dist-packages (from nltk) (1.11.0)\n",
            "Collecting gensim\n",
            "\u001b[?25l  Downloading https://files.pythonhosted.org/packages/27/a4/d10c0acc8528d838cda5eede0ee9c784caa598dbf40bd0911ff8d067a7eb/gensim-3.6.0-cp36-cp36m-manylinux1_x86_64.whl (23.6MB)\n",
            "\u001b[K    100% |████████████████████████████████| 23.6MB 1.5MB/s \n",
            "\u001b[?25hRequirement already satisfied, skipping upgrade: six>=1.5.0 in /usr/local/lib/python3.6/dist-packages (from gensim) (1.11.0)\n",
            "Requirement already satisfied, skipping upgrade: scipy>=0.18.1 in /usr/local/lib/python3.6/dist-packages (from gensim) (1.1.0)\n",
            "Requirement already satisfied, skipping upgrade: numpy>=1.11.3 in /usr/local/lib/python3.6/dist-packages (from gensim) (1.14.6)\n",
            "Collecting smart-open>=1.2.1 (from gensim)\n",
            "  Downloading https://files.pythonhosted.org/packages/4b/1f/6f27e3682124de63ac97a0a5876da6186de6c19410feab66c1543afab055/smart_open-1.7.1.tar.gz\n",
            "Collecting boto>=2.32 (from smart-open>=1.2.1->gensim)\n",
            "\u001b[?25l  Downloading https://files.pythonhosted.org/packages/23/10/c0b78c27298029e4454a472a1919bde20cb182dab1662cec7f2ca1dcc523/boto-2.49.0-py2.py3-none-any.whl (1.4MB)\n",
            "\u001b[K    100% |████████████████████████████████| 1.4MB 14.9MB/s \n",
            "\u001b[?25hCollecting bz2file (from smart-open>=1.2.1->gensim)\n",
            "  Downloading https://files.pythonhosted.org/packages/61/39/122222b5e85cd41c391b68a99ee296584b2a2d1d233e7ee32b4532384f2d/bz2file-0.98.tar.gz\n",
            "Requirement already satisfied, skipping upgrade: requests in /usr/local/lib/python3.6/dist-packages (from smart-open>=1.2.1->gensim) (2.18.4)\n",
            "Collecting boto3 (from smart-open>=1.2.1->gensim)\n",
            "\u001b[?25l  Downloading https://files.pythonhosted.org/packages/be/45/46d6a7957636ea342226c9a8a5ad3dd0ce9c8d60a787dc596fd62c679d75/boto3-1.9.48-py2.py3-none-any.whl (128kB)\n",
            "\u001b[K    100% |████████████████████████████████| 133kB 24.9MB/s \n",
            "\u001b[?25hRequirement already satisfied, skipping upgrade: urllib3<1.23,>=1.21.1 in /usr/local/lib/python3.6/dist-packages (from requests->smart-open>=1.2.1->gensim) (1.22)\n",
            "Requirement already satisfied, skipping upgrade: chardet<3.1.0,>=3.0.2 in /usr/local/lib/python3.6/dist-packages (from requests->smart-open>=1.2.1->gensim) (3.0.4)\n",
            "Requirement already satisfied, skipping upgrade: idna<2.7,>=2.5 in /usr/local/lib/python3.6/dist-packages (from requests->smart-open>=1.2.1->gensim) (2.6)\n",
            "Requirement already satisfied, skipping upgrade: certifi>=2017.4.17 in /usr/local/lib/python3.6/dist-packages (from requests->smart-open>=1.2.1->gensim) (2018.10.15)\n",
            "Collecting botocore<1.13.0,>=1.12.48 (from boto3->smart-open>=1.2.1->gensim)\n",
            "\u001b[?25l  Downloading https://files.pythonhosted.org/packages/b0/ff/eae3b8e2c6ee63ea8451af78ff31d3fe0749fbc01bc498334a4893e58b80/botocore-1.12.48-py2.py3-none-any.whl (4.8MB)\n",
            "\u001b[K    100% |████████████████████████████████| 4.8MB 6.5MB/s \n",
            "\u001b[?25hCollecting jmespath<1.0.0,>=0.7.1 (from boto3->smart-open>=1.2.1->gensim)\n",
            "  Downloading https://files.pythonhosted.org/packages/b7/31/05c8d001f7f87f0f07289a5fc0fc3832e9a57f2dbd4d3b0fee70e0d51365/jmespath-0.9.3-py2.py3-none-any.whl\n",
            "Collecting s3transfer<0.2.0,>=0.1.10 (from boto3->smart-open>=1.2.1->gensim)\n",
            "\u001b[?25l  Downloading https://files.pythonhosted.org/packages/d7/14/2a0004d487464d120c9fb85313a75cd3d71a7506955be458eebfe19a6b1d/s3transfer-0.1.13-py2.py3-none-any.whl (59kB)\n",
            "\u001b[K    100% |████████████████████████████████| 61kB 25.1MB/s \n",
            "\u001b[?25hRequirement already satisfied, skipping upgrade: python-dateutil<3.0.0,>=2.1; python_version >= \"2.7\" in /usr/local/lib/python3.6/dist-packages (from botocore<1.13.0,>=1.12.48->boto3->smart-open>=1.2.1->gensim) (2.5.3)\n",
            "Collecting docutils>=0.10 (from botocore<1.13.0,>=1.12.48->boto3->smart-open>=1.2.1->gensim)\n",
            "\u001b[?25l  Downloading https://files.pythonhosted.org/packages/36/fa/08e9e6e0e3cbd1d362c3bbee8d01d0aedb2155c4ac112b19ef3cae8eed8d/docutils-0.14-py3-none-any.whl (543kB)\n",
            "\u001b[K    100% |████████████████████████████████| 552kB 26.9MB/s \n",
            "\u001b[?25hBuilding wheels for collected packages: smart-open, bz2file\n",
            "  Running setup.py bdist_wheel for smart-open ... \u001b[?25l-\b \bdone\n",
            "\u001b[?25h  Stored in directory: /root/.cache/pip/wheels/23/00/44/e5b939f7a80c04e32297dbd6d96fa3065af89ecf57e2b5f89f\n",
            "  Running setup.py bdist_wheel for bz2file ... \u001b[?25l-\b \bdone\n",
            "\u001b[?25h  Stored in directory: /root/.cache/pip/wheels/81/75/d6/e1317bf09bf1af5a30befc2a007869fa6e1f516b8f7c591cb9\n",
            "Successfully built smart-open bz2file\n",
            "Installing collected packages: boto, bz2file, jmespath, docutils, botocore, s3transfer, boto3, smart-open, gensim\n",
            "Successfully installed boto-2.49.0 boto3-1.9.48 botocore-1.12.48 bz2file-0.98 docutils-0.14 gensim-3.6.0 jmespath-0.9.3 s3transfer-0.1.13 smart-open-1.7.1\n"
          ],
          "name": "stdout"
        }
      ]
    },
    {
      "metadata": {
        "id": "RNLkJbXc538b",
        "colab_type": "code",
        "colab": {
          "base_uri": "https://localhost:8080/",
          "height": 136
        },
        "outputId": "1b9fcc61-ee3e-4230-b44d-8e73af1c202f"
      },
      "cell_type": "code",
      "source": [
        "import nltk\n",
        "import json\n",
        "from pprint import pprint\n",
        "from nltk.corpus import stopwords\n",
        "import os\n",
        "from pprint import pprint\n",
        "from gensim import corpora,similarities\n",
        "from gensim.models import LsiModel\n",
        "nltk.download('stopwords')\n",
        "nltk.download('averaged_perceptron_tagger')"
      ],
      "execution_count": 59,
      "outputs": [
        {
          "output_type": "stream",
          "text": [
            "[nltk_data] Downloading package stopwords to /root/nltk_data...\n",
            "[nltk_data]   Package stopwords is already up-to-date!\n",
            "[nltk_data] Downloading package averaged_perceptron_tagger to\n",
            "[nltk_data]     /root/nltk_data...\n",
            "[nltk_data]   Package averaged_perceptron_tagger is already up-to-\n",
            "[nltk_data]       date!\n"
          ],
          "name": "stdout"
        },
        {
          "output_type": "execute_result",
          "data": {
            "text/plain": [
              "True"
            ]
          },
          "metadata": {
            "tags": []
          },
          "execution_count": 59
        }
      ]
    },
    {
      "metadata": {
        "id": "ftesn3Jxzkp0",
        "colab_type": "code",
        "colab": {
          "base_uri": "https://localhost:8080/",
          "height": 122
        },
        "outputId": "e9c58113-b16f-4637-b242-11d2bbe1d496"
      },
      "cell_type": "code",
      "source": [
        "from google.colab import drive\n",
        "drive.mount('/content/gdrive')"
      ],
      "execution_count": 2,
      "outputs": [
        {
          "output_type": "stream",
          "text": [
            "Go to this URL in a browser: https://accounts.google.com/o/oauth2/auth?client_id=947318989803-6bn6qk8qdgf4n4g3pfee6491hc0brc4i.apps.googleusercontent.com&redirect_uri=urn%3Aietf%3Awg%3Aoauth%3A2.0%3Aoob&scope=email%20https%3A%2F%2Fwww.googleapis.com%2Fauth%2Fdocs.test%20https%3A%2F%2Fwww.googleapis.com%2Fauth%2Fdrive%20https%3A%2F%2Fwww.googleapis.com%2Fauth%2Fdrive.photos.readonly%20https%3A%2F%2Fwww.googleapis.com%2Fauth%2Fpeopleapi.readonly&response_type=code\n",
            "\n",
            "Enter your authorization code:\n",
            "··········\n",
            "Mounted at /content/gdrive\n"
          ],
          "name": "stdout"
        }
      ]
    },
    {
      "metadata": {
        "id": "hgKe5GiRBL0f",
        "colab_type": "code",
        "colab": {
          "base_uri": "https://localhost:8080/",
          "height": 54
        },
        "outputId": "e99ba059-004b-4223-9934-f40f9e738924"
      },
      "cell_type": "code",
      "source": [
        "polar_wiki=\"Over the past several decades, Earth’s polar ice caps have gained significant attention because of the alarming decrease in land and sea ice. NASA reports that since the late 1970s, the Arctic has lost an average of 20,800 square miles (53,900 square kilometers) of ice per year while the Antarctic has gained an average of 7,300 square miles (18,900 km2) of ice per year. On September 19, 2014, for the first time since 1979, Antarctic sea ice extent exceeded 7.72 million square miles (20 million square kilometers), according to the National Snow and Ice Data Center. The ice extent stayed above this benchmark extent for several days. The average maximum extent between 1981 and 2010 was 7.23 million square miles (18.72 million square kilometers). The single-day maximum extent in 2014 was reached on Sept. 20, according to NSIDC data, when the sea ice covered 7.78 million square miles (20.14 million square kilometers). The 2014 five-day average maximum was reached on Sept. 22, when sea ice covered 7.76 million square miles (20.11 million square kilometers), according to NSIDC.[5]\"\n",
        "print(polar_wiki)"
      ],
      "execution_count": 100,
      "outputs": [
        {
          "output_type": "stream",
          "text": [
            "Over the past several decades, Earth’s polar ice caps have gained significant attention because of the alarming decrease in land and sea ice. NASA reports that since the late 1970s, the Arctic has lost an average of 20,800 square miles (53,900 square kilometers) of ice per year while the Antarctic has gained an average of 7,300 square miles (18,900 km2) of ice per year. On September 19, 2014, for the first time since 1979, Antarctic sea ice extent exceeded 7.72 million square miles (20 million square kilometers), according to the National Snow and Ice Data Center. The ice extent stayed above this benchmark extent for several days. The average maximum extent between 1981 and 2010 was 7.23 million square miles (18.72 million square kilometers). The single-day maximum extent in 2014 was reached on Sept. 20, according to NSIDC data, when the sea ice covered 7.78 million square miles (20.14 million square kilometers). The 2014 five-day average maximum was reached on Sept. 22, when sea ice covered 7.76 million square miles (20.11 million square kilometers), according to NSIDC.[5]\n"
          ],
          "name": "stdout"
        }
      ]
    },
    {
      "metadata": {
        "id": "u0xwxUclz249",
        "colab_type": "code",
        "colab": {}
      },
      "cell_type": "code",
      "source": [
        "direc = 'gdrive/My Drive/ComputationalTools/'\n",
        "data=[]\n",
        "articles7=[]\n",
        "path = os.path.join(direc,'wiki_00')\n",
        "#print(path)\n",
        "sep =','\n",
        "for line in open(path,'r'):\n",
        "  data.append(json.loads(line))\n",
        "for i in range(0,len(data)-4):\n",
        "  articles7.append(data[i]['text'])\n",
        "Baseart=sep.join(articles7)\n",
        "#print(CleanString(polar_wiki))\n",
        "#print(Baseart)\n",
        "#polar_wiki=CleanString(polar_wiki)\n",
        "Basearttokens=[CleanString(Baseart),CleanString(polar_wiki)]\n",
        "article8=data[7]['text']\n",
        "article10=data[9]['text']\n",
        "#pprint(CleanString(article10))\n",
        "#pprint(Basearttokens)"
      ],
      "execution_count": 0,
      "outputs": []
    },
    {
      "metadata": {
        "id": "mL8PI42H15IJ",
        "colab_type": "code",
        "colab": {}
      },
      "cell_type": "code",
      "source": [
        "stop_words = set(stopwords.words('english'))\n",
        "is_noun = lambda pos: pos[:2] == 'NN'\n",
        "htmlTags = ['ref','www','http','https']\n",
        "def CleanString(wikiText):\n",
        "    tokenizer = nltk.tokenize.RegexpTokenizer(r'\\w+')  \n",
        "    wikiTokens=tokenizer.tokenize(wikiText)\n",
        "    #exclude Stopwords\n",
        "    tokens = [w for w in wikiTokens if w.lower() not in stop_words]\n",
        "    #exclude numbers\n",
        "    tokens = [w for w in tokens if not w.isdigit()]\n",
        "    #extract nouns\n",
        "    tokens = [word for (word, pos) in nltk.pos_tag(tokens) if is_noun(pos)] \n",
        "    #filter for html tags\n",
        "    tokens = [w for w in tokens if w.lower() not in htmlTags] \n",
        "    #set everything to lower case\n",
        "    tokens = [w.lower() for w in tokens]\n",
        "    return tokens"
      ],
      "execution_count": 0,
      "outputs": []
    },
    {
      "metadata": {
        "id": "YF1UyyU1235D",
        "colab_type": "code",
        "colab": {}
      },
      "cell_type": "code",
      "source": [
        "dictionary = corpora.Dictionary(Basearttokens)"
      ],
      "execution_count": 0,
      "outputs": []
    },
    {
      "metadata": {
        "id": "7u_72J1J7qR8",
        "colab_type": "code",
        "colab": {}
      },
      "cell_type": "code",
      "source": [
        "corpus = [dictionary.doc2bow(text) for text in Basearttokens]"
      ],
      "execution_count": 0,
      "outputs": []
    },
    {
      "metadata": {
        "id": "8k2vMwll71Et",
        "colab_type": "code",
        "colab": {}
      },
      "cell_type": "code",
      "source": [
        "#pprint(corpus)\n",
        "lsimodel=LsiModel(corpus=corpus,num_topics=10, id2word=dictionary)"
      ],
      "execution_count": 0,
      "outputs": []
    },
    {
      "metadata": {
        "id": "PHZVOAUb8M_G",
        "colab_type": "code",
        "colab": {
          "base_uri": "https://localhost:8080/",
          "height": 85
        },
        "outputId": "757138cd-7b5e-4af6-df88-72b2be210c97"
      },
      "cell_type": "code",
      "source": [
        "lsimodel.show_topics(num_topics=2)"
      ],
      "execution_count": 109,
      "outputs": [
        {
          "output_type": "execute_result",
          "data": {
            "text/plain": [
              "[(0,\n",
              "  '0.773*\"space\" + 0.333*\"time\" + 0.115*\"objects\" + 0.111*\"world\" + 0.107*\"theory\" + 0.104*\"energy\" + 0.100*\"spaces\" + 0.096*\"leibniz\" + 0.089*\"water\" + 0.081*\"scale\"'),\n",
              " (1,\n",
              "  '-0.572*\"ice\" + -0.429*\"miles\" + -0.357*\"kilometers\" + -0.286*\"sea\" + -0.286*\"extent\" + -0.143*\"antarctic\" + -0.143*\"sept\" + -0.143*\"nsidc\" + -0.143*\"data\" + -0.143*\"year\"')]"
            ]
          },
          "metadata": {
            "tags": []
          },
          "execution_count": 109
        }
      ]
    },
    {
      "metadata": {
        "id": "7wy9glND9wiz",
        "colab_type": "code",
        "colab": {}
      },
      "cell_type": "code",
      "source": [
        "#\n",
        "vec_bow = dictionary.doc2bow(article10.lower().split())"
      ],
      "execution_count": 0,
      "outputs": []
    },
    {
      "metadata": {
        "id": "fNMLJqo09_S1",
        "colab_type": "code",
        "colab": {}
      },
      "cell_type": "code",
      "source": [
        "#pprint(vec_bow)\n",
        "vec_lsi = lsimodel[vec_bow]\n",
        "#pprint(vec_lsi)"
      ],
      "execution_count": 0,
      "outputs": []
    },
    {
      "metadata": {
        "id": "A-gSuwoJ-ZnH",
        "colab_type": "code",
        "colab": {
          "base_uri": "https://localhost:8080/",
          "height": 71
        },
        "outputId": "43114577-a80d-4543-8633-5f78d86151f6"
      },
      "cell_type": "code",
      "source": [
        "index = similarities.MatrixSimilarity(lsimodel[corpus]) # transform corpus to LSI space and index it"
      ],
      "execution_count": 116,
      "outputs": [
        {
          "output_type": "stream",
          "text": [
            "/usr/local/lib/python3.6/dist-packages/gensim/matutils.py:737: FutureWarning: Conversion of the second argument of issubdtype from `int` to `np.signedinteger` is deprecated. In future, it will be treated as `np.int64 == np.dtype(int).type`.\n",
            "  if np.issubdtype(vec.dtype, np.int):\n"
          ],
          "name": "stderr"
        }
      ]
    },
    {
      "metadata": {
        "id": "T7RESOeP-0IY",
        "colab_type": "code",
        "colab": {
          "base_uri": "https://localhost:8080/",
          "height": 34
        },
        "outputId": "dd17bc5e-a3f4-4355-944b-71addbf4686c"
      },
      "cell_type": "code",
      "source": [
        "labels = [\"Basearticle\", \"Polar\"]\n",
        "print(labels)"
      ],
      "execution_count": 125,
      "outputs": [
        {
          "output_type": "stream",
          "text": [
            "['Basearticle', 'Polar']\n"
          ],
          "name": "stdout"
        }
      ]
    },
    {
      "metadata": {
        "id": "PNPxgvm_HP8P",
        "colab_type": "code",
        "colab": {
          "base_uri": "https://localhost:8080/",
          "height": 34
        },
        "outputId": "32441a15-d910-49c9-b997-a94299d64d7f"
      },
      "cell_type": "code",
      "source": [
        "sim = sorted(enumerate(index[vec_lsi]), key=lambda item: -item[1])\n",
        "print(sim)"
      ],
      "execution_count": 123,
      "outputs": [
        {
          "output_type": "stream",
          "text": [
            "[(0, 0.99999464), (1, 0.030029697)]\n"
          ],
          "name": "stdout"
        }
      ]
    },
    {
      "metadata": {
        "id": "pgxbMfbAGuB1",
        "colab_type": "code",
        "colab": {
          "base_uri": "https://localhost:8080/",
          "height": 51
        },
        "outputId": "eabfef14-0069-4081-f47b-8b98ab2fc725"
      },
      "cell_type": "code",
      "source": [
        "for i in range(0,len(sim)):\n",
        "  print(labels[i], sim[i][1])"
      ],
      "execution_count": 129,
      "outputs": [
        {
          "output_type": "stream",
          "text": [
            "Basearticle 0.99999464\n",
            "Polar 0.030029697\n"
          ],
          "name": "stdout"
        }
      ]
    }
  ]
}